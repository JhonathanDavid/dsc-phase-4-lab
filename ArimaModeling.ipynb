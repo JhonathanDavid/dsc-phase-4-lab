{
 "cells": [
  {
   "cell_type": "markdown",
   "metadata": {},
   "source": [
    "# ARIMA CODING"
   ]
  },
  {
   "cell_type": "markdown",
   "metadata": {},
   "source": [
    "I'll be implementing and autoregressive integrated moving average model. An autoregressive integrated moving average mode, or ARIMA, is a statistical analysis model that uses time series data to either better understand the data set or to predict future trends. A statistical model is autoregressive if it predicts future values based on past values. I'll load the libraries and start the process of modeling. I'll build a base model and a second model choosing a best model. As the objective is to find the ZIP Codes in a particular market that predict the best ROI."
   ]
  },
  {
   "cell_type": "markdown",
   "metadata": {},
   "source": [
    "## Loading data sets and libraries"
   ]
  },
  {
   "cell_type": "code",
   "execution_count": 1,
   "metadata": {},
   "outputs": [],
   "source": [
    "#!pip install\n",
    "%store -r df\n",
    "%matplotlib inline"
   ]
  },
  {
   "cell_type": "code",
   "execution_count": 2,
   "metadata": {},
   "outputs": [],
   "source": [
    "#importing libraries\n",
    "import pandas as pd\n",
    "import numpy as np\n",
    "import matplotlib as mpl\n",
    "import matplotlib.pyplot as plt\n",
    "import seaborn as sns\n",
    "import numpy as np\n",
    "\n",
    "\n",
    "## Project Notebook Settings\n",
    "pd.set_option('display.max_columns',0)\n",
    "\n",
    "import warnings\n",
    "warnings.filterwarnings('ignore')\n",
    "\n",
    "plt.style.use('seaborn-notebook')"
   ]
  },
  {
   "cell_type": "code",
   "execution_count": 3,
   "metadata": {},
   "outputs": [
    {
     "data": {
      "text/html": [
       "<div>\n",
       "<style scoped>\n",
       "    .dataframe tbody tr th:only-of-type {\n",
       "        vertical-align: middle;\n",
       "    }\n",
       "\n",
       "    .dataframe tbody tr th {\n",
       "        vertical-align: top;\n",
       "    }\n",
       "\n",
       "    .dataframe thead th {\n",
       "        text-align: right;\n",
       "    }\n",
       "</style>\n",
       "<table border=\"1\" class=\"dataframe\">\n",
       "  <thead>\n",
       "    <tr style=\"text-align: right;\">\n",
       "      <th></th>\n",
       "      <th>Zipcode</th>\n",
       "      <th>ROI_5yr</th>\n",
       "      <th>ROI_3yr</th>\n",
       "      <th>value</th>\n",
       "    </tr>\n",
       "    <tr>\n",
       "      <th>Date</th>\n",
       "      <th></th>\n",
       "      <th></th>\n",
       "      <th></th>\n",
       "      <th></th>\n",
       "    </tr>\n",
       "  </thead>\n",
       "  <tbody>\n",
       "    <tr>\n",
       "      <th>2008-01-01</th>\n",
       "      <td>6606</td>\n",
       "      <td>0.3202</td>\n",
       "      <td>0.2165</td>\n",
       "      <td>252300.0</td>\n",
       "    </tr>\n",
       "    <tr>\n",
       "      <th>2008-01-01</th>\n",
       "      <td>6705</td>\n",
       "      <td>0.0056</td>\n",
       "      <td>0.1964</td>\n",
       "      <td>152500.0</td>\n",
       "    </tr>\n",
       "    <tr>\n",
       "      <th>2008-01-01</th>\n",
       "      <td>6604</td>\n",
       "      <td>0.3141</td>\n",
       "      <td>0.3166</td>\n",
       "      <td>274700.0</td>\n",
       "    </tr>\n",
       "    <tr>\n",
       "      <th>2008-01-01</th>\n",
       "      <td>6610</td>\n",
       "      <td>0.2999</td>\n",
       "      <td>0.3111</td>\n",
       "      <td>216600.0</td>\n",
       "    </tr>\n",
       "    <tr>\n",
       "      <th>2008-01-01</th>\n",
       "      <td>6351</td>\n",
       "      <td>0.1183</td>\n",
       "      <td>0.2234</td>\n",
       "      <td>217300.0</td>\n",
       "    </tr>\n",
       "  </tbody>\n",
       "</table>\n",
       "</div>"
      ],
      "text/plain": [
       "           Zipcode  ROI_5yr  ROI_3yr     value\n",
       "Date                                          \n",
       "2008-01-01    6606   0.3202   0.2165  252300.0\n",
       "2008-01-01    6705   0.0056   0.1964  152500.0\n",
       "2008-01-01    6604   0.3141   0.3166  274700.0\n",
       "2008-01-01    6610   0.2999   0.3111  216600.0\n",
       "2008-01-01    6351   0.1183   0.2234  217300.0"
      ]
     },
     "execution_count": 3,
     "metadata": {},
     "output_type": "execute_result"
    }
   ],
   "source": [
    "#checking the data set\n",
    "df.head(5)"
   ]
  },
  {
   "cell_type": "markdown",
   "metadata": {},
   "source": [
    "### Time Series Process"
   ]
  },
  {
   "cell_type": "markdown",
   "metadata": {},
   "source": [
    "The data set has to be prepared to for modeling. The correct process for managing Time Series correctly includes: \n",
    "1. Grouping the data set and creating a Time Series (TS)\n",
    "2. Converting to Pandas DataFrame and Visualization\n",
    "3. Conceptual Soundness -Set up for Modeling (Understanding Time Series-ACF & PACF, Differencing & Decomposition)\n",
    "4. Stats Models- Visualizing ACF & PACF\n",
    "4. Stats Models- Differencing Detrending Transformation\n",
    "5. Modeling - Predictions and Results"
   ]
  },
  {
   "cell_type": "markdown",
   "metadata": {},
   "source": [
    "### 1. Grouping the data set"
   ]
  },
  {
   "cell_type": "code",
   "execution_count": 4,
   "metadata": {},
   "outputs": [],
   "source": [
    "#Making a Zipcode list\n",
    "#taking the unique ZIP Code values and fitting them to the list\n",
    "zipcode_list = df['Zipcode'].unique().tolist()"
   ]
  },
  {
   "cell_type": "code",
   "execution_count": 5,
   "metadata": {},
   "outputs": [],
   "source": [
    "#Creating a TS (time series) dictionary and loop\n",
    "TS = {}\n",
    "for zipcode in zipcode_list:\n",
    "    temp_df = df.groupby('Zipcode').get_group(zipcode).sort_index()['value']\n",
    "    TS[zipcode] = temp_df #df.loc[district]"
   ]
  },
  {
   "cell_type": "code",
   "execution_count": 6,
   "metadata": {},
   "outputs": [
    {
     "data": {
      "text/plain": [
       "dict_keys(['6606', '6705', '6604', '6610', '6351', '6706', '6359', '6069', '6330', '6039', '6235', '6068', '6796'])"
      ]
     },
     "execution_count": 6,
     "metadata": {},
     "output_type": "execute_result"
    }
   ],
   "source": [
    "#Looking at the keys in the TS dictionary\n",
    "TS.keys()"
   ]
  },
  {
   "cell_type": "code",
   "execution_count": 7,
   "metadata": {},
   "outputs": [
    {
     "data": {
      "text/plain": [
       "Date\n",
       "2008-01-01    152200.0\n",
       "2008-02-01    151200.0\n",
       "2008-03-01    150300.0\n",
       "2008-04-01    149600.0\n",
       "2008-05-01    149200.0\n",
       "                ...   \n",
       "2017-12-01    108900.0\n",
       "2018-01-01    109800.0\n",
       "2018-02-01    109500.0\n",
       "2018-03-01    109000.0\n",
       "2018-04-01    108600.0\n",
       "Name: value, Length: 124, dtype: float64"
      ]
     },
     "execution_count": 7,
     "metadata": {},
     "output_type": "execute_result"
    }
   ],
   "source": [
    "#Looking at ZIP Code 6706 in the dictionary now that ZIP Codes are grouped\n",
    "#note that Date is index, group is the the ZIP Code by descending value\n",
    "TS['6706']"
   ]
  },
  {
   "cell_type": "markdown",
   "metadata": {},
   "source": [
    "### Converting (To Pandas DataFrame)"
   ]
  },
  {
   "cell_type": "markdown",
   "metadata": {},
   "source": [
    "Now we are going to convert and visualize the TS dictionary created and put it into a Pandas DataFrame. The Pandas DataFrame for time series shows from 2008 through 2018 montly values under each of the ZIP Codes."
   ]
  },
  {
   "cell_type": "code",
   "execution_count": 8,
   "metadata": {},
   "outputs": [
    {
     "data": {
      "text/html": [
       "<div>\n",
       "<style scoped>\n",
       "    .dataframe tbody tr th:only-of-type {\n",
       "        vertical-align: middle;\n",
       "    }\n",
       "\n",
       "    .dataframe tbody tr th {\n",
       "        vertical-align: top;\n",
       "    }\n",
       "\n",
       "    .dataframe thead th {\n",
       "        text-align: right;\n",
       "    }\n",
       "</style>\n",
       "<table border=\"1\" class=\"dataframe\">\n",
       "  <thead>\n",
       "    <tr style=\"text-align: right;\">\n",
       "      <th></th>\n",
       "      <th>6606</th>\n",
       "      <th>6705</th>\n",
       "      <th>6604</th>\n",
       "      <th>6610</th>\n",
       "      <th>6351</th>\n",
       "      <th>6706</th>\n",
       "      <th>6359</th>\n",
       "      <th>6069</th>\n",
       "      <th>6330</th>\n",
       "      <th>6039</th>\n",
       "      <th>6235</th>\n",
       "      <th>6068</th>\n",
       "      <th>6796</th>\n",
       "    </tr>\n",
       "    <tr>\n",
       "      <th>Date</th>\n",
       "      <th></th>\n",
       "      <th></th>\n",
       "      <th></th>\n",
       "      <th></th>\n",
       "      <th></th>\n",
       "      <th></th>\n",
       "      <th></th>\n",
       "      <th></th>\n",
       "      <th></th>\n",
       "      <th></th>\n",
       "      <th></th>\n",
       "      <th></th>\n",
       "      <th></th>\n",
       "    </tr>\n",
       "  </thead>\n",
       "  <tbody>\n",
       "    <tr>\n",
       "      <th>2008-01-01</th>\n",
       "      <td>252300.0</td>\n",
       "      <td>152500.0</td>\n",
       "      <td>274700.0</td>\n",
       "      <td>216600.0</td>\n",
       "      <td>217300.0</td>\n",
       "      <td>152200.0</td>\n",
       "      <td>282100.0</td>\n",
       "      <td>436300.0</td>\n",
       "      <td>232100.0</td>\n",
       "      <td>535900.0</td>\n",
       "      <td>228700.0</td>\n",
       "      <td>511000.0</td>\n",
       "      <td>532000.0</td>\n",
       "    </tr>\n",
       "    <tr>\n",
       "      <th>2008-02-01</th>\n",
       "      <td>249500.0</td>\n",
       "      <td>151300.0</td>\n",
       "      <td>271300.0</td>\n",
       "      <td>213100.0</td>\n",
       "      <td>214400.0</td>\n",
       "      <td>151200.0</td>\n",
       "      <td>282000.0</td>\n",
       "      <td>437000.0</td>\n",
       "      <td>230400.0</td>\n",
       "      <td>537700.0</td>\n",
       "      <td>226500.0</td>\n",
       "      <td>512400.0</td>\n",
       "      <td>531800.0</td>\n",
       "    </tr>\n",
       "    <tr>\n",
       "      <th>2008-03-01</th>\n",
       "      <td>247000.0</td>\n",
       "      <td>150200.0</td>\n",
       "      <td>268600.0</td>\n",
       "      <td>210100.0</td>\n",
       "      <td>212800.0</td>\n",
       "      <td>150300.0</td>\n",
       "      <td>282100.0</td>\n",
       "      <td>436300.0</td>\n",
       "      <td>228900.0</td>\n",
       "      <td>538100.0</td>\n",
       "      <td>224400.0</td>\n",
       "      <td>513100.0</td>\n",
       "      <td>530900.0</td>\n",
       "    </tr>\n",
       "    <tr>\n",
       "      <th>2008-04-01</th>\n",
       "      <td>244700.0</td>\n",
       "      <td>149100.0</td>\n",
       "      <td>266600.0</td>\n",
       "      <td>207500.0</td>\n",
       "      <td>212100.0</td>\n",
       "      <td>149600.0</td>\n",
       "      <td>281600.0</td>\n",
       "      <td>434900.0</td>\n",
       "      <td>227800.0</td>\n",
       "      <td>538300.0</td>\n",
       "      <td>222700.0</td>\n",
       "      <td>515400.0</td>\n",
       "      <td>529300.0</td>\n",
       "    </tr>\n",
       "    <tr>\n",
       "      <th>2008-05-01</th>\n",
       "      <td>242400.0</td>\n",
       "      <td>148100.0</td>\n",
       "      <td>264600.0</td>\n",
       "      <td>205100.0</td>\n",
       "      <td>211900.0</td>\n",
       "      <td>149200.0</td>\n",
       "      <td>280500.0</td>\n",
       "      <td>433700.0</td>\n",
       "      <td>226700.0</td>\n",
       "      <td>536700.0</td>\n",
       "      <td>220600.0</td>\n",
       "      <td>518200.0</td>\n",
       "      <td>527400.0</td>\n",
       "    </tr>\n",
       "  </tbody>\n",
       "</table>\n",
       "</div>"
      ],
      "text/plain": [
       "                6606      6705      6604      6610      6351      6706      6359      6069      6330      6039      6235      6068      6796\n",
       "Date                                                                                                                                        \n",
       "2008-01-01  252300.0  152500.0  274700.0  216600.0  217300.0  152200.0  282100.0  436300.0  232100.0  535900.0  228700.0  511000.0  532000.0\n",
       "2008-02-01  249500.0  151300.0  271300.0  213100.0  214400.0  151200.0  282000.0  437000.0  230400.0  537700.0  226500.0  512400.0  531800.0\n",
       "2008-03-01  247000.0  150200.0  268600.0  210100.0  212800.0  150300.0  282100.0  436300.0  228900.0  538100.0  224400.0  513100.0  530900.0\n",
       "2008-04-01  244700.0  149100.0  266600.0  207500.0  212100.0  149600.0  281600.0  434900.0  227800.0  538300.0  222700.0  515400.0  529300.0\n",
       "2008-05-01  242400.0  148100.0  264600.0  205100.0  211900.0  149200.0  280500.0  433700.0  226700.0  536700.0  220600.0  518200.0  527400.0"
      ]
     },
     "execution_count": 8,
     "metadata": {},
     "output_type": "execute_result"
    }
   ],
   "source": [
    "#Converting TS dictionary into Pandas DataFrame calling it ts_df\n",
    "ts_df = pd.DataFrame(TS)\n",
    "ts_df.head()"
   ]
  },
  {
   "cell_type": "markdown",
   "metadata": {},
   "source": [
    "##### Visualizing individual ZIP Code"
   ]
  },
  {
   "cell_type": "code",
   "execution_count": 9,
   "metadata": {},
   "outputs": [],
   "source": [
    "#Zip Code # 6706\n",
    "zipcode = '6706'"
   ]
  },
  {
   "cell_type": "markdown",
   "metadata": {},
   "source": [
    "##### Creating 'ts' data set containing  'ts_df' which is the Pandas Data Frame of the time-series"
   ]
  },
  {
   "cell_type": "code",
   "execution_count": 10,
   "metadata": {},
   "outputs": [
    {
     "data": {
      "image/png": "[encoded data removed]",
      "text/plain": [
       "<Figure size 576x396 with 1 Axes>"
      ]
     },
     "metadata": {
      "needs_background": "light"
     },
     "output_type": "display_data"
    }
   ],
   "source": [
    "#Observing the Time Series\n",
    "ts = ts_df[zipcode].copy()\n",
    "ax = ts.plot()\n",
    "ax.legend()\n",
    "plt.show()"
   ]
  },
  {
   "cell_type": "markdown",
   "metadata": {},
   "source": [
    "With the visualization above we can understand how home values in a ZIP Code have moved month over month and year over year. We are ready to navigate Time-Series deeper and set up for our predicting models. "
   ]
  },
  {
   "cell_type": "markdown",
   "metadata": {},
   "source": [
    "### Set up for Modeling - Conceptual Soundness"
   ]
  },
  {
   "cell_type": "markdown",
   "metadata": {},
   "source": [
    "#### Understanding Time Series, Lags, Components, ACF & PACF"
   ]
  },
  {
   "cell_type": "markdown",
   "metadata": {},
   "source": [
    "##### Components of Time-Series"
   ]
  },
  {
   "cell_type": "markdown",
   "metadata": {},
   "source": [
    "Time Series have major components that can affect the lags or how the lags are shown, such as: \n",
    "- Trend component.\n",
    "- Seasonal component.\n",
    "- Cyclical component.\n",
    "- Irregular component. \n",
    "\n",
    "To make sure that these don't affect the model, the goal is make the trend on these lags more even. In modeling I can then difference the trend or transform the trend to make the lags more even."
   ]
  },
  {
   "cell_type": "markdown",
   "metadata": {},
   "source": [
    "#####  Lags"
   ]
  },
  {
   "cell_type": "markdown",
   "metadata": {},
   "source": [
    "To understand Time-Series we are introduced first to the concept of lags. A lag is the period of time between one time series index and another one. A lag is value of time gap being considered. "
   ]
  },
  {
   "cell_type": "markdown",
   "metadata": {},
   "source": [
    "A lag 1 autocorrelation is the correlation between values that are one time period apart. More generally, a lag k autocorrelation is the correlation between values that are k time periods apart. The number of lags is typically small of 1 or 2 lags. For the purpose of this project,given that this is montly data, my approach is 20 lags (usually the appropriate lags for monthly data is 6, 12 or 24 lags, depending on sufficient data points and for quarterly data, 1 to 8 lags). This concept will play a part in understanding the components of Time-Series. "
   ]
  },
  {
   "cell_type": "markdown",
   "metadata": {},
   "source": [
    "Time series data can exhibit a variety of patterns, and it is often helpful to split a time series into the components explained above, each representing an underlying pattern category. \n",
    "To do this, we have to understand Auto Correlations and Partial Auto Correlations. "
   ]
  },
  {
   "cell_type": "markdown",
   "metadata": {},
   "source": [
    "#### ACF & PACF of Time-Series"
   ]
  },
  {
   "cell_type": "markdown",
   "metadata": {},
   "source": [
    "- ACF"
   ]
  },
  {
   "cell_type": "markdown",
   "metadata": {},
   "source": [
    "Autocorrelation is a measure of how much the data sets at one point in time influences data sets at a later point in time- ACF seeks to identify how correlated the values in a time series are with each other.  "
   ]
  },
  {
   "cell_type": "markdown",
   "metadata": {},
   "source": [
    "The ACF starts at a lag of 0, which is the correlation of the time series with itself and therefore results in a correlation of 1. The ACF plots the correlation coefficient against the lag, which is measured in terms of a number of periods or units. In essence, its a measure of the link between the present and the past, therefore it helps us identify the moving average."
   ]
  },
  {
   "cell_type": "markdown",
   "metadata": {},
   "source": [
    "- PACF"
   ]
  },
  {
   "cell_type": "markdown",
   "metadata": {},
   "source": [
    "Partial Autocorrelation (PACF) is a measure, that can plot the partial correlation coefficients between the series and lags of itself. In general, the \"partial\" correlation between two variables is the amount of correlation between them, which is not explained by their mutual correlations with a specified set of other variables."
   ]
  },
  {
   "cell_type": "markdown",
   "metadata": {},
   "source": [
    "In general, the \"partial\" correlation between two variables is the amount of correlation between them which is not explained by their mutual correlations with a specified set of other variables. PACF therefore helps us identify the Auto regressive order. PACF measures directs effects a.k.a Auto Regressive."
   ]
  },
  {
   "cell_type": "markdown",
   "metadata": {},
   "source": [
    "###### WHAT IS THE DIFFERENCE BETWEEN ACF and PACF ?"
   ]
  },
  {
   "cell_type": "markdown",
   "metadata": {},
   "source": [
    "Partial autocorrelation function (PACF) gives the partial correlation of a stationary time series with its own lagged values, regressed the values of the time series at all shorter lags. It contrasts with the autocorrelation function, which does not control for other lags."
   ]
  },
  {
   "cell_type": "markdown",
   "metadata": {},
   "source": [
    "Both, ACF and PACF can provide valuable insights into the behaviour of time series data. They are often used to decide the number of Autoregressive (AR) and Moving Average (MA) lags for the ARIMA models. Moreover, they can also help detect any seasonality within the data. The correct application and interpretation are essential in extracting useful information from the ACF and PACF plots."
   ]
  },
  {
   "cell_type": "markdown",
   "metadata": {},
   "source": [
    "ACF and PACF can provide valuable insights into the behaviour of time series data. They are often used to decide the number of Autoregressive (AR) and Moving Average (MA) lags for the ARIMA models. Moreover, they can also help detect any seasonality within the data. The correct application and interpretation are essential in extracting useful information from the ACF and PACF plots."
   ]
  },
  {
   "cell_type": "markdown",
   "metadata": {},
   "source": [
    "#### STATS MODELS- Coding for ACF & PACF"
   ]
  },
  {
   "cell_type": "markdown",
   "metadata": {},
   "source": [
    "First, we'll be importing libraries that will help up to this effect followed by plotting and visualization to understand the time-series data."
   ]
  },
  {
   "cell_type": "markdown",
   "metadata": {},
   "source": [
    "#### Importing relevant libraries"
   ]
  },
  {
   "cell_type": "code",
   "execution_count": 11,
   "metadata": {},
   "outputs": [],
   "source": [
    "#For time series decomposition season decompose\n",
    "from statsmodels.tsa.seasonal import seasonal_decompose\n",
    "#Statsmodels for plotting the acf and pacf\n",
    "from statsmodels.graphics.tsaplots import plot_acf,plot_pacf\n",
    "#Pandas plotting import\n",
    "from pandas.plotting import autocorrelation_plot,lag_plot\n",
    "#Defining plot\n",
    "def plot_acf_pacf(ts, figsize=(10,8),lags=24):\n",
    "    \n",
    "    fig,ax = plt.subplots(nrows=3,\n",
    "                          figsize=figsize)\n",
    "    \n",
    "    ## Plot ts\n",
    "    ts.plot(ax=ax[0])\n",
    "    \n",
    "    ## Plot acf, pavf\n",
    "    plot_acf(ts,ax=ax[1],lags=lags)\n",
    "    plot_pacf(ts, ax=ax[2],lags=lags) \n",
    "    fig.tight_layout()\n",
    "    \n",
    "    fig.suptitle(f\"Zipcode: {ts.name}\",y=1.1,fontsize=20)\n",
    "    \n",
    "    for a in ax[1:]:\n",
    "        a.xaxis.set_major_locator(mpl.ticker.MaxNLocator(min_n_ticks=lags, integer=True))\n",
    "        a.xaxis.grid()\n",
    "    return fig,ax"
   ]
  },
  {
   "cell_type": "markdown",
   "metadata": {},
   "source": [
    "#### Plots ACF & PACF"
   ]
  },
  {
   "cell_type": "markdown",
   "metadata": {},
   "source": [
    "My approach with annual data is 20 lags. The number of lags is typically small, 1 or 2 lags. For quarterly data, 1 to 8 lags is appropriate, and for monthly data, 6, 12 or 24 lags can be used given sufficient data points."
   ]
  },
  {
   "cell_type": "code",
   "execution_count": 12,
   "metadata": {},
   "outputs": [
    {
     "data": {
      "image/png": "[encoded data removed]",
      "text/plain": [
       "<Figure size 720x576 with 3 Axes>"
      ]
     },
     "metadata": {
      "needs_background": "light"
     },
     "output_type": "display_data"
    }
   ],
   "source": [
    "plot_acf_pacf(ts,lags=20);"
   ]
  },
  {
   "cell_type": "markdown",
   "metadata": {},
   "source": [
    "##### Next, Differencing- technique to transform time-series"
   ]
  },
  {
   "cell_type": "markdown",
   "metadata": {},
   "source": [
    "### Differencing Transformation"
   ]
  },
  {
   "cell_type": "markdown",
   "metadata": {},
   "source": [
    "Differencing is a technique to transform a non-stationary time series into a stationary one. It involves subtracting the current value of the series from the previous one, or from a lagged value. It can be used to remove the series dependence on time like trends and seasonality. This is an important step in preparing the data used in ARIMA Modeling. To do this we can code a new plot showing the differencing applied. Let's also understand the sub-components of Auto Correlation and Partial Autocorrelation."
   ]
  },
  {
   "cell_type": "markdown",
   "metadata": {},
   "source": [
    "It can be used to remove the series dependence on time like trends and seasonality. This is an important step in preparing the data used in ARIMA Modeling. To do this we can code a new plot showing the differencing applied."
   ]
  },
  {
   "cell_type": "markdown",
   "metadata": {},
   "source": [
    "d= 1 below, is a parameter that refers to the number of differencing transformations required by the time series to get stationary.\n",
    "By making the time series stationary I have basically made the mean and variance constant over time. It is easier to predict when the series is stationary."
   ]
  },
  {
   "cell_type": "code",
   "execution_count": 13,
   "metadata": {},
   "outputs": [
    {
     "data": {
      "image/png": "[encoded data removed]",
      "text/plain": [
       "<Figure size 720x576 with 3 Axes>"
      ]
     },
     "metadata": {
      "needs_background": "light"
     },
     "output_type": "display_data"
    }
   ],
   "source": [
    "#Coding ts.diff Differencing\n",
    "d = 1\n",
    "plot_acf_pacf(ts.diff(d).dropna(),lags=20);"
   ]
  },
  {
   "cell_type": "markdown",
   "metadata": {},
   "source": [
    "**Above we have detrended the series. I can now select parameters and run the first model.**"
   ]
  },
  {
   "cell_type": "markdown",
   "metadata": {},
   "source": [
    "Both of these functions (ACF and PACF) measure how correlated the data at time t is to its past values t-1,t-2,… There is one crucial difference, however. The ACF also measures indirect correlation up to the lag in question, while PCAF does not."
   ]
  },
  {
   "cell_type": "markdown",
   "metadata": {},
   "source": [
    "### Modeling "
   ]
  },
  {
   "cell_type": "markdown",
   "metadata": {},
   "source": [
    "I'll be doing 2 models, one with selected parameters (I'll explain those parameters), and the second one with parameters provided by the model finding best parameters."
   ]
  },
  {
   "cell_type": "markdown",
   "metadata": {},
   "source": [
    "#### Selecting Parameters"
   ]
  },
  {
   "cell_type": "markdown",
   "metadata": {},
   "source": [
    "ARIMA models are made up of three different parameters or terms:\n",
    "\n",
    "\n",
    "- d: The degree of differencing. Is a parameter that refers to the number of differencing transformations required by the time series to get stationary.\n",
    "- p: The order of the auto-regressive (AR) model (i.e., the number of lag observations). A time series is considered AR when previous values in the time series are very predictive of later values. \n",
    "- q: The order of the moving average (MA) model. This is essentially the size of the “window” function over time series data. "
   ]
  },
  {
   "cell_type": "markdown",
   "metadata": {},
   "source": [
    "### Model 1"
   ]
  },
  {
   "cell_type": "markdown",
   "metadata": {},
   "source": [
    "##### Selecting parameters"
   ]
  },
  {
   "cell_type": "code",
   "execution_count": 14,
   "metadata": {},
   "outputs": [],
   "source": [
    "# selected params\n",
    "#d of 1. Number of differencing transformations to make the ts stationary\n",
    "d = 1\n",
    "#p of 1. Order of Auto Regressive model (number of lags)\n",
    "p = 1\n",
    "#q of 1. Order of Moving Average. The \"window sizes\" of the time series data\n",
    "q = 1"
   ]
  },
  {
   "cell_type": "markdown",
   "metadata": {},
   "source": [
    "##### Train Test Split"
   ]
  },
  {
   "cell_type": "code",
   "execution_count": 15,
   "metadata": {},
   "outputs": [
    {
     "data": {
      "image/png": "[encoded data removed]",
      "text/plain": [
       "<Figure size 576x396 with 1 Axes>"
      ]
     },
     "metadata": {
      "needs_background": "light"
     },
     "output_type": "display_data"
    }
   ],
   "source": [
    "#selecting a training size\n",
    "train_size = 0.8\n",
    "#multiply train size by len of ts\n",
    "split_idx = round(len(ts)* train_size)\n",
    "split_idx\n",
    "\n",
    "## split train/test for train 80% and test 20%\n",
    "train = ts.iloc[:split_idx]\n",
    "test = ts.iloc[split_idx:]\n",
    "\n",
    "## Visualize split\n",
    "fig,ax= plt.subplots()\n",
    "kws = dict(ax=ax,marker='o')\n",
    "train.plot(**kws)\n",
    "test.plot(**kws)\n",
    "ax.legend(bbox_to_anchor=[1,1])\n",
    "plt.show()"
   ]
  },
  {
   "cell_type": "markdown",
   "metadata": {},
   "source": [
    "Above, we see this ZIP Code's train test split"
   ]
  },
  {
   "cell_type": "markdown",
   "metadata": {},
   "source": [
    "###### Running Model on Statsmodels (SARIMAX)"
   ]
  },
  {
   "cell_type": "markdown",
   "metadata": {},
   "source": [
    "SARIMAX, is an extension of the ARIMA class of models. ARIMA models compose 2 parts: the autoregressive term (AR) and the moving-average term (MA). AR views the value at one time just as a weighted sum of past values. The MA model takes that same value also as a weighted sum but of past residuals. Overall, ARIMA is a very good model. However, it cannot handle seasonality, thus SARIMAX is used in this model."
   ]
  },
  {
   "cell_type": "markdown",
   "metadata": {},
   "source": [
    "##### Applying SARIMAX Model to Train data"
   ]
  },
  {
   "cell_type": "code",
   "execution_count": 16,
   "metadata": {},
   "outputs": [
    {
     "name": "stderr",
     "output_type": "stream",
     "text": [
      "/Users/jonax/opt/anaconda3/envs/learn-env/lib/python3.8/site-packages/statsmodels/tsa/base/tsa_model.py:473: ValueWarning: No frequency information was provided, so inferred frequency MS will be used.\n",
      "  self._init_dates(dates, freq)\n",
      "/Users/jonax/opt/anaconda3/envs/learn-env/lib/python3.8/site-packages/statsmodels/tsa/base/tsa_model.py:473: ValueWarning: No frequency information was provided, so inferred frequency MS will be used.\n",
      "  self._init_dates(dates, freq)\n"
     ]
    },
    {
     "data": {
      "text/html": [
       "<table class=\"simpletable\">\n",
       "<caption>SARIMAX Results</caption>\n",
       "<tr>\n",
       "  <th>Dep. Variable:</th>         <td>6706</td>       <th>  No. Observations:  </th>    <td>99</td>   \n",
       "</tr>\n",
       "<tr>\n",
       "  <th>Model:</th>           <td>SARIMAX(1, 1, 1)</td> <th>  Log Likelihood     </th> <td>-833.096</td>\n",
       "</tr>\n",
       "<tr>\n",
       "  <th>Date:</th>            <td>Thu, 06 Jul 2023</td> <th>  AIC                </th> <td>1672.192</td>\n",
       "</tr>\n",
       "<tr>\n",
       "  <th>Time:</th>                <td>14:38:28</td>     <th>  BIC                </th> <td>1679.947</td>\n",
       "</tr>\n",
       "<tr>\n",
       "  <th>Sample:</th>             <td>01-01-2008</td>    <th>  HQIC               </th> <td>1675.329</td>\n",
       "</tr>\n",
       "<tr>\n",
       "  <th></th>                   <td>- 03-01-2016</td>   <th>                     </th>     <td> </td>   \n",
       "</tr>\n",
       "<tr>\n",
       "  <th>Covariance Type:</th>        <td>opg</td>       <th>                     </th>     <td> </td>   \n",
       "</tr>\n",
       "</table>\n",
       "<table class=\"simpletable\">\n",
       "<tr>\n",
       "     <td></td>       <th>coef</th>     <th>std err</th>      <th>z</th>      <th>P>|z|</th>  <th>[0.025</th>    <th>0.975]</th>  \n",
       "</tr>\n",
       "<tr>\n",
       "  <th>ar.L1</th>  <td>    0.9769</td> <td>    0.010</td> <td>   97.349</td> <td> 0.000</td> <td>    0.957</td> <td>    0.997</td>\n",
       "</tr>\n",
       "<tr>\n",
       "  <th>ma.L1</th>  <td>   -0.9999</td> <td>    0.101</td> <td>   -9.903</td> <td> 0.000</td> <td>   -1.198</td> <td>   -0.802</td>\n",
       "</tr>\n",
       "<tr>\n",
       "  <th>sigma2</th> <td> 1.558e+06</td> <td> 6.13e-08</td> <td> 2.54e+13</td> <td> 0.000</td> <td> 1.56e+06</td> <td> 1.56e+06</td>\n",
       "</tr>\n",
       "</table>\n",
       "<table class=\"simpletable\">\n",
       "<tr>\n",
       "  <th>Ljung-Box (L1) (Q):</th>     <td>74.21</td> <th>  Jarque-Bera (JB):  </th> <td>38.95</td>\n",
       "</tr>\n",
       "<tr>\n",
       "  <th>Prob(Q):</th>                <td>0.00</td>  <th>  Prob(JB):          </th> <td>0.00</td> \n",
       "</tr>\n",
       "<tr>\n",
       "  <th>Heteroskedasticity (H):</th> <td>9.74</td>  <th>  Skew:              </th> <td>-0.95</td>\n",
       "</tr>\n",
       "<tr>\n",
       "  <th>Prob(H) (two-sided):</th>    <td>0.00</td>  <th>  Kurtosis:          </th> <td>5.44</td> \n",
       "</tr>\n",
       "</table><br/><br/>Warnings:<br/>[1] Covariance matrix calculated using the outer product of gradients (complex-step).<br/>[2] Covariance matrix is singular or near-singular, with condition number 1.99e+28. Standard errors may be unstable."
      ],
      "text/latex": [
       "\\begin{center}\n",
       "\\begin{tabular}{lclc}\n",
       "\\toprule\n",
       "\\textbf{Dep. Variable:}          &       6706       & \\textbf{  No. Observations:  } &     99      \\\\\n",
       "\\textbf{Model:}                  & SARIMAX(1, 1, 1) & \\textbf{  Log Likelihood     } &  -833.096   \\\\\n",
       "\\textbf{Date:}                   & Thu, 06 Jul 2023 & \\textbf{  AIC                } &  1672.192   \\\\\n",
       "\\textbf{Time:}                   &     14:38:28     & \\textbf{  BIC                } &  1679.947   \\\\\n",
       "\\textbf{Sample:}                 &    01-01-2008    & \\textbf{  HQIC               } &  1675.329   \\\\\n",
       "\\textbf{}                        &   - 03-01-2016   & \\textbf{                     } &             \\\\\n",
       "\\textbf{Covariance Type:}        &       opg        & \\textbf{                     } &             \\\\\n",
       "\\bottomrule\n",
       "\\end{tabular}\n",
       "\\begin{tabular}{lcccccc}\n",
       "                & \\textbf{coef} & \\textbf{std err} & \\textbf{z} & \\textbf{P$> |$z$|$} & \\textbf{[0.025} & \\textbf{0.975]}  \\\\\n",
       "\\midrule\n",
       "\\textbf{ar.L1}  &       0.9769  &        0.010     &    97.349  &         0.000        &        0.957    &        0.997     \\\\\n",
       "\\textbf{ma.L1}  &      -0.9999  &        0.101     &    -9.903  &         0.000        &       -1.198    &       -0.802     \\\\\n",
       "\\textbf{sigma2} &    1.558e+06  &     6.13e-08     &  2.54e+13  &         0.000        &     1.56e+06    &     1.56e+06     \\\\\n",
       "\\bottomrule\n",
       "\\end{tabular}\n",
       "\\begin{tabular}{lclc}\n",
       "\\textbf{Ljung-Box (L1) (Q):}     & 74.21 & \\textbf{  Jarque-Bera (JB):  } & 38.95  \\\\\n",
       "\\textbf{Prob(Q):}                &  0.00 & \\textbf{  Prob(JB):          } &  0.00  \\\\\n",
       "\\textbf{Heteroskedasticity (H):} &  9.74 & \\textbf{  Skew:              } & -0.95  \\\\\n",
       "\\textbf{Prob(H) (two-sided):}    &  0.00 & \\textbf{  Kurtosis:          } &  5.44  \\\\\n",
       "\\bottomrule\n",
       "\\end{tabular}\n",
       "%\\caption{SARIMAX Results}\n",
       "\\end{center}\n",
       "\n",
       "Warnings: \\newline\n",
       " [1] Covariance matrix calculated using the outer product of gradients (complex-step). \\newline\n",
       " [2] Covariance matrix is singular or near-singular, with condition number 1.99e+28. Standard errors may be unstable."
      ],
      "text/plain": [
       "<class 'statsmodels.iolib.summary.Summary'>\n",
       "\"\"\"\n",
       "                               SARIMAX Results                                \n",
       "==============================================================================\n",
       "Dep. Variable:                   6706   No. Observations:                   99\n",
       "Model:               SARIMAX(1, 1, 1)   Log Likelihood                -833.096\n",
       "Date:                Thu, 06 Jul 2023   AIC                           1672.192\n",
       "Time:                        14:38:28   BIC                           1679.947\n",
       "Sample:                    01-01-2008   HQIC                          1675.329\n",
       "                         - 03-01-2016                                         \n",
       "Covariance Type:                  opg                                         \n",
       "==============================================================================\n",
       "                 coef    std err          z      P>|z|      [0.025      0.975]\n",
       "------------------------------------------------------------------------------\n",
       "ar.L1          0.9769      0.010     97.349      0.000       0.957       0.997\n",
       "ma.L1         -0.9999      0.101     -9.903      0.000      -1.198      -0.802\n",
       "sigma2      1.558e+06   6.13e-08   2.54e+13      0.000    1.56e+06    1.56e+06\n",
       "===================================================================================\n",
       "Ljung-Box (L1) (Q):                  74.21   Jarque-Bera (JB):                38.95\n",
       "Prob(Q):                              0.00   Prob(JB):                         0.00\n",
       "Heteroskedasticity (H):               9.74   Skew:                            -0.95\n",
       "Prob(H) (two-sided):                  0.00   Kurtosis:                         5.44\n",
       "===================================================================================\n",
       "\n",
       "Warnings:\n",
       "[1] Covariance matrix calculated using the outer product of gradients (complex-step).\n",
       "[2] Covariance matrix is singular or near-singular, with condition number 1.99e+28. Standard errors may be unstable.\n",
       "\"\"\""
      ]
     },
     "metadata": {},
     "output_type": "display_data"
    },
    {
     "data": {
      "image/png": "[encoded data removed]",
      "text/plain": [
       "<Figure size 576x396 with 4 Axes>"
      ]
     },
     "metadata": {
      "needs_background": "light"
     },
     "output_type": "display_data"
    }
   ],
   "source": [
    "#Using SARIMAX because it is better to use on seasonal data \n",
    "from statsmodels.tsa.statespace.sarimax import SARIMAX\n",
    "\n",
    "## Baseline model from eye-balled params\n",
    "model = SARIMAX(train,order=(p,d,q),).fit()\n",
    "display(model.summary())\n",
    "model.plot_diagnostics();\n",
    "plt.show()"
   ]
  },
  {
   "cell_type": "markdown",
   "metadata": {},
   "source": [
    "##### Understanding Charts Above"
   ]
  },
  {
   "cell_type": "markdown",
   "metadata": {},
   "source": [
    "- Quantile Plots: "
   ]
  },
  {
   "cell_type": "markdown",
   "metadata": {},
   "source": [
    "Commonly known as Q-Q Plots, It helps answer the question: \"if the set of observations approximately normally distributed?\". It is a plot of the quantiles of the first data set against the quantiles of the second data set (Sample vs. Theoritical in this case).  Shows you how reliable predictions are within standard deviations. Our Mean Price, is fairly good at predictions within value. "
   ]
  },
  {
   "cell_type": "markdown",
   "metadata": {},
   "source": [
    "- Histogram plus Estimated Density (KDE)"
   ]
  },
  {
   "cell_type": "markdown",
   "metadata": {},
   "source": [
    " Undelying distribution for this data. Created bins for the data, and count the number of values creating a histogram. The KDE is the smooth out continous version of that data distribution. Allowing to estimate the probability density function. And the PDF, allows us to find the chances that the value of a random variable will occur within a range of values that you specify. More specifically, a PDF is a function where its integral for an interval provides the probability of a value occurring in that interval."
   ]
  },
  {
   "cell_type": "markdown",
   "metadata": {},
   "source": [
    "- Correlogram"
   ]
  },
  {
   "cell_type": "markdown",
   "metadata": {},
   "source": [
    "A correlogram is a plot of autocorrelations . In time series data, looking at correlations between succesive correlations over time, that are periods apart (it can be 1 period or several periods apart)/For example a data group or point that you observe a month ago or a point you observed two months ago. The horizontal axis is the timeline. The blue shadows are the thresholds. The bars above the shadows are autocorrelations that are statistically significant, it is not 0 and they are related."
   ]
  },
  {
   "cell_type": "markdown",
   "metadata": {},
   "source": [
    "It answers the question: 1) Is that Data Random? It is when not all points are above threshold. 2) Is there a trend in the data? There will be a trend, when the autocorrelations coeffiecient do not fall below the critical upper limit (upper limit) at any lag . If there is a trend the data is not stationary. "
   ]
  },
  {
   "cell_type": "code",
   "execution_count": 17,
   "metadata": {},
   "outputs": [
    {
     "data": {
      "text/plain": [
       "25"
      ]
     },
     "execution_count": 17,
     "metadata": {},
     "output_type": "execute_result"
    }
   ],
   "source": [
    "#Checking for the len of test\n",
    "len(test)"
   ]
  },
  {
   "cell_type": "markdown",
   "metadata": {},
   "source": [
    "##### Forecasting on Test Data"
   ]
  },
  {
   "cell_type": "code",
   "execution_count": 18,
   "metadata": {},
   "outputs": [],
   "source": [
    "#Importing Library\n",
    "from sklearn import metrics\n",
    "\n",
    "#Obtaining forecast tools and set forecast code on the testing data\n",
    "forecast = model.get_forecast(steps=len(test))"
   ]
  },
  {
   "cell_type": "code",
   "execution_count": 19,
   "metadata": {},
   "outputs": [],
   "source": [
    "#Defining Forecast and applying it to data set test on predicted mean\n",
    "def forecast_to_df(forecast,zipcode):\n",
    "    test_pred = forecast.conf_int()\n",
    "    test_pred[zipcode] = forecast.predicted_mean\n",
    "    test_pred.columns = ['lower','upper','prediction']\n",
    "    return test_pred\n",
    "\n",
    "\n",
    "pred_df = forecast_to_df(forecast,zipcode)"
   ]
  },
  {
   "cell_type": "markdown",
   "metadata": {},
   "source": [
    "###### Plotting Model 1"
   ]
  },
  {
   "cell_type": "code",
   "execution_count": 20,
   "metadata": {},
   "outputs": [],
   "source": [
    "#Defining Plot\n",
    "def plot_train_test_pred(train,test,pred_df):\n",
    "    fig,ax = plt.subplots()\n",
    "    kws = dict(marker='o')\n",
    "    \n",
    "    ax.plot(train,label='Train',**kws)\n",
    "    ax.plot(test,label='Test',**kws)\n",
    "    ax.plot(pred_df['prediction'],label='prediction',ls='--',**kws)\n",
    "\n",
    "    ax.fill_between(x=pred_df.index,y1=pred_df['lower'],y2=pred_df['upper'])\n",
    "    ax.legend(bbox_to_anchor=[1,1])\n",
    "    fig.tight_layout()\n",
    "    return fig,ax"
   ]
  },
  {
   "cell_type": "code",
   "execution_count": 21,
   "metadata": {},
   "outputs": [
    {
     "data": {
      "image/png": "[encoded data removed]",
      "text/plain": [
       "<Figure size 576x396 with 1 Axes>"
      ]
     },
     "metadata": {
      "needs_background": "light"
     },
     "output_type": "display_data"
    }
   ],
   "source": [
    "plot_train_test_pred(train,test,pred_df)\n",
    "plt.show()"
   ]
  },
  {
   "cell_type": "markdown",
   "metadata": {},
   "source": [
    "#### Conclusion on Model 1"
   ]
  },
  {
   "cell_type": "markdown",
   "metadata": {},
   "source": [
    "A flat prediction line once we run the model. Let's update the parameters and find optimal parameters for prediction."
   ]
  },
  {
   "cell_type": "markdown",
   "metadata": {},
   "source": [
    "### Model 2"
   ]
  },
  {
   "cell_type": "markdown",
   "metadata": {},
   "source": [
    "##### Finding optimal parameters"
   ]
  },
  {
   "cell_type": "markdown",
   "metadata": {},
   "source": [
    "I want to identify the optimal parameters for my model. Pmdarima's auto_arima function is very useful when building an ARIMA model as it helps us identify the most optimal p,d,q parameters and return a fitted model."
   ]
  },
  {
   "cell_type": "code",
   "execution_count": 22,
   "metadata": {},
   "outputs": [],
   "source": [
    "#@!pip install pmdarima"
   ]
  },
  {
   "cell_type": "code",
   "execution_count": 23,
   "metadata": {},
   "outputs": [],
   "source": [
    "#importing libraries\n",
    "from pmdarima.arima import auto_arima"
   ]
  },
  {
   "cell_type": "markdown",
   "metadata": {},
   "source": [
    "##### Applying to Train Data"
   ]
  },
  {
   "cell_type": "code",
   "execution_count": 24,
   "metadata": {},
   "outputs": [
    {
     "data": {
      "text/html": [
       "<table class=\"simpletable\">\n",
       "<caption>SARIMAX Results</caption>\n",
       "<tr>\n",
       "  <th>Dep. Variable:</th>           <td>y</td>        <th>  No. Observations:  </th>    <td>99</td>   \n",
       "</tr>\n",
       "<tr>\n",
       "  <th>Model:</th>           <td>SARIMAX(0, 1, 0)</td> <th>  Log Likelihood     </th> <td>-833.565</td>\n",
       "</tr>\n",
       "<tr>\n",
       "  <th>Date:</th>            <td>Thu, 06 Jul 2023</td> <th>  AIC                </th> <td>1671.131</td>\n",
       "</tr>\n",
       "<tr>\n",
       "  <th>Time:</th>                <td>14:38:35</td>     <th>  BIC                </th> <td>1676.301</td>\n",
       "</tr>\n",
       "<tr>\n",
       "  <th>Sample:</th>             <td>01-01-2008</td>    <th>  HQIC               </th> <td>1673.222</td>\n",
       "</tr>\n",
       "<tr>\n",
       "  <th></th>                   <td>- 03-01-2016</td>   <th>                     </th>     <td> </td>   \n",
       "</tr>\n",
       "<tr>\n",
       "  <th>Covariance Type:</th>        <td>opg</td>       <th>                     </th>     <td> </td>   \n",
       "</tr>\n",
       "</table>\n",
       "<table class=\"simpletable\">\n",
       "<tr>\n",
       "      <td></td>         <th>coef</th>     <th>std err</th>      <th>z</th>      <th>P>|z|</th>  <th>[0.025</th>    <th>0.975]</th>  \n",
       "</tr>\n",
       "<tr>\n",
       "  <th>intercept</th> <td> -581.6327</td> <td>  121.477</td> <td>   -4.788</td> <td> 0.000</td> <td> -819.723</td> <td> -343.542</td>\n",
       "</tr>\n",
       "<tr>\n",
       "  <th>sigma2</th>    <td> 1.431e+06</td> <td>  1.6e+05</td> <td>    8.956</td> <td> 0.000</td> <td> 1.12e+06</td> <td> 1.74e+06</td>\n",
       "</tr>\n",
       "</table>\n",
       "<table class=\"simpletable\">\n",
       "<tr>\n",
       "  <th>Ljung-Box (L1) (Q):</th>     <td>75.43</td> <th>  Jarque-Bera (JB):  </th> <td>7.58</td> \n",
       "</tr>\n",
       "<tr>\n",
       "  <th>Prob(Q):</th>                <td>0.00</td>  <th>  Prob(JB):          </th> <td>0.02</td> \n",
       "</tr>\n",
       "<tr>\n",
       "  <th>Heteroskedasticity (H):</th> <td>7.58</td>  <th>  Skew:              </th> <td>-0.19</td>\n",
       "</tr>\n",
       "<tr>\n",
       "  <th>Prob(H) (two-sided):</th>    <td>0.00</td>  <th>  Kurtosis:          </th> <td>4.31</td> \n",
       "</tr>\n",
       "</table><br/><br/>Warnings:<br/>[1] Covariance matrix calculated using the outer product of gradients (complex-step)."
      ],
      "text/latex": [
       "\\begin{center}\n",
       "\\begin{tabular}{lclc}\n",
       "\\toprule\n",
       "\\textbf{Dep. Variable:}          &        y         & \\textbf{  No. Observations:  } &     99      \\\\\n",
       "\\textbf{Model:}                  & SARIMAX(0, 1, 0) & \\textbf{  Log Likelihood     } &  -833.565   \\\\\n",
       "\\textbf{Date:}                   & Thu, 06 Jul 2023 & \\textbf{  AIC                } &  1671.131   \\\\\n",
       "\\textbf{Time:}                   &     14:38:35     & \\textbf{  BIC                } &  1676.301   \\\\\n",
       "\\textbf{Sample:}                 &    01-01-2008    & \\textbf{  HQIC               } &  1673.222   \\\\\n",
       "\\textbf{}                        &   - 03-01-2016   & \\textbf{                     } &             \\\\\n",
       "\\textbf{Covariance Type:}        &       opg        & \\textbf{                     } &             \\\\\n",
       "\\bottomrule\n",
       "\\end{tabular}\n",
       "\\begin{tabular}{lcccccc}\n",
       "                   & \\textbf{coef} & \\textbf{std err} & \\textbf{z} & \\textbf{P$> |$z$|$} & \\textbf{[0.025} & \\textbf{0.975]}  \\\\\n",
       "\\midrule\n",
       "\\textbf{intercept} &    -581.6327  &      121.477     &    -4.788  &         0.000        &     -819.723    &     -343.542     \\\\\n",
       "\\textbf{sigma2}    &    1.431e+06  &      1.6e+05     &     8.956  &         0.000        &     1.12e+06    &     1.74e+06     \\\\\n",
       "\\bottomrule\n",
       "\\end{tabular}\n",
       "\\begin{tabular}{lclc}\n",
       "\\textbf{Ljung-Box (L1) (Q):}     & 75.43 & \\textbf{  Jarque-Bera (JB):  } &  7.58  \\\\\n",
       "\\textbf{Prob(Q):}                &  0.00 & \\textbf{  Prob(JB):          } &  0.02  \\\\\n",
       "\\textbf{Heteroskedasticity (H):} &  7.58 & \\textbf{  Skew:              } & -0.19  \\\\\n",
       "\\textbf{Prob(H) (two-sided):}    &  0.00 & \\textbf{  Kurtosis:          } &  4.31  \\\\\n",
       "\\bottomrule\n",
       "\\end{tabular}\n",
       "%\\caption{SARIMAX Results}\n",
       "\\end{center}\n",
       "\n",
       "Warnings: \\newline\n",
       " [1] Covariance matrix calculated using the outer product of gradients (complex-step)."
      ],
      "text/plain": [
       "<class 'statsmodels.iolib.summary.Summary'>\n",
       "\"\"\"\n",
       "                               SARIMAX Results                                \n",
       "==============================================================================\n",
       "Dep. Variable:                      y   No. Observations:                   99\n",
       "Model:               SARIMAX(0, 1, 0)   Log Likelihood                -833.565\n",
       "Date:                Thu, 06 Jul 2023   AIC                           1671.131\n",
       "Time:                        14:38:35   BIC                           1676.301\n",
       "Sample:                    01-01-2008   HQIC                          1673.222\n",
       "                         - 03-01-2016                                         \n",
       "Covariance Type:                  opg                                         \n",
       "==============================================================================\n",
       "                 coef    std err          z      P>|z|      [0.025      0.975]\n",
       "------------------------------------------------------------------------------\n",
       "intercept   -581.6327    121.477     -4.788      0.000    -819.723    -343.542\n",
       "sigma2      1.431e+06    1.6e+05      8.956      0.000    1.12e+06    1.74e+06\n",
       "===================================================================================\n",
       "Ljung-Box (L1) (Q):                  75.43   Jarque-Bera (JB):                 7.58\n",
       "Prob(Q):                              0.00   Prob(JB):                         0.02\n",
       "Heteroskedasticity (H):               7.58   Skew:                            -0.19\n",
       "Prob(H) (two-sided):                  0.00   Kurtosis:                         4.31\n",
       "===================================================================================\n",
       "\n",
       "Warnings:\n",
       "[1] Covariance matrix calculated using the outer product of gradients (complex-step).\n",
       "\"\"\""
      ]
     },
     "metadata": {},
     "output_type": "display_data"
    },
    {
     "data": {
      "image/png": "[encoded data removed]",
      "text/plain": [
       "<Figure size 576x396 with 4 Axes>"
      ]
     },
     "metadata": {
      "needs_background": "light"
     },
     "output_type": "display_data"
    }
   ],
   "source": [
    "auto_model = auto_arima(train,start_p=0,start_q=0)\n",
    "display(auto_model.summary())\n",
    "auto_model.plot_diagnostics();"
   ]
  },
  {
   "cell_type": "markdown",
   "metadata": {},
   "source": []
  },
  {
   "cell_type": "code",
   "execution_count": 25,
   "metadata": {},
   "outputs": [
    {
     "data": {
      "text/plain": [
       "DatetimeIndex(['2016-03-31', '2016-04-30', '2016-05-31', '2016-06-30',\n",
       "               '2016-07-31', '2016-08-31', '2016-09-30', '2016-10-31',\n",
       "               '2016-11-30', '2016-12-31'],\n",
       "              dtype='datetime64[ns]', freq='M')"
      ]
     },
     "execution_count": 25,
     "metadata": {},
     "output_type": "execute_result"
    }
   ],
   "source": [
    "#organize panda data frame into date range , with 10 periods, frequency by month\n",
    "pd.date_range(train.index[-1], periods=10,freq='M')\n"
   ]
  },
  {
   "cell_type": "markdown",
   "metadata": {},
   "source": [
    "Date ranges (pd.date_range) is like a \"date ruler\". You have a start and end time, the frequency of how I'd like to split the dates by. "
   ]
  },
  {
   "cell_type": "code",
   "execution_count": 26,
   "metadata": {},
   "outputs": [
    {
     "data": {
      "text/plain": [
       "DatetimeIndex(['2008-01-01', '2008-02-01', '2008-03-01', '2008-04-01',\n",
       "               '2008-05-01', '2008-06-01', '2008-07-01', '2008-08-01',\n",
       "               '2008-09-01', '2008-10-01', '2008-11-01', '2008-12-01',\n",
       "               '2009-01-01', '2009-02-01', '2009-03-01', '2009-04-01',\n",
       "               '2009-05-01', '2009-06-01', '2009-07-01', '2009-08-01',\n",
       "               '2009-09-01', '2009-10-01', '2009-11-01', '2009-12-01',\n",
       "               '2010-01-01', '2010-02-01', '2010-03-01', '2010-04-01',\n",
       "               '2010-05-01', '2010-06-01', '2010-07-01', '2010-08-01',\n",
       "               '2010-09-01', '2010-10-01', '2010-11-01', '2010-12-01',\n",
       "               '2011-01-01', '2011-02-01', '2011-03-01', '2011-04-01',\n",
       "               '2011-05-01', '2011-06-01', '2011-07-01', '2011-08-01',\n",
       "               '2011-09-01', '2011-10-01', '2011-11-01', '2011-12-01',\n",
       "               '2012-01-01', '2012-02-01', '2012-03-01', '2012-04-01',\n",
       "               '2012-05-01', '2012-06-01', '2012-07-01', '2012-08-01',\n",
       "               '2012-09-01', '2012-10-01', '2012-11-01', '2012-12-01',\n",
       "               '2013-01-01', '2013-02-01', '2013-03-01', '2013-04-01',\n",
       "               '2013-05-01', '2013-06-01', '2013-07-01', '2013-08-01',\n",
       "               '2013-09-01', '2013-10-01', '2013-11-01', '2013-12-01',\n",
       "               '2014-01-01', '2014-02-01', '2014-03-01', '2014-04-01',\n",
       "               '2014-05-01', '2014-06-01', '2014-07-01', '2014-08-01',\n",
       "               '2014-09-01', '2014-10-01', '2014-11-01', '2014-12-01',\n",
       "               '2015-01-01', '2015-02-01', '2015-03-01', '2015-04-01',\n",
       "               '2015-05-01', '2015-06-01', '2015-07-01', '2015-08-01',\n",
       "               '2015-09-01', '2015-10-01', '2015-11-01', '2015-12-01',\n",
       "               '2016-01-01', '2016-02-01', '2016-03-01'],\n",
       "              dtype='datetime64[ns]', name='Date', freq=None)"
      ]
     },
     "execution_count": 26,
     "metadata": {},
     "output_type": "execute_result"
    }
   ],
   "source": [
    "#showing the index of train data\n",
    "train.index"
   ]
  },
  {
   "cell_type": "code",
   "execution_count": 27,
   "metadata": {},
   "outputs": [
    {
     "data": {
      "text/plain": [
       "2016-04-01    94618.367347\n",
       "2016-05-01    94036.734694\n",
       "2016-06-01    93455.102041\n",
       "2016-07-01    92873.469388\n",
       "2016-08-01    92291.836735\n",
       "2016-09-01    91710.204082\n",
       "2016-10-01    91128.571429\n",
       "2016-11-01    90546.938776\n",
       "2016-12-01    89965.306122\n",
       "2017-01-01    89383.673469\n",
       "Freq: MS, dtype: float64"
      ]
     },
     "execution_count": 27,
     "metadata": {},
     "output_type": "execute_result"
    }
   ],
   "source": [
    "#predictive models mean \n",
    "pred_mean,pred_conf_int = auto_model.predict(return_conf_int=True)\n",
    "pred_mean"
   ]
  },
  {
   "cell_type": "markdown",
   "metadata": {},
   "source": [
    "#### GridSearch Hyperparameter"
   ]
  },
  {
   "cell_type": "markdown",
   "metadata": {},
   "source": [
    "Grid search\n",
    "The traditional way of performing hyperparameter optimization has been grid search, or a parameter sweep, which is simply an exhaustive searching through a manually specified subset of the hyperparameter space of a learning algorithm. A grid search algorithm must be guided by some performance metric, typically measured by cross-validation on the training set or evaluation on a hold-out validation set."
   ]
  },
  {
   "cell_type": "code",
   "execution_count": 28,
   "metadata": {},
   "outputs": [
    {
     "data": {
      "text/html": [
       "<div>\n",
       "<style scoped>\n",
       "    .dataframe tbody tr th:only-of-type {\n",
       "        vertical-align: middle;\n",
       "    }\n",
       "\n",
       "    .dataframe tbody tr th {\n",
       "        vertical-align: top;\n",
       "    }\n",
       "\n",
       "    .dataframe thead th {\n",
       "        text-align: right;\n",
       "    }\n",
       "</style>\n",
       "<table border=\"1\" class=\"dataframe\">\n",
       "  <thead>\n",
       "    <tr style=\"text-align: right;\">\n",
       "      <th></th>\n",
       "      <th>pred</th>\n",
       "      <th>conf_int_lower</th>\n",
       "      <th>conf_int_upper</th>\n",
       "    </tr>\n",
       "  </thead>\n",
       "  <tbody>\n",
       "    <tr>\n",
       "      <th>2016-04-30</th>\n",
       "      <td>NaN</td>\n",
       "      <td>92274.031616</td>\n",
       "      <td>96962.703077</td>\n",
       "    </tr>\n",
       "    <tr>\n",
       "      <th>2016-05-31</th>\n",
       "      <td>NaN</td>\n",
       "      <td>90721.343309</td>\n",
       "      <td>97352.126079</td>\n",
       "    </tr>\n",
       "    <tr>\n",
       "      <th>2016-06-30</th>\n",
       "      <td>NaN</td>\n",
       "      <td>89394.593446</td>\n",
       "      <td>97515.610636</td>\n",
       "    </tr>\n",
       "    <tr>\n",
       "      <th>2016-07-31</th>\n",
       "      <td>NaN</td>\n",
       "      <td>88184.797927</td>\n",
       "      <td>97562.140849</td>\n",
       "    </tr>\n",
       "    <tr>\n",
       "      <th>2016-08-31</th>\n",
       "      <td>NaN</td>\n",
       "      <td>87049.742679</td>\n",
       "      <td>97533.930790</td>\n",
       "    </tr>\n",
       "    <tr>\n",
       "      <th>2016-09-30</th>\n",
       "      <td>NaN</td>\n",
       "      <td>85967.777756</td>\n",
       "      <td>97452.630407</td>\n",
       "    </tr>\n",
       "    <tr>\n",
       "      <th>2016-10-31</th>\n",
       "      <td>NaN</td>\n",
       "      <td>84926.042096</td>\n",
       "      <td>97331.100761</td>\n",
       "    </tr>\n",
       "    <tr>\n",
       "      <th>2016-11-30</th>\n",
       "      <td>NaN</td>\n",
       "      <td>83916.156006</td>\n",
       "      <td>97177.721545</td>\n",
       "    </tr>\n",
       "    <tr>\n",
       "      <th>2016-12-31</th>\n",
       "      <td>NaN</td>\n",
       "      <td>82932.298931</td>\n",
       "      <td>96998.313314</td>\n",
       "    </tr>\n",
       "    <tr>\n",
       "      <th>2017-01-31</th>\n",
       "      <td>NaN</td>\n",
       "      <td>81970.232961</td>\n",
       "      <td>96797.113978</td>\n",
       "    </tr>\n",
       "  </tbody>\n",
       "</table>\n",
       "</div>"
      ],
      "text/plain": [
       "            pred  conf_int_lower  conf_int_upper\n",
       "2016-04-30   NaN    92274.031616    96962.703077\n",
       "2016-05-31   NaN    90721.343309    97352.126079\n",
       "2016-06-30   NaN    89394.593446    97515.610636\n",
       "2016-07-31   NaN    88184.797927    97562.140849\n",
       "2016-08-31   NaN    87049.742679    97533.930790\n",
       "2016-09-30   NaN    85967.777756    97452.630407\n",
       "2016-10-31   NaN    84926.042096    97331.100761\n",
       "2016-11-30   NaN    83916.156006    97177.721545\n",
       "2016-12-31   NaN    82932.298931    96998.313314\n",
       "2017-01-31   NaN    81970.232961    96797.113978"
      ]
     },
     "execution_count": 28,
     "metadata": {},
     "output_type": "execute_result"
    }
   ],
   "source": [
    "#Grid Parameters\n",
    "pred_df = pd.DataFrame({'pred':pred_mean, \n",
    "                        'conf_int_lower':pred_conf_int[:,0],\n",
    "                        'conf_int_upper':pred_conf_int[:,1]},\n",
    "                        index= pd.date_range(test.index[0],\n",
    "                                                  periods=10,freq='M'))\n",
    "# auto_model.conf_int()\n",
    "pred_df"
   ]
  },
  {
   "cell_type": "code",
   "execution_count": 29,
   "metadata": {},
   "outputs": [
    {
     "data": {
      "text/plain": [
       "Timestamp('2016-03-01 00:00:00')"
      ]
     },
     "execution_count": 29,
     "metadata": {},
     "output_type": "execute_result"
    }
   ],
   "source": [
    "train.index[-1]"
   ]
  },
  {
   "cell_type": "code",
   "execution_count": 30,
   "metadata": {},
   "outputs": [
    {
     "data": {
      "text/plain": [
       "{'maxiter': 50,\n",
       " 'method': 'lbfgs',\n",
       " 'order': (0, 1, 0),\n",
       " 'out_of_sample_size': 0,\n",
       " 'scoring': 'mse',\n",
       " 'scoring_args': {},\n",
       " 'seasonal_order': (0, 0, 0, 0),\n",
       " 'start_params': None,\n",
       " 'suppress_warnings': True,\n",
       " 'trend': None,\n",
       " 'with_intercept': True}"
      ]
     },
     "execution_count": 30,
     "metadata": {},
     "output_type": "execute_result"
    }
   ],
   "source": [
    "auto_model.get_params()"
   ]
  },
  {
   "cell_type": "markdown",
   "metadata": {},
   "source": [
    "##### Mean Square Error (Test)"
   ]
  },
  {
   "cell_type": "code",
   "execution_count": 31,
   "metadata": {},
   "outputs": [],
   "source": [
    "from sklearn.metrics import mean_squared_error\n",
    "from math import sqrt"
   ]
  },
  {
   "cell_type": "code",
   "execution_count": 32,
   "metadata": {},
   "outputs": [],
   "source": [
    "auto_model = auto_arima(test, m=12)"
   ]
  },
  {
   "cell_type": "code",
   "execution_count": 33,
   "metadata": {},
   "outputs": [
    {
     "name": "stdout",
     "output_type": "stream",
     "text": [
      "<class 'pandas.core.series.Series'>\n",
      "DatetimeIndex: 25 entries, 2016-04-01 to 2018-04-01\n",
      "Series name: 6706\n",
      "Non-Null Count  Dtype  \n",
      "--------------  -----  \n",
      "25 non-null     float64\n",
      "dtypes: float64(1)\n",
      "memory usage: 400.0 bytes\n"
     ]
    }
   ],
   "source": [
    "test.info()"
   ]
  },
  {
   "cell_type": "code",
   "execution_count": 34,
   "metadata": {},
   "outputs": [
    {
     "data": {
      "text/plain": [
       "DatetimeIndex(['2016-04-30', '2016-05-31', '2016-06-30', '2016-07-31',\n",
       "               '2016-08-31', '2016-09-30', '2016-10-31', '2016-11-30',\n",
       "               '2016-12-31', '2017-01-31', '2017-02-28', '2017-03-31',\n",
       "               '2017-04-30', '2017-05-31', '2017-06-30', '2017-07-31',\n",
       "               '2017-08-31', '2017-09-30', '2017-10-31', '2017-11-30',\n",
       "               '2017-12-31', '2018-01-31', '2018-02-28', '2018-03-31',\n",
       "               '2018-04-30'],\n",
       "              dtype='datetime64[ns]', freq='M')"
      ]
     },
     "execution_count": 34,
     "metadata": {},
     "output_type": "execute_result"
    }
   ],
   "source": [
    "#organize panda data frame into date range , with 25 periods, frequency by month\n",
    "pd.date_range(test.index[0], periods=25,freq='M')"
   ]
  },
  {
   "cell_type": "code",
   "execution_count": 35,
   "metadata": {},
   "outputs": [
    {
     "name": "stdout",
     "output_type": "stream",
     "text": [
      "<class 'pandas.core.frame.DataFrame'>\n",
      "RangeIndex: 25 entries, 0 to 24\n",
      "Data columns (total 2 columns):\n",
      " #   Column  Non-Null Count  Dtype         \n",
      "---  ------  --------------  -----         \n",
      " 0   Date    25 non-null     datetime64[ns]\n",
      " 1   6706    25 non-null     float64       \n",
      "dtypes: datetime64[ns](1), float64(1)\n",
      "memory usage: 528.0 bytes\n"
     ]
    }
   ],
   "source": [
    "#showing test index\n",
    "test_df = test.reset_index()\n",
    "test_df= test_df.rename(columns= {'index': 'Date'})\n",
    "test_df.head()\n",
    "test_df.info()"
   ]
  },
  {
   "cell_type": "code",
   "execution_count": 36,
   "metadata": {},
   "outputs": [
    {
     "data": {
      "text/plain": [
       "Date\n",
       "2016-04-01    95400.0\n",
       "2016-05-01    95700.0\n",
       "2016-06-01    96800.0\n",
       "2016-07-01    98400.0\n",
       "2016-08-01    99700.0\n",
       "Name: 6706, dtype: float64"
      ]
     },
     "execution_count": 36,
     "metadata": {},
     "output_type": "execute_result"
    }
   ],
   "source": [
    "test.head()"
   ]
  },
  {
   "cell_type": "code",
   "execution_count": 37,
   "metadata": {},
   "outputs": [
    {
     "data": {
      "text/plain": [
       "Timestamp('2018-04-01 00:00:00')"
      ]
     },
     "execution_count": 37,
     "metadata": {},
     "output_type": "execute_result"
    }
   ],
   "source": [
    "test.index[-1]"
   ]
  },
  {
   "cell_type": "code",
   "execution_count": 38,
   "metadata": {},
   "outputs": [
    {
     "data": {
      "text/html": [
       "<div>\n",
       "<style scoped>\n",
       "    .dataframe tbody tr th:only-of-type {\n",
       "        vertical-align: middle;\n",
       "    }\n",
       "\n",
       "    .dataframe tbody tr th {\n",
       "        vertical-align: top;\n",
       "    }\n",
       "\n",
       "    .dataframe thead th {\n",
       "        text-align: right;\n",
       "    }\n",
       "</style>\n",
       "<table border=\"1\" class=\"dataframe\">\n",
       "  <thead>\n",
       "    <tr style=\"text-align: right;\">\n",
       "      <th></th>\n",
       "      <th>6706</th>\n",
       "    </tr>\n",
       "    <tr>\n",
       "      <th>Date</th>\n",
       "      <th></th>\n",
       "    </tr>\n",
       "  </thead>\n",
       "  <tbody>\n",
       "    <tr>\n",
       "      <th>2016-04-01</th>\n",
       "      <td>95400.0</td>\n",
       "    </tr>\n",
       "    <tr>\n",
       "      <th>2016-05-01</th>\n",
       "      <td>95700.0</td>\n",
       "    </tr>\n",
       "    <tr>\n",
       "      <th>2016-06-01</th>\n",
       "      <td>96800.0</td>\n",
       "    </tr>\n",
       "    <tr>\n",
       "      <th>2016-07-01</th>\n",
       "      <td>98400.0</td>\n",
       "    </tr>\n",
       "    <tr>\n",
       "      <th>2016-08-01</th>\n",
       "      <td>99700.0</td>\n",
       "    </tr>\n",
       "    <tr>\n",
       "      <th>2016-09-01</th>\n",
       "      <td>100500.0</td>\n",
       "    </tr>\n",
       "    <tr>\n",
       "      <th>2016-10-01</th>\n",
       "      <td>100300.0</td>\n",
       "    </tr>\n",
       "    <tr>\n",
       "      <th>2016-11-01</th>\n",
       "      <td>98300.0</td>\n",
       "    </tr>\n",
       "    <tr>\n",
       "      <th>2016-12-01</th>\n",
       "      <td>96400.0</td>\n",
       "    </tr>\n",
       "    <tr>\n",
       "      <th>2017-01-01</th>\n",
       "      <td>96700.0</td>\n",
       "    </tr>\n",
       "    <tr>\n",
       "      <th>2017-02-01</th>\n",
       "      <td>99500.0</td>\n",
       "    </tr>\n",
       "    <tr>\n",
       "      <th>2017-03-01</th>\n",
       "      <td>101900.0</td>\n",
       "    </tr>\n",
       "    <tr>\n",
       "      <th>2017-04-01</th>\n",
       "      <td>102800.0</td>\n",
       "    </tr>\n",
       "    <tr>\n",
       "      <th>2017-05-01</th>\n",
       "      <td>103000.0</td>\n",
       "    </tr>\n",
       "    <tr>\n",
       "      <th>2017-06-01</th>\n",
       "      <td>102900.0</td>\n",
       "    </tr>\n",
       "    <tr>\n",
       "      <th>2017-07-01</th>\n",
       "      <td>102600.0</td>\n",
       "    </tr>\n",
       "    <tr>\n",
       "      <th>2017-08-01</th>\n",
       "      <td>102700.0</td>\n",
       "    </tr>\n",
       "    <tr>\n",
       "      <th>2017-09-01</th>\n",
       "      <td>103600.0</td>\n",
       "    </tr>\n",
       "    <tr>\n",
       "      <th>2017-10-01</th>\n",
       "      <td>105100.0</td>\n",
       "    </tr>\n",
       "    <tr>\n",
       "      <th>2017-11-01</th>\n",
       "      <td>107200.0</td>\n",
       "    </tr>\n",
       "    <tr>\n",
       "      <th>2017-12-01</th>\n",
       "      <td>108900.0</td>\n",
       "    </tr>\n",
       "    <tr>\n",
       "      <th>2018-01-01</th>\n",
       "      <td>109800.0</td>\n",
       "    </tr>\n",
       "    <tr>\n",
       "      <th>2018-02-01</th>\n",
       "      <td>109500.0</td>\n",
       "    </tr>\n",
       "    <tr>\n",
       "      <th>2018-03-01</th>\n",
       "      <td>109000.0</td>\n",
       "    </tr>\n",
       "    <tr>\n",
       "      <th>2018-04-01</th>\n",
       "      <td>108600.0</td>\n",
       "    </tr>\n",
       "  </tbody>\n",
       "</table>\n",
       "</div>"
      ],
      "text/plain": [
       "                6706\n",
       "Date                \n",
       "2016-04-01   95400.0\n",
       "2016-05-01   95700.0\n",
       "2016-06-01   96800.0\n",
       "2016-07-01   98400.0\n",
       "2016-08-01   99700.0\n",
       "2016-09-01  100500.0\n",
       "2016-10-01  100300.0\n",
       "2016-11-01   98300.0\n",
       "2016-12-01   96400.0\n",
       "2017-01-01   96700.0\n",
       "2017-02-01   99500.0\n",
       "2017-03-01  101900.0\n",
       "2017-04-01  102800.0\n",
       "2017-05-01  103000.0\n",
       "2017-06-01  102900.0\n",
       "2017-07-01  102600.0\n",
       "2017-08-01  102700.0\n",
       "2017-09-01  103600.0\n",
       "2017-10-01  105100.0\n",
       "2017-11-01  107200.0\n",
       "2017-12-01  108900.0\n",
       "2018-01-01  109800.0\n",
       "2018-02-01  109500.0\n",
       "2018-03-01  109000.0\n",
       "2018-04-01  108600.0"
      ]
     },
     "execution_count": 38,
     "metadata": {},
     "output_type": "execute_result"
    }
   ],
   "source": [
    "test_df.set_index('Date')"
   ]
  },
  {
   "cell_type": "code",
   "execution_count": 39,
   "metadata": {},
   "outputs": [
    {
     "data": {
      "text/html": [
       "<div>\n",
       "<style scoped>\n",
       "    .dataframe tbody tr th:only-of-type {\n",
       "        vertical-align: middle;\n",
       "    }\n",
       "\n",
       "    .dataframe tbody tr th {\n",
       "        vertical-align: top;\n",
       "    }\n",
       "\n",
       "    .dataframe thead th {\n",
       "        text-align: right;\n",
       "    }\n",
       "</style>\n",
       "<table border=\"1\" class=\"dataframe\">\n",
       "  <thead>\n",
       "    <tr style=\"text-align: right;\">\n",
       "      <th></th>\n",
       "      <th>Date</th>\n",
       "      <th>6706</th>\n",
       "    </tr>\n",
       "  </thead>\n",
       "  <tbody>\n",
       "    <tr>\n",
       "      <th>0</th>\n",
       "      <td>2018-05-01</td>\n",
       "      <td>109150.0</td>\n",
       "    </tr>\n",
       "    <tr>\n",
       "      <th>1</th>\n",
       "      <td>2018-06-01</td>\n",
       "      <td>109700.0</td>\n",
       "    </tr>\n",
       "    <tr>\n",
       "      <th>2</th>\n",
       "      <td>2018-07-01</td>\n",
       "      <td>110250.0</td>\n",
       "    </tr>\n",
       "    <tr>\n",
       "      <th>3</th>\n",
       "      <td>2018-08-01</td>\n",
       "      <td>110800.0</td>\n",
       "    </tr>\n",
       "    <tr>\n",
       "      <th>4</th>\n",
       "      <td>2018-09-01</td>\n",
       "      <td>111350.0</td>\n",
       "    </tr>\n",
       "  </tbody>\n",
       "</table>\n",
       "</div>"
      ],
      "text/plain": [
       "        Date      6706\n",
       "0 2018-05-01  109150.0\n",
       "1 2018-06-01  109700.0\n",
       "2 2018-07-01  110250.0\n",
       "3 2018-08-01  110800.0\n",
       "4 2018-09-01  111350.0"
      ]
     },
     "execution_count": 39,
     "metadata": {},
     "output_type": "execute_result"
    }
   ],
   "source": [
    "#predictive models mean \n",
    "pred_mean_test,pred_conf_int = auto_model.predict(return_conf_int=True)\n",
    "pred_test_df= pred_mean_test.reset_index() \n",
    "pred_test_df= pred_test_df.rename(columns= {'index': 'Date'})\n",
    "pred_test_df= pred_test_df.rename(columns= {0: '6706'})\n",
    "pred_test_df.head()\n"
   ]
  },
  {
   "cell_type": "code",
   "execution_count": 40,
   "metadata": {},
   "outputs": [
    {
     "name": "stdout",
     "output_type": "stream",
     "text": [
      "[[106855.22336598 111444.77663402]\n",
      " [106454.69576155 112945.30423845]\n",
      " [106275.33027786 114224.66972214]\n",
      " [106210.44673196 115389.55326804]\n",
      " [106218.72345316 116481.27654684]\n",
      " [106278.96817299 117521.03182701]\n",
      " [106378.59171195 118521.40828805]\n",
      " [106509.39152311 119490.60847689]\n",
      " [106665.67009795 120434.32990205]\n",
      " [106843.27911517 121356.72088483]]\n"
     ]
    }
   ],
   "source": [
    "print (pred_conf_int)"
   ]
  },
  {
   "cell_type": "code",
   "execution_count": 41,
   "metadata": {},
   "outputs": [
    {
     "data": {
      "text/html": [
       "<div>\n",
       "<style scoped>\n",
       "    .dataframe tbody tr th:only-of-type {\n",
       "        vertical-align: middle;\n",
       "    }\n",
       "\n",
       "    .dataframe tbody tr th {\n",
       "        vertical-align: top;\n",
       "    }\n",
       "\n",
       "    .dataframe thead th {\n",
       "        text-align: right;\n",
       "    }\n",
       "</style>\n",
       "<table border=\"1\" class=\"dataframe\">\n",
       "  <thead>\n",
       "    <tr style=\"text-align: right;\">\n",
       "      <th></th>\n",
       "      <th>6706</th>\n",
       "    </tr>\n",
       "    <tr>\n",
       "      <th>Date</th>\n",
       "      <th></th>\n",
       "    </tr>\n",
       "  </thead>\n",
       "  <tbody>\n",
       "    <tr>\n",
       "      <th>2018-05-01</th>\n",
       "      <td>109150.0</td>\n",
       "    </tr>\n",
       "    <tr>\n",
       "      <th>2018-06-01</th>\n",
       "      <td>109700.0</td>\n",
       "    </tr>\n",
       "    <tr>\n",
       "      <th>2018-07-01</th>\n",
       "      <td>110250.0</td>\n",
       "    </tr>\n",
       "    <tr>\n",
       "      <th>2018-08-01</th>\n",
       "      <td>110800.0</td>\n",
       "    </tr>\n",
       "    <tr>\n",
       "      <th>2018-09-01</th>\n",
       "      <td>111350.0</td>\n",
       "    </tr>\n",
       "    <tr>\n",
       "      <th>2018-10-01</th>\n",
       "      <td>111900.0</td>\n",
       "    </tr>\n",
       "    <tr>\n",
       "      <th>2018-11-01</th>\n",
       "      <td>112450.0</td>\n",
       "    </tr>\n",
       "    <tr>\n",
       "      <th>2018-12-01</th>\n",
       "      <td>113000.0</td>\n",
       "    </tr>\n",
       "    <tr>\n",
       "      <th>2019-01-01</th>\n",
       "      <td>113550.0</td>\n",
       "    </tr>\n",
       "    <tr>\n",
       "      <th>2019-02-01</th>\n",
       "      <td>114100.0</td>\n",
       "    </tr>\n",
       "  </tbody>\n",
       "</table>\n",
       "</div>"
      ],
      "text/plain": [
       "                6706\n",
       "Date                \n",
       "2018-05-01  109150.0\n",
       "2018-06-01  109700.0\n",
       "2018-07-01  110250.0\n",
       "2018-08-01  110800.0\n",
       "2018-09-01  111350.0\n",
       "2018-10-01  111900.0\n",
       "2018-11-01  112450.0\n",
       "2018-12-01  113000.0\n",
       "2019-01-01  113550.0\n",
       "2019-02-01  114100.0"
      ]
     },
     "execution_count": 41,
     "metadata": {},
     "output_type": "execute_result"
    }
   ],
   "source": [
    "pred_test_df.set_index('Date')"
   ]
  },
  {
   "cell_type": "code",
   "execution_count": 42,
   "metadata": {},
   "outputs": [
    {
     "name": "stdout",
     "output_type": "stream",
     "text": [
      "<class 'pandas.core.frame.DataFrame'>\n",
      "RangeIndex: 10 entries, 0 to 9\n",
      "Data columns (total 2 columns):\n",
      " #   Column  Non-Null Count  Dtype         \n",
      "---  ------  --------------  -----         \n",
      " 0   Date    10 non-null     datetime64[ns]\n",
      " 1   6706    10 non-null     float64       \n",
      "dtypes: datetime64[ns](1), float64(1)\n",
      "memory usage: 288.0 bytes\n"
     ]
    }
   ],
   "source": [
    "pred_test_df.info()"
   ]
  },
  {
   "cell_type": "code",
   "execution_count": 43,
   "metadata": {},
   "outputs": [
    {
     "data": {
      "text/plain": [
       "DatetimeIndex(['2018-05-31', '2018-06-30', '2018-07-31', '2018-08-31',\n",
       "               '2018-09-30', '2018-10-31', '2018-11-30', '2018-12-31',\n",
       "               '2019-01-31', '2019-02-28', '2019-03-31', '2019-04-30',\n",
       "               '2019-05-31', '2019-06-30', '2019-07-31', '2019-08-31',\n",
       "               '2019-09-30', '2019-10-31', '2019-11-30', '2019-12-31',\n",
       "               '2020-01-31', '2020-02-29', '2020-03-31', '2020-04-30',\n",
       "               '2020-05-31'],\n",
       "              dtype='datetime64[ns]', freq='M')"
      ]
     },
     "execution_count": 43,
     "metadata": {},
     "output_type": "execute_result"
    }
   ],
   "source": [
    "pd.date_range(pred_mean_test.index[0], periods=25,freq='M')"
   ]
  },
  {
   "cell_type": "code",
   "execution_count": 44,
   "metadata": {},
   "outputs": [
    {
     "data": {
      "text/plain": [
       "_merge\n",
       "left_only     25\n",
       "right_only    10\n",
       "both           0\n",
       "Name: count, dtype: int64"
      ]
     },
     "execution_count": 44,
     "metadata": {},
     "output_type": "execute_result"
    }
   ],
   "source": [
    "test_df.merge(pred_test_df, how= 'outer', indicator= True)._merge.value_counts()"
   ]
  },
  {
   "cell_type": "code",
   "execution_count": 45,
   "metadata": {},
   "outputs": [],
   "source": [
    "mse_df= test_df.merge(pred_test_df, how= 'outer', indicator= True)"
   ]
  },
  {
   "cell_type": "code",
   "execution_count": 46,
   "metadata": {},
   "outputs": [
    {
     "data": {
      "text/html": [
       "<div>\n",
       "<style scoped>\n",
       "    .dataframe tbody tr th:only-of-type {\n",
       "        vertical-align: middle;\n",
       "    }\n",
       "\n",
       "    .dataframe tbody tr th {\n",
       "        vertical-align: top;\n",
       "    }\n",
       "\n",
       "    .dataframe thead th {\n",
       "        text-align: right;\n",
       "    }\n",
       "</style>\n",
       "<table border=\"1\" class=\"dataframe\">\n",
       "  <thead>\n",
       "    <tr style=\"text-align: right;\">\n",
       "      <th></th>\n",
       "      <th>6706</th>\n",
       "      <th>_merge</th>\n",
       "    </tr>\n",
       "    <tr>\n",
       "      <th>Date</th>\n",
       "      <th></th>\n",
       "      <th></th>\n",
       "    </tr>\n",
       "  </thead>\n",
       "  <tbody>\n",
       "    <tr>\n",
       "      <th>2016-04-01</th>\n",
       "      <td>95400.0</td>\n",
       "      <td>left_only</td>\n",
       "    </tr>\n",
       "    <tr>\n",
       "      <th>2016-05-01</th>\n",
       "      <td>95700.0</td>\n",
       "      <td>left_only</td>\n",
       "    </tr>\n",
       "    <tr>\n",
       "      <th>2016-06-01</th>\n",
       "      <td>96800.0</td>\n",
       "      <td>left_only</td>\n",
       "    </tr>\n",
       "    <tr>\n",
       "      <th>2016-07-01</th>\n",
       "      <td>98400.0</td>\n",
       "      <td>left_only</td>\n",
       "    </tr>\n",
       "    <tr>\n",
       "      <th>2016-08-01</th>\n",
       "      <td>99700.0</td>\n",
       "      <td>left_only</td>\n",
       "    </tr>\n",
       "    <tr>\n",
       "      <th>2016-09-01</th>\n",
       "      <td>100500.0</td>\n",
       "      <td>left_only</td>\n",
       "    </tr>\n",
       "    <tr>\n",
       "      <th>2016-10-01</th>\n",
       "      <td>100300.0</td>\n",
       "      <td>left_only</td>\n",
       "    </tr>\n",
       "    <tr>\n",
       "      <th>2016-11-01</th>\n",
       "      <td>98300.0</td>\n",
       "      <td>left_only</td>\n",
       "    </tr>\n",
       "    <tr>\n",
       "      <th>2016-12-01</th>\n",
       "      <td>96400.0</td>\n",
       "      <td>left_only</td>\n",
       "    </tr>\n",
       "    <tr>\n",
       "      <th>2017-01-01</th>\n",
       "      <td>96700.0</td>\n",
       "      <td>left_only</td>\n",
       "    </tr>\n",
       "    <tr>\n",
       "      <th>2017-02-01</th>\n",
       "      <td>99500.0</td>\n",
       "      <td>left_only</td>\n",
       "    </tr>\n",
       "    <tr>\n",
       "      <th>2017-03-01</th>\n",
       "      <td>101900.0</td>\n",
       "      <td>left_only</td>\n",
       "    </tr>\n",
       "    <tr>\n",
       "      <th>2017-04-01</th>\n",
       "      <td>102800.0</td>\n",
       "      <td>left_only</td>\n",
       "    </tr>\n",
       "    <tr>\n",
       "      <th>2017-05-01</th>\n",
       "      <td>103000.0</td>\n",
       "      <td>left_only</td>\n",
       "    </tr>\n",
       "    <tr>\n",
       "      <th>2017-06-01</th>\n",
       "      <td>102900.0</td>\n",
       "      <td>left_only</td>\n",
       "    </tr>\n",
       "    <tr>\n",
       "      <th>2017-07-01</th>\n",
       "      <td>102600.0</td>\n",
       "      <td>left_only</td>\n",
       "    </tr>\n",
       "    <tr>\n",
       "      <th>2017-08-01</th>\n",
       "      <td>102700.0</td>\n",
       "      <td>left_only</td>\n",
       "    </tr>\n",
       "    <tr>\n",
       "      <th>2017-09-01</th>\n",
       "      <td>103600.0</td>\n",
       "      <td>left_only</td>\n",
       "    </tr>\n",
       "    <tr>\n",
       "      <th>2017-10-01</th>\n",
       "      <td>105100.0</td>\n",
       "      <td>left_only</td>\n",
       "    </tr>\n",
       "    <tr>\n",
       "      <th>2017-11-01</th>\n",
       "      <td>107200.0</td>\n",
       "      <td>left_only</td>\n",
       "    </tr>\n",
       "    <tr>\n",
       "      <th>2017-12-01</th>\n",
       "      <td>108900.0</td>\n",
       "      <td>left_only</td>\n",
       "    </tr>\n",
       "    <tr>\n",
       "      <th>2018-01-01</th>\n",
       "      <td>109800.0</td>\n",
       "      <td>left_only</td>\n",
       "    </tr>\n",
       "    <tr>\n",
       "      <th>2018-02-01</th>\n",
       "      <td>109500.0</td>\n",
       "      <td>left_only</td>\n",
       "    </tr>\n",
       "    <tr>\n",
       "      <th>2018-03-01</th>\n",
       "      <td>109000.0</td>\n",
       "      <td>left_only</td>\n",
       "    </tr>\n",
       "    <tr>\n",
       "      <th>2018-04-01</th>\n",
       "      <td>108600.0</td>\n",
       "      <td>left_only</td>\n",
       "    </tr>\n",
       "    <tr>\n",
       "      <th>2018-05-01</th>\n",
       "      <td>109150.0</td>\n",
       "      <td>right_only</td>\n",
       "    </tr>\n",
       "    <tr>\n",
       "      <th>2018-06-01</th>\n",
       "      <td>109700.0</td>\n",
       "      <td>right_only</td>\n",
       "    </tr>\n",
       "    <tr>\n",
       "      <th>2018-07-01</th>\n",
       "      <td>110250.0</td>\n",
       "      <td>right_only</td>\n",
       "    </tr>\n",
       "    <tr>\n",
       "      <th>2018-08-01</th>\n",
       "      <td>110800.0</td>\n",
       "      <td>right_only</td>\n",
       "    </tr>\n",
       "    <tr>\n",
       "      <th>2018-09-01</th>\n",
       "      <td>111350.0</td>\n",
       "      <td>right_only</td>\n",
       "    </tr>\n",
       "    <tr>\n",
       "      <th>2018-10-01</th>\n",
       "      <td>111900.0</td>\n",
       "      <td>right_only</td>\n",
       "    </tr>\n",
       "    <tr>\n",
       "      <th>2018-11-01</th>\n",
       "      <td>112450.0</td>\n",
       "      <td>right_only</td>\n",
       "    </tr>\n",
       "    <tr>\n",
       "      <th>2018-12-01</th>\n",
       "      <td>113000.0</td>\n",
       "      <td>right_only</td>\n",
       "    </tr>\n",
       "    <tr>\n",
       "      <th>2019-01-01</th>\n",
       "      <td>113550.0</td>\n",
       "      <td>right_only</td>\n",
       "    </tr>\n",
       "    <tr>\n",
       "      <th>2019-02-01</th>\n",
       "      <td>114100.0</td>\n",
       "      <td>right_only</td>\n",
       "    </tr>\n",
       "  </tbody>\n",
       "</table>\n",
       "</div>"
      ],
      "text/plain": [
       "                6706      _merge\n",
       "Date                            \n",
       "2016-04-01   95400.0   left_only\n",
       "2016-05-01   95700.0   left_only\n",
       "2016-06-01   96800.0   left_only\n",
       "2016-07-01   98400.0   left_only\n",
       "2016-08-01   99700.0   left_only\n",
       "2016-09-01  100500.0   left_only\n",
       "2016-10-01  100300.0   left_only\n",
       "2016-11-01   98300.0   left_only\n",
       "2016-12-01   96400.0   left_only\n",
       "2017-01-01   96700.0   left_only\n",
       "2017-02-01   99500.0   left_only\n",
       "2017-03-01  101900.0   left_only\n",
       "2017-04-01  102800.0   left_only\n",
       "2017-05-01  103000.0   left_only\n",
       "2017-06-01  102900.0   left_only\n",
       "2017-07-01  102600.0   left_only\n",
       "2017-08-01  102700.0   left_only\n",
       "2017-09-01  103600.0   left_only\n",
       "2017-10-01  105100.0   left_only\n",
       "2017-11-01  107200.0   left_only\n",
       "2017-12-01  108900.0   left_only\n",
       "2018-01-01  109800.0   left_only\n",
       "2018-02-01  109500.0   left_only\n",
       "2018-03-01  109000.0   left_only\n",
       "2018-04-01  108600.0   left_only\n",
       "2018-05-01  109150.0  right_only\n",
       "2018-06-01  109700.0  right_only\n",
       "2018-07-01  110250.0  right_only\n",
       "2018-08-01  110800.0  right_only\n",
       "2018-09-01  111350.0  right_only\n",
       "2018-10-01  111900.0  right_only\n",
       "2018-11-01  112450.0  right_only\n",
       "2018-12-01  113000.0  right_only\n",
       "2019-01-01  113550.0  right_only\n",
       "2019-02-01  114100.0  right_only"
      ]
     },
     "execution_count": 46,
     "metadata": {},
     "output_type": "execute_result"
    }
   ],
   "source": [
    "mse_df.set_index ('Date')"
   ]
  },
  {
   "cell_type": "code",
   "execution_count": null,
   "metadata": {},
   "outputs": [],
   "source": []
  },
  {
   "cell_type": "code",
   "execution_count": 47,
   "metadata": {},
   "outputs": [],
   "source": [
    "#y_forecasted = pred           #what is this vector ? \n",
    "#y_truth = y['1998-01-01':]   # What is this vector ?\n",
    "# Compute the mean square error\n",
    "#mse = ((y_forecasted - y_truth) ** 2).mean()\n",
    "#print('The Mean Squared Error of our forecasts is {}'.format(round(mse, 2)))"
   ]
  },
  {
   "cell_type": "code",
   "execution_count": 48,
   "metadata": {},
   "outputs": [
    {
     "data": {
      "text/plain": [
       "5148.422088368436"
      ]
     },
     "execution_count": 48,
     "metadata": {},
     "output_type": "execute_result"
    }
   ],
   "source": [
    "#calculating the MSE and RMSE \n",
    "expected =  test_df.tail(10)['6706']    # what is this vector value? \n",
    "forecast =  pred_test_df ['6706']\n",
    "mean_squared_error( expected, forecast, squared= False)"
   ]
  },
  {
   "cell_type": "code",
   "execution_count": 49,
   "metadata": {},
   "outputs": [
    {
     "name": "stdout",
     "output_type": "stream",
     "text": [
      "5148.422088368436\n"
     ]
    }
   ],
   "source": [
    "#calculating the MSE and RMSE \n",
    "expected =  test_df.tail(10)['6706']    # what is this vector value? \n",
    "forecast =  pred_test_df ['6706']\n",
    "mse= mean_squared_error( expected, forecast)\n",
    "RMSE= sqrt (mse)\n",
    "print (RMSE)"
   ]
  },
  {
   "cell_type": "code",
   "execution_count": 50,
   "metadata": {},
   "outputs": [],
   "source": [
    "y_min=test_df.min()['6706']\n"
   ]
  },
  {
   "cell_type": "code",
   "execution_count": 51,
   "metadata": {},
   "outputs": [],
   "source": [
    "y_max=test_df.max() ['6706']"
   ]
  },
  {
   "cell_type": "code",
   "execution_count": 52,
   "metadata": {},
   "outputs": [],
   "source": [
    "Norm_divide= y_max-y_min"
   ]
  },
  {
   "cell_type": "code",
   "execution_count": 53,
   "metadata": {},
   "outputs": [
    {
     "data": {
      "text/plain": [
       "0.3575293116922525"
      ]
     },
     "execution_count": 53,
     "metadata": {},
     "output_type": "execute_result"
    }
   ],
   "source": [
    "RMSE/Norm_divide"
   ]
  },
  {
   "cell_type": "code",
   "execution_count": 54,
   "metadata": {},
   "outputs": [],
   "source": [
    "#another way of finding rmse\n",
    "#def find_rmse(model, test=test):\n",
    "#    y_hat = model.predict(type='levels')\n",
    "#    return np.sqrt(mean_squared_error(train_data, y_hat))"
   ]
  },
  {
   "cell_type": "code",
   "execution_count": null,
   "metadata": {},
   "outputs": [],
   "source": []
  },
  {
   "cell_type": "markdown",
   "metadata": {},
   "source": [
    "## Best Model Plot"
   ]
  },
  {
   "cell_type": "code",
   "execution_count": 55,
   "metadata": {},
   "outputs": [
    {
     "name": "stderr",
     "output_type": "stream",
     "text": [
      "/Users/jonax/opt/anaconda3/envs/learn-env/lib/python3.8/site-packages/statsmodels/tsa/base/tsa_model.py:473: ValueWarning: No frequency information was provided, so inferred frequency MS will be used.\n",
      "  self._init_dates(dates, freq)\n",
      "/Users/jonax/opt/anaconda3/envs/learn-env/lib/python3.8/site-packages/statsmodels/tsa/base/tsa_model.py:473: ValueWarning: No frequency information was provided, so inferred frequency MS will be used.\n",
      "  self._init_dates(dates, freq)\n"
     ]
    },
    {
     "data": {
      "text/html": [
       "<table class=\"simpletable\">\n",
       "<caption>SARIMAX Results</caption>\n",
       "<tr>\n",
       "  <th>Dep. Variable:</th>         <td>6706</td>       <th>  No. Observations:  </th>    <td>124</td>   \n",
       "</tr>\n",
       "<tr>\n",
       "  <th>Model:</th>           <td>SARIMAX(0, 1, 0)</td> <th>  Log Likelihood     </th> <td>-1058.117</td>\n",
       "</tr>\n",
       "<tr>\n",
       "  <th>Date:</th>            <td>Thu, 06 Jul 2023</td> <th>  AIC                </th> <td>2118.234</td> \n",
       "</tr>\n",
       "<tr>\n",
       "  <th>Time:</th>                <td>14:38:44</td>     <th>  BIC                </th> <td>2121.046</td> \n",
       "</tr>\n",
       "<tr>\n",
       "  <th>Sample:</th>             <td>01-01-2008</td>    <th>  HQIC               </th> <td>2119.376</td> \n",
       "</tr>\n",
       "<tr>\n",
       "  <th></th>                   <td>- 04-01-2018</td>   <th>                     </th>     <td> </td>    \n",
       "</tr>\n",
       "<tr>\n",
       "  <th>Covariance Type:</th>        <td>opg</td>       <th>                     </th>     <td> </td>    \n",
       "</tr>\n",
       "</table>\n",
       "<table class=\"simpletable\">\n",
       "<tr>\n",
       "     <td></td>       <th>coef</th>     <th>std err</th>      <th>z</th>      <th>P>|z|</th>  <th>[0.025</th>    <th>0.975]</th>  \n",
       "</tr>\n",
       "<tr>\n",
       "  <th>sigma2</th> <td> 1.722e+06</td> <td> 1.85e+05</td> <td>    9.330</td> <td> 0.000</td> <td> 1.36e+06</td> <td> 2.08e+06</td>\n",
       "</tr>\n",
       "</table>\n",
       "<table class=\"simpletable\">\n",
       "<tr>\n",
       "  <th>Ljung-Box (L1) (Q):</th>     <td>90.11</td> <th>  Jarque-Bera (JB):  </th> <td>3.49</td> \n",
       "</tr>\n",
       "<tr>\n",
       "  <th>Prob(Q):</th>                <td>0.00</td>  <th>  Prob(JB):          </th> <td>0.17</td> \n",
       "</tr>\n",
       "<tr>\n",
       "  <th>Heteroskedasticity (H):</th> <td>1.38</td>  <th>  Skew:              </th> <td>-0.12</td>\n",
       "</tr>\n",
       "<tr>\n",
       "  <th>Prob(H) (two-sided):</th>    <td>0.31</td>  <th>  Kurtosis:          </th> <td>3.79</td> \n",
       "</tr>\n",
       "</table><br/><br/>Warnings:<br/>[1] Covariance matrix calculated using the outer product of gradients (complex-step)."
      ],
      "text/latex": [
       "\\begin{center}\n",
       "\\begin{tabular}{lclc}\n",
       "\\toprule\n",
       "\\textbf{Dep. Variable:}          &       6706       & \\textbf{  No. Observations:  } &    124      \\\\\n",
       "\\textbf{Model:}                  & SARIMAX(0, 1, 0) & \\textbf{  Log Likelihood     } & -1058.117   \\\\\n",
       "\\textbf{Date:}                   & Thu, 06 Jul 2023 & \\textbf{  AIC                } &  2118.234   \\\\\n",
       "\\textbf{Time:}                   &     14:38:44     & \\textbf{  BIC                } &  2121.046   \\\\\n",
       "\\textbf{Sample:}                 &    01-01-2008    & \\textbf{  HQIC               } &  2119.376   \\\\\n",
       "\\textbf{}                        &   - 04-01-2018   & \\textbf{                     } &             \\\\\n",
       "\\textbf{Covariance Type:}        &       opg        & \\textbf{                     } &             \\\\\n",
       "\\bottomrule\n",
       "\\end{tabular}\n",
       "\\begin{tabular}{lcccccc}\n",
       "                & \\textbf{coef} & \\textbf{std err} & \\textbf{z} & \\textbf{P$> |$z$|$} & \\textbf{[0.025} & \\textbf{0.975]}  \\\\\n",
       "\\midrule\n",
       "\\textbf{sigma2} &    1.722e+06  &     1.85e+05     &     9.330  &         0.000        &     1.36e+06    &     2.08e+06     \\\\\n",
       "\\bottomrule\n",
       "\\end{tabular}\n",
       "\\begin{tabular}{lclc}\n",
       "\\textbf{Ljung-Box (L1) (Q):}     & 90.11 & \\textbf{  Jarque-Bera (JB):  } &  3.49  \\\\\n",
       "\\textbf{Prob(Q):}                &  0.00 & \\textbf{  Prob(JB):          } &  0.17  \\\\\n",
       "\\textbf{Heteroskedasticity (H):} &  1.38 & \\textbf{  Skew:              } & -0.12  \\\\\n",
       "\\textbf{Prob(H) (two-sided):}    &  0.31 & \\textbf{  Kurtosis:          } &  3.79  \\\\\n",
       "\\bottomrule\n",
       "\\end{tabular}\n",
       "%\\caption{SARIMAX Results}\n",
       "\\end{center}\n",
       "\n",
       "Warnings: \\newline\n",
       " [1] Covariance matrix calculated using the outer product of gradients (complex-step)."
      ],
      "text/plain": [
       "<class 'statsmodels.iolib.summary.Summary'>\n",
       "\"\"\"\n",
       "                               SARIMAX Results                                \n",
       "==============================================================================\n",
       "Dep. Variable:                   6706   No. Observations:                  124\n",
       "Model:               SARIMAX(0, 1, 0)   Log Likelihood               -1058.117\n",
       "Date:                Thu, 06 Jul 2023   AIC                           2118.234\n",
       "Time:                        14:38:44   BIC                           2121.046\n",
       "Sample:                    01-01-2008   HQIC                          2119.376\n",
       "                         - 04-01-2018                                         \n",
       "Covariance Type:                  opg                                         \n",
       "==============================================================================\n",
       "                 coef    std err          z      P>|z|      [0.025      0.975]\n",
       "------------------------------------------------------------------------------\n",
       "sigma2      1.722e+06   1.85e+05      9.330      0.000    1.36e+06    2.08e+06\n",
       "===================================================================================\n",
       "Ljung-Box (L1) (Q):                  90.11   Jarque-Bera (JB):                 3.49\n",
       "Prob(Q):                              0.00   Prob(JB):                         0.17\n",
       "Heteroskedasticity (H):               1.38   Skew:                            -0.12\n",
       "Prob(H) (two-sided):                  0.31   Kurtosis:                         3.79\n",
       "===================================================================================\n",
       "\n",
       "Warnings:\n",
       "[1] Covariance matrix calculated using the outer product of gradients (complex-step).\n",
       "\"\"\""
      ]
     },
     "metadata": {},
     "output_type": "display_data"
    },
    {
     "data": {
      "image/png": "[encoded data removed]",
      "text/plain": [
       "<Figure size 576x396 with 4 Axes>"
      ]
     },
     "metadata": {
      "needs_background": "light"
     },
     "output_type": "display_data"
    }
   ],
   "source": [
    "best_model = SARIMAX(ts,order=auto_model.order,\n",
    "                     seasonal_order=auto_model.seasonal_order).fit()\n",
    "display(best_model.summary())\n",
    "best_model.plot_diagnostics();"
   ]
  },
  {
   "cell_type": "markdown",
   "metadata": {},
   "source": [
    "### Forecast"
   ]
  },
  {
   "cell_type": "code",
   "execution_count": 56,
   "metadata": {},
   "outputs": [
    {
     "data": {
      "text/plain": [
       "(<Figure size 576x396 with 1 Axes>, <AxesSubplot:>)"
      ]
     },
     "metadata": {},
     "output_type": "display_data"
    },
    {
     "data": {
      "image/png": "[encoded data removed]",
      "text/plain": [
       "<Figure size 576x396 with 1 Axes>"
      ]
     },
     "metadata": {
      "needs_background": "light"
     },
     "output_type": "display_data"
    }
   ],
   "source": [
    "pred = best_model.get_forecast(steps=12)#start=test.index[0],end=test.index[-1])\n",
    "pred_df = forecast_to_df(pred,zipcode)\n",
    "display(plot_train_test_pred(train,test,pred_df));\n",
    "plt.show()"
   ]
  },
  {
   "cell_type": "markdown",
   "metadata": {},
   "source": [
    "#### Loop Best Model Forecast for the 13 best ROI ZIP Codes"
   ]
  },
  {
   "cell_type": "code",
   "execution_count": 57,
   "metadata": {},
   "outputs": [
    {
     "name": "stdout",
     "output_type": "stream",
     "text": [
      "6606\n",
      "RMSE for this ZIP Code is 0.1587860300220871\n"
     ]
    },
    {
     "name": "stderr",
     "output_type": "stream",
     "text": [
      "/Users/jonax/opt/anaconda3/envs/learn-env/lib/python3.8/site-packages/statsmodels/tsa/base/tsa_model.py:473: ValueWarning: No frequency information was provided, so inferred frequency MS will be used.\n",
      "  self._init_dates(dates, freq)\n",
      "/Users/jonax/opt/anaconda3/envs/learn-env/lib/python3.8/site-packages/statsmodels/tsa/base/tsa_model.py:473: ValueWarning: No frequency information was provided, so inferred frequency MS will be used.\n",
      "  self._init_dates(dates, freq)\n"
     ]
    },
    {
     "data": {
      "text/html": [
       "<table class=\"simpletable\">\n",
       "<caption>SARIMAX Results</caption>\n",
       "<tr>\n",
       "  <th>Dep. Variable:</th>         <td>6606</td>       <th>  No. Observations:  </th>    <td>124</td>  \n",
       "</tr>\n",
       "<tr>\n",
       "  <th>Model:</th>           <td>SARIMAX(0, 2, 0)</td> <th>  Log Likelihood     </th> <td>-981.444</td>\n",
       "</tr>\n",
       "<tr>\n",
       "  <th>Date:</th>            <td>Thu, 06 Jul 2023</td> <th>  AIC                </th> <td>1964.889</td>\n",
       "</tr>\n",
       "<tr>\n",
       "  <th>Time:</th>                <td>14:38:45</td>     <th>  BIC                </th> <td>1967.693</td>\n",
       "</tr>\n",
       "<tr>\n",
       "  <th>Sample:</th>             <td>01-01-2008</td>    <th>  HQIC               </th> <td>1966.028</td>\n",
       "</tr>\n",
       "<tr>\n",
       "  <th></th>                   <td>- 04-01-2018</td>   <th>                     </th>     <td> </td>   \n",
       "</tr>\n",
       "<tr>\n",
       "  <th>Covariance Type:</th>        <td>opg</td>       <th>                     </th>     <td> </td>   \n",
       "</tr>\n",
       "</table>\n",
       "<table class=\"simpletable\">\n",
       "<tr>\n",
       "     <td></td>       <th>coef</th>     <th>std err</th>      <th>z</th>      <th>P>|z|</th>  <th>[0.025</th>    <th>0.975]</th>  \n",
       "</tr>\n",
       "<tr>\n",
       "  <th>sigma2</th> <td> 5.687e+05</td> <td> 7.03e+04</td> <td>    8.088</td> <td> 0.000</td> <td> 4.31e+05</td> <td> 7.07e+05</td>\n",
       "</tr>\n",
       "</table>\n",
       "<table class=\"simpletable\">\n",
       "<tr>\n",
       "  <th>Ljung-Box (L1) (Q):</th>     <td>24.65</td> <th>  Jarque-Bera (JB):  </th> <td>0.23</td> \n",
       "</tr>\n",
       "<tr>\n",
       "  <th>Prob(Q):</th>                <td>0.00</td>  <th>  Prob(JB):          </th> <td>0.89</td> \n",
       "</tr>\n",
       "<tr>\n",
       "  <th>Heteroskedasticity (H):</th> <td>0.88</td>  <th>  Skew:              </th> <td>-0.07</td>\n",
       "</tr>\n",
       "<tr>\n",
       "  <th>Prob(H) (two-sided):</th>    <td>0.68</td>  <th>  Kurtosis:          </th> <td>3.15</td> \n",
       "</tr>\n",
       "</table><br/><br/>Warnings:<br/>[1] Covariance matrix calculated using the outer product of gradients (complex-step)."
      ],
      "text/latex": [
       "\\begin{center}\n",
       "\\begin{tabular}{lclc}\n",
       "\\toprule\n",
       "\\textbf{Dep. Variable:}          &       6606       & \\textbf{  No. Observations:  } &    124      \\\\\n",
       "\\textbf{Model:}                  & SARIMAX(0, 2, 0) & \\textbf{  Log Likelihood     } &  -981.444   \\\\\n",
       "\\textbf{Date:}                   & Thu, 06 Jul 2023 & \\textbf{  AIC                } &  1964.889   \\\\\n",
       "\\textbf{Time:}                   &     14:38:45     & \\textbf{  BIC                } &  1967.693   \\\\\n",
       "\\textbf{Sample:}                 &    01-01-2008    & \\textbf{  HQIC               } &  1966.028   \\\\\n",
       "\\textbf{}                        &   - 04-01-2018   & \\textbf{                     } &             \\\\\n",
       "\\textbf{Covariance Type:}        &       opg        & \\textbf{                     } &             \\\\\n",
       "\\bottomrule\n",
       "\\end{tabular}\n",
       "\\begin{tabular}{lcccccc}\n",
       "                & \\textbf{coef} & \\textbf{std err} & \\textbf{z} & \\textbf{P$> |$z$|$} & \\textbf{[0.025} & \\textbf{0.975]}  \\\\\n",
       "\\midrule\n",
       "\\textbf{sigma2} &    5.687e+05  &     7.03e+04     &     8.088  &         0.000        &     4.31e+05    &     7.07e+05     \\\\\n",
       "\\bottomrule\n",
       "\\end{tabular}\n",
       "\\begin{tabular}{lclc}\n",
       "\\textbf{Ljung-Box (L1) (Q):}     & 24.65 & \\textbf{  Jarque-Bera (JB):  } &  0.23  \\\\\n",
       "\\textbf{Prob(Q):}                &  0.00 & \\textbf{  Prob(JB):          } &  0.89  \\\\\n",
       "\\textbf{Heteroskedasticity (H):} &  0.88 & \\textbf{  Skew:              } & -0.07  \\\\\n",
       "\\textbf{Prob(H) (two-sided):}    &  0.68 & \\textbf{  Kurtosis:          } &  3.15  \\\\\n",
       "\\bottomrule\n",
       "\\end{tabular}\n",
       "%\\caption{SARIMAX Results}\n",
       "\\end{center}\n",
       "\n",
       "Warnings: \\newline\n",
       " [1] Covariance matrix calculated using the outer product of gradients (complex-step)."
      ],
      "text/plain": [
       "<class 'statsmodels.iolib.summary.Summary'>\n",
       "\"\"\"\n",
       "                               SARIMAX Results                                \n",
       "==============================================================================\n",
       "Dep. Variable:                   6606   No. Observations:                  124\n",
       "Model:               SARIMAX(0, 2, 0)   Log Likelihood                -981.444\n",
       "Date:                Thu, 06 Jul 2023   AIC                           1964.889\n",
       "Time:                        14:38:45   BIC                           1967.693\n",
       "Sample:                    01-01-2008   HQIC                          1966.028\n",
       "                         - 04-01-2018                                         \n",
       "Covariance Type:                  opg                                         \n",
       "==============================================================================\n",
       "                 coef    std err          z      P>|z|      [0.025      0.975]\n",
       "------------------------------------------------------------------------------\n",
       "sigma2      5.687e+05   7.03e+04      8.088      0.000    4.31e+05    7.07e+05\n",
       "===================================================================================\n",
       "Ljung-Box (L1) (Q):                  24.65   Jarque-Bera (JB):                 0.23\n",
       "Prob(Q):                              0.00   Prob(JB):                         0.89\n",
       "Heteroskedasticity (H):               0.88   Skew:                            -0.07\n",
       "Prob(H) (two-sided):                  0.68   Kurtosis:                         3.15\n",
       "===================================================================================\n",
       "\n",
       "Warnings:\n",
       "[1] Covariance matrix calculated using the outer product of gradients (complex-step).\n",
       "\"\"\""
      ]
     },
     "metadata": {},
     "output_type": "display_data"
    },
    {
     "data": {
      "image/png": "[encoded data removed]",
      "text/plain": [
       "<Figure size 576x396 with 1 Axes>"
      ]
     },
     "metadata": {
      "needs_background": "light"
     },
     "output_type": "display_data"
    },
    {
     "name": "stdout",
     "output_type": "stream",
     "text": [
      "------------------------------------------------------------\n",
      "\n",
      "6705\n",
      "RMSE for this ZIP Code is 0.6419032529123976\n"
     ]
    },
    {
     "name": "stderr",
     "output_type": "stream",
     "text": [
      "/Users/jonax/opt/anaconda3/envs/learn-env/lib/python3.8/site-packages/statsmodels/tsa/base/tsa_model.py:473: ValueWarning: No frequency information was provided, so inferred frequency MS will be used.\n",
      "  self._init_dates(dates, freq)\n",
      "/Users/jonax/opt/anaconda3/envs/learn-env/lib/python3.8/site-packages/statsmodels/tsa/base/tsa_model.py:473: ValueWarning: No frequency information was provided, so inferred frequency MS will be used.\n",
      "  self._init_dates(dates, freq)\n"
     ]
    },
    {
     "data": {
      "text/html": [
       "<table class=\"simpletable\">\n",
       "<caption>SARIMAX Results</caption>\n",
       "<tr>\n",
       "  <th>Dep. Variable:</th>         <td>6705</td>       <th>  No. Observations:  </th>    <td>124</td>  \n",
       "</tr>\n",
       "<tr>\n",
       "  <th>Model:</th>           <td>SARIMAX(0, 2, 0)</td> <th>  Log Likelihood     </th> <td>-988.968</td>\n",
       "</tr>\n",
       "<tr>\n",
       "  <th>Date:</th>            <td>Thu, 06 Jul 2023</td> <th>  AIC                </th> <td>1979.936</td>\n",
       "</tr>\n",
       "<tr>\n",
       "  <th>Time:</th>                <td>14:38:45</td>     <th>  BIC                </th> <td>1982.740</td>\n",
       "</tr>\n",
       "<tr>\n",
       "  <th>Sample:</th>             <td>01-01-2008</td>    <th>  HQIC               </th> <td>1981.075</td>\n",
       "</tr>\n",
       "<tr>\n",
       "  <th></th>                   <td>- 04-01-2018</td>   <th>                     </th>     <td> </td>   \n",
       "</tr>\n",
       "<tr>\n",
       "  <th>Covariance Type:</th>        <td>opg</td>       <th>                     </th>     <td> </td>   \n",
       "</tr>\n",
       "</table>\n",
       "<table class=\"simpletable\">\n",
       "<tr>\n",
       "     <td></td>       <th>coef</th>     <th>std err</th>      <th>z</th>      <th>P>|z|</th>  <th>[0.025</th>    <th>0.975]</th>  \n",
       "</tr>\n",
       "<tr>\n",
       "  <th>sigma2</th> <td> 6.433e+05</td> <td> 5.56e+04</td> <td>   11.567</td> <td> 0.000</td> <td> 5.34e+05</td> <td> 7.52e+05</td>\n",
       "</tr>\n",
       "</table>\n",
       "<table class=\"simpletable\">\n",
       "<tr>\n",
       "  <th>Ljung-Box (L1) (Q):</th>     <td>6.23</td> <th>  Jarque-Bera (JB):  </th> <td>29.06</td>\n",
       "</tr>\n",
       "<tr>\n",
       "  <th>Prob(Q):</th>                <td>0.01</td> <th>  Prob(JB):          </th> <td>0.00</td> \n",
       "</tr>\n",
       "<tr>\n",
       "  <th>Heteroskedasticity (H):</th> <td>8.38</td> <th>  Skew:              </th> <td>-0.11</td>\n",
       "</tr>\n",
       "<tr>\n",
       "  <th>Prob(H) (two-sided):</th>    <td>0.00</td> <th>  Kurtosis:          </th> <td>5.38</td> \n",
       "</tr>\n",
       "</table><br/><br/>Warnings:<br/>[1] Covariance matrix calculated using the outer product of gradients (complex-step)."
      ],
      "text/latex": [
       "\\begin{center}\n",
       "\\begin{tabular}{lclc}\n",
       "\\toprule\n",
       "\\textbf{Dep. Variable:}          &       6705       & \\textbf{  No. Observations:  } &    124      \\\\\n",
       "\\textbf{Model:}                  & SARIMAX(0, 2, 0) & \\textbf{  Log Likelihood     } &  -988.968   \\\\\n",
       "\\textbf{Date:}                   & Thu, 06 Jul 2023 & \\textbf{  AIC                } &  1979.936   \\\\\n",
       "\\textbf{Time:}                   &     14:38:45     & \\textbf{  BIC                } &  1982.740   \\\\\n",
       "\\textbf{Sample:}                 &    01-01-2008    & \\textbf{  HQIC               } &  1981.075   \\\\\n",
       "\\textbf{}                        &   - 04-01-2018   & \\textbf{                     } &             \\\\\n",
       "\\textbf{Covariance Type:}        &       opg        & \\textbf{                     } &             \\\\\n",
       "\\bottomrule\n",
       "\\end{tabular}\n",
       "\\begin{tabular}{lcccccc}\n",
       "                & \\textbf{coef} & \\textbf{std err} & \\textbf{z} & \\textbf{P$> |$z$|$} & \\textbf{[0.025} & \\textbf{0.975]}  \\\\\n",
       "\\midrule\n",
       "\\textbf{sigma2} &    6.433e+05  &     5.56e+04     &    11.567  &         0.000        &     5.34e+05    &     7.52e+05     \\\\\n",
       "\\bottomrule\n",
       "\\end{tabular}\n",
       "\\begin{tabular}{lclc}\n",
       "\\textbf{Ljung-Box (L1) (Q):}     & 6.23 & \\textbf{  Jarque-Bera (JB):  } & 29.06  \\\\\n",
       "\\textbf{Prob(Q):}                & 0.01 & \\textbf{  Prob(JB):          } &  0.00  \\\\\n",
       "\\textbf{Heteroskedasticity (H):} & 8.38 & \\textbf{  Skew:              } & -0.11  \\\\\n",
       "\\textbf{Prob(H) (two-sided):}    & 0.00 & \\textbf{  Kurtosis:          } &  5.38  \\\\\n",
       "\\bottomrule\n",
       "\\end{tabular}\n",
       "%\\caption{SARIMAX Results}\n",
       "\\end{center}\n",
       "\n",
       "Warnings: \\newline\n",
       " [1] Covariance matrix calculated using the outer product of gradients (complex-step)."
      ],
      "text/plain": [
       "<class 'statsmodels.iolib.summary.Summary'>\n",
       "\"\"\"\n",
       "                               SARIMAX Results                                \n",
       "==============================================================================\n",
       "Dep. Variable:                   6705   No. Observations:                  124\n",
       "Model:               SARIMAX(0, 2, 0)   Log Likelihood                -988.968\n",
       "Date:                Thu, 06 Jul 2023   AIC                           1979.936\n",
       "Time:                        14:38:45   BIC                           1982.740\n",
       "Sample:                    01-01-2008   HQIC                          1981.075\n",
       "                         - 04-01-2018                                         \n",
       "Covariance Type:                  opg                                         \n",
       "==============================================================================\n",
       "                 coef    std err          z      P>|z|      [0.025      0.975]\n",
       "------------------------------------------------------------------------------\n",
       "sigma2      6.433e+05   5.56e+04     11.567      0.000    5.34e+05    7.52e+05\n",
       "===================================================================================\n",
       "Ljung-Box (L1) (Q):                   6.23   Jarque-Bera (JB):                29.06\n",
       "Prob(Q):                              0.01   Prob(JB):                         0.00\n",
       "Heteroskedasticity (H):               8.38   Skew:                            -0.11\n",
       "Prob(H) (two-sided):                  0.00   Kurtosis:                         5.38\n",
       "===================================================================================\n",
       "\n",
       "Warnings:\n",
       "[1] Covariance matrix calculated using the outer product of gradients (complex-step).\n",
       "\"\"\""
      ]
     },
     "metadata": {},
     "output_type": "display_data"
    },
    {
     "data": {
      "image/png": "[encoded data removed]",
      "text/plain": [
       "<Figure size 576x396 with 1 Axes>"
      ]
     },
     "metadata": {
      "needs_background": "light"
     },
     "output_type": "display_data"
    },
    {
     "name": "stdout",
     "output_type": "stream",
     "text": [
      "------------------------------------------------------------\n",
      "\n",
      "6604\n",
      "RMSE for this ZIP Code is 0.679199327926642\n"
     ]
    },
    {
     "name": "stderr",
     "output_type": "stream",
     "text": [
      "/Users/jonax/opt/anaconda3/envs/learn-env/lib/python3.8/site-packages/statsmodels/tsa/base/tsa_model.py:473: ValueWarning: No frequency information was provided, so inferred frequency MS will be used.\n",
      "  self._init_dates(dates, freq)\n",
      "/Users/jonax/opt/anaconda3/envs/learn-env/lib/python3.8/site-packages/statsmodels/tsa/base/tsa_model.py:473: ValueWarning: No frequency information was provided, so inferred frequency MS will be used.\n",
      "  self._init_dates(dates, freq)\n"
     ]
    },
    {
     "data": {
      "text/html": [
       "<table class=\"simpletable\">\n",
       "<caption>SARIMAX Results</caption>\n",
       "<tr>\n",
       "  <th>Dep. Variable:</th>         <td>6604</td>       <th>  No. Observations:  </th>    <td>124</td>   \n",
       "</tr>\n",
       "<tr>\n",
       "  <th>Model:</th>           <td>SARIMAX(0, 2, 0)</td> <th>  Log Likelihood     </th> <td>-1037.801</td>\n",
       "</tr>\n",
       "<tr>\n",
       "  <th>Date:</th>            <td>Thu, 06 Jul 2023</td> <th>  AIC                </th> <td>2077.601</td> \n",
       "</tr>\n",
       "<tr>\n",
       "  <th>Time:</th>                <td>14:38:46</td>     <th>  BIC                </th> <td>2080.405</td> \n",
       "</tr>\n",
       "<tr>\n",
       "  <th>Sample:</th>             <td>01-01-2008</td>    <th>  HQIC               </th> <td>2078.740</td> \n",
       "</tr>\n",
       "<tr>\n",
       "  <th></th>                   <td>- 04-01-2018</td>   <th>                     </th>     <td> </td>    \n",
       "</tr>\n",
       "<tr>\n",
       "  <th>Covariance Type:</th>        <td>opg</td>       <th>                     </th>     <td> </td>    \n",
       "</tr>\n",
       "</table>\n",
       "<table class=\"simpletable\">\n",
       "<tr>\n",
       "     <td></td>       <th>coef</th>     <th>std err</th>      <th>z</th>      <th>P>|z|</th>  <th>[0.025</th>    <th>0.975]</th>  \n",
       "</tr>\n",
       "<tr>\n",
       "  <th>sigma2</th> <td> 1.433e+06</td> <td> 1.37e+05</td> <td>   10.481</td> <td> 0.000</td> <td> 1.16e+06</td> <td>  1.7e+06</td>\n",
       "</tr>\n",
       "</table>\n",
       "<table class=\"simpletable\">\n",
       "<tr>\n",
       "  <th>Ljung-Box (L1) (Q):</th>     <td>25.97</td> <th>  Jarque-Bera (JB):  </th> <td>17.07</td>\n",
       "</tr>\n",
       "<tr>\n",
       "  <th>Prob(Q):</th>                <td>0.00</td>  <th>  Prob(JB):          </th> <td>0.00</td> \n",
       "</tr>\n",
       "<tr>\n",
       "  <th>Heteroskedasticity (H):</th> <td>0.99</td>  <th>  Skew:              </th> <td>0.44</td> \n",
       "</tr>\n",
       "<tr>\n",
       "  <th>Prob(H) (two-sided):</th>    <td>0.99</td>  <th>  Kurtosis:          </th> <td>4.61</td> \n",
       "</tr>\n",
       "</table><br/><br/>Warnings:<br/>[1] Covariance matrix calculated using the outer product of gradients (complex-step)."
      ],
      "text/latex": [
       "\\begin{center}\n",
       "\\begin{tabular}{lclc}\n",
       "\\toprule\n",
       "\\textbf{Dep. Variable:}          &       6604       & \\textbf{  No. Observations:  } &    124      \\\\\n",
       "\\textbf{Model:}                  & SARIMAX(0, 2, 0) & \\textbf{  Log Likelihood     } & -1037.801   \\\\\n",
       "\\textbf{Date:}                   & Thu, 06 Jul 2023 & \\textbf{  AIC                } &  2077.601   \\\\\n",
       "\\textbf{Time:}                   &     14:38:46     & \\textbf{  BIC                } &  2080.405   \\\\\n",
       "\\textbf{Sample:}                 &    01-01-2008    & \\textbf{  HQIC               } &  2078.740   \\\\\n",
       "\\textbf{}                        &   - 04-01-2018   & \\textbf{                     } &             \\\\\n",
       "\\textbf{Covariance Type:}        &       opg        & \\textbf{                     } &             \\\\\n",
       "\\bottomrule\n",
       "\\end{tabular}\n",
       "\\begin{tabular}{lcccccc}\n",
       "                & \\textbf{coef} & \\textbf{std err} & \\textbf{z} & \\textbf{P$> |$z$|$} & \\textbf{[0.025} & \\textbf{0.975]}  \\\\\n",
       "\\midrule\n",
       "\\textbf{sigma2} &    1.433e+06  &     1.37e+05     &    10.481  &         0.000        &     1.16e+06    &      1.7e+06     \\\\\n",
       "\\bottomrule\n",
       "\\end{tabular}\n",
       "\\begin{tabular}{lclc}\n",
       "\\textbf{Ljung-Box (L1) (Q):}     & 25.97 & \\textbf{  Jarque-Bera (JB):  } & 17.07  \\\\\n",
       "\\textbf{Prob(Q):}                &  0.00 & \\textbf{  Prob(JB):          } &  0.00  \\\\\n",
       "\\textbf{Heteroskedasticity (H):} &  0.99 & \\textbf{  Skew:              } &  0.44  \\\\\n",
       "\\textbf{Prob(H) (two-sided):}    &  0.99 & \\textbf{  Kurtosis:          } &  4.61  \\\\\n",
       "\\bottomrule\n",
       "\\end{tabular}\n",
       "%\\caption{SARIMAX Results}\n",
       "\\end{center}\n",
       "\n",
       "Warnings: \\newline\n",
       " [1] Covariance matrix calculated using the outer product of gradients (complex-step)."
      ],
      "text/plain": [
       "<class 'statsmodels.iolib.summary.Summary'>\n",
       "\"\"\"\n",
       "                               SARIMAX Results                                \n",
       "==============================================================================\n",
       "Dep. Variable:                   6604   No. Observations:                  124\n",
       "Model:               SARIMAX(0, 2, 0)   Log Likelihood               -1037.801\n",
       "Date:                Thu, 06 Jul 2023   AIC                           2077.601\n",
       "Time:                        14:38:46   BIC                           2080.405\n",
       "Sample:                    01-01-2008   HQIC                          2078.740\n",
       "                         - 04-01-2018                                         \n",
       "Covariance Type:                  opg                                         \n",
       "==============================================================================\n",
       "                 coef    std err          z      P>|z|      [0.025      0.975]\n",
       "------------------------------------------------------------------------------\n",
       "sigma2      1.433e+06   1.37e+05     10.481      0.000    1.16e+06     1.7e+06\n",
       "===================================================================================\n",
       "Ljung-Box (L1) (Q):                  25.97   Jarque-Bera (JB):                17.07\n",
       "Prob(Q):                              0.00   Prob(JB):                         0.00\n",
       "Heteroskedasticity (H):               0.99   Skew:                             0.44\n",
       "Prob(H) (two-sided):                  0.99   Kurtosis:                         4.61\n",
       "===================================================================================\n",
       "\n",
       "Warnings:\n",
       "[1] Covariance matrix calculated using the outer product of gradients (complex-step).\n",
       "\"\"\""
      ]
     },
     "metadata": {},
     "output_type": "display_data"
    },
    {
     "data": {
      "image/png": "[encoded data removed]",
      "text/plain": [
       "<Figure size 576x396 with 1 Axes>"
      ]
     },
     "metadata": {
      "needs_background": "light"
     },
     "output_type": "display_data"
    },
    {
     "name": "stdout",
     "output_type": "stream",
     "text": [
      "------------------------------------------------------------\n",
      "\n",
      "6610\n",
      "RMSE for this ZIP Code is 0.4811398924158764\n"
     ]
    },
    {
     "name": "stderr",
     "output_type": "stream",
     "text": [
      "/Users/jonax/opt/anaconda3/envs/learn-env/lib/python3.8/site-packages/statsmodels/tsa/base/tsa_model.py:473: ValueWarning: No frequency information was provided, so inferred frequency MS will be used.\n",
      "  self._init_dates(dates, freq)\n",
      "/Users/jonax/opt/anaconda3/envs/learn-env/lib/python3.8/site-packages/statsmodels/tsa/base/tsa_model.py:473: ValueWarning: No frequency information was provided, so inferred frequency MS will be used.\n",
      "  self._init_dates(dates, freq)\n"
     ]
    },
    {
     "data": {
      "text/html": [
       "<table class=\"simpletable\">\n",
       "<caption>SARIMAX Results</caption>\n",
       "<tr>\n",
       "  <th>Dep. Variable:</th>         <td>6610</td>       <th>  No. Observations:  </th>    <td>124</td>   \n",
       "</tr>\n",
       "<tr>\n",
       "  <th>Model:</th>           <td>SARIMAX(0, 2, 0)</td> <th>  Log Likelihood     </th> <td>-1020.305</td>\n",
       "</tr>\n",
       "<tr>\n",
       "  <th>Date:</th>            <td>Thu, 06 Jul 2023</td> <th>  AIC                </th> <td>2042.611</td> \n",
       "</tr>\n",
       "<tr>\n",
       "  <th>Time:</th>                <td>14:38:46</td>     <th>  BIC                </th> <td>2045.415</td> \n",
       "</tr>\n",
       "<tr>\n",
       "  <th>Sample:</th>             <td>01-01-2008</td>    <th>  HQIC               </th> <td>2043.750</td> \n",
       "</tr>\n",
       "<tr>\n",
       "  <th></th>                   <td>- 04-01-2018</td>   <th>                     </th>     <td> </td>    \n",
       "</tr>\n",
       "<tr>\n",
       "  <th>Covariance Type:</th>        <td>opg</td>       <th>                     </th>     <td> </td>    \n",
       "</tr>\n",
       "</table>\n",
       "<table class=\"simpletable\">\n",
       "<tr>\n",
       "     <td></td>       <th>coef</th>     <th>std err</th>      <th>z</th>      <th>P>|z|</th>  <th>[0.025</th>    <th>0.975]</th>  \n",
       "</tr>\n",
       "<tr>\n",
       "  <th>sigma2</th> <td> 1.075e+06</td> <td> 1.21e+05</td> <td>    8.876</td> <td> 0.000</td> <td> 8.38e+05</td> <td> 1.31e+06</td>\n",
       "</tr>\n",
       "</table>\n",
       "<table class=\"simpletable\">\n",
       "<tr>\n",
       "  <th>Ljung-Box (L1) (Q):</th>     <td>10.49</td> <th>  Jarque-Bera (JB):  </th> <td>1.82</td> \n",
       "</tr>\n",
       "<tr>\n",
       "  <th>Prob(Q):</th>                <td>0.00</td>  <th>  Prob(JB):          </th> <td>0.40</td> \n",
       "</tr>\n",
       "<tr>\n",
       "  <th>Heteroskedasticity (H):</th> <td>0.59</td>  <th>  Skew:              </th> <td>-0.05</td>\n",
       "</tr>\n",
       "<tr>\n",
       "  <th>Prob(H) (two-sided):</th>    <td>0.09</td>  <th>  Kurtosis:          </th> <td>3.59</td> \n",
       "</tr>\n",
       "</table><br/><br/>Warnings:<br/>[1] Covariance matrix calculated using the outer product of gradients (complex-step)."
      ],
      "text/latex": [
       "\\begin{center}\n",
       "\\begin{tabular}{lclc}\n",
       "\\toprule\n",
       "\\textbf{Dep. Variable:}          &       6610       & \\textbf{  No. Observations:  } &    124      \\\\\n",
       "\\textbf{Model:}                  & SARIMAX(0, 2, 0) & \\textbf{  Log Likelihood     } & -1020.305   \\\\\n",
       "\\textbf{Date:}                   & Thu, 06 Jul 2023 & \\textbf{  AIC                } &  2042.611   \\\\\n",
       "\\textbf{Time:}                   &     14:38:46     & \\textbf{  BIC                } &  2045.415   \\\\\n",
       "\\textbf{Sample:}                 &    01-01-2008    & \\textbf{  HQIC               } &  2043.750   \\\\\n",
       "\\textbf{}                        &   - 04-01-2018   & \\textbf{                     } &             \\\\\n",
       "\\textbf{Covariance Type:}        &       opg        & \\textbf{                     } &             \\\\\n",
       "\\bottomrule\n",
       "\\end{tabular}\n",
       "\\begin{tabular}{lcccccc}\n",
       "                & \\textbf{coef} & \\textbf{std err} & \\textbf{z} & \\textbf{P$> |$z$|$} & \\textbf{[0.025} & \\textbf{0.975]}  \\\\\n",
       "\\midrule\n",
       "\\textbf{sigma2} &    1.075e+06  &     1.21e+05     &     8.876  &         0.000        &     8.38e+05    &     1.31e+06     \\\\\n",
       "\\bottomrule\n",
       "\\end{tabular}\n",
       "\\begin{tabular}{lclc}\n",
       "\\textbf{Ljung-Box (L1) (Q):}     & 10.49 & \\textbf{  Jarque-Bera (JB):  } &  1.82  \\\\\n",
       "\\textbf{Prob(Q):}                &  0.00 & \\textbf{  Prob(JB):          } &  0.40  \\\\\n",
       "\\textbf{Heteroskedasticity (H):} &  0.59 & \\textbf{  Skew:              } & -0.05  \\\\\n",
       "\\textbf{Prob(H) (two-sided):}    &  0.09 & \\textbf{  Kurtosis:          } &  3.59  \\\\\n",
       "\\bottomrule\n",
       "\\end{tabular}\n",
       "%\\caption{SARIMAX Results}\n",
       "\\end{center}\n",
       "\n",
       "Warnings: \\newline\n",
       " [1] Covariance matrix calculated using the outer product of gradients (complex-step)."
      ],
      "text/plain": [
       "<class 'statsmodels.iolib.summary.Summary'>\n",
       "\"\"\"\n",
       "                               SARIMAX Results                                \n",
       "==============================================================================\n",
       "Dep. Variable:                   6610   No. Observations:                  124\n",
       "Model:               SARIMAX(0, 2, 0)   Log Likelihood               -1020.305\n",
       "Date:                Thu, 06 Jul 2023   AIC                           2042.611\n",
       "Time:                        14:38:46   BIC                           2045.415\n",
       "Sample:                    01-01-2008   HQIC                          2043.750\n",
       "                         - 04-01-2018                                         \n",
       "Covariance Type:                  opg                                         \n",
       "==============================================================================\n",
       "                 coef    std err          z      P>|z|      [0.025      0.975]\n",
       "------------------------------------------------------------------------------\n",
       "sigma2      1.075e+06   1.21e+05      8.876      0.000    8.38e+05    1.31e+06\n",
       "===================================================================================\n",
       "Ljung-Box (L1) (Q):                  10.49   Jarque-Bera (JB):                 1.82\n",
       "Prob(Q):                              0.00   Prob(JB):                         0.40\n",
       "Heteroskedasticity (H):               0.59   Skew:                            -0.05\n",
       "Prob(H) (two-sided):                  0.09   Kurtosis:                         3.59\n",
       "===================================================================================\n",
       "\n",
       "Warnings:\n",
       "[1] Covariance matrix calculated using the outer product of gradients (complex-step).\n",
       "\"\"\""
      ]
     },
     "metadata": {},
     "output_type": "display_data"
    },
    {
     "data": {
      "image/png": "[encoded data removed]",
      "text/plain": [
       "<Figure size 576x396 with 1 Axes>"
      ]
     },
     "metadata": {
      "needs_background": "light"
     },
     "output_type": "display_data"
    },
    {
     "name": "stdout",
     "output_type": "stream",
     "text": [
      "------------------------------------------------------------\n",
      "\n",
      "6351\n",
      "RMSE for this ZIP Code is 0.3915829702516274\n"
     ]
    },
    {
     "name": "stderr",
     "output_type": "stream",
     "text": [
      "/Users/jonax/opt/anaconda3/envs/learn-env/lib/python3.8/site-packages/statsmodels/tsa/base/tsa_model.py:473: ValueWarning: No frequency information was provided, so inferred frequency MS will be used.\n",
      "  self._init_dates(dates, freq)\n",
      "/Users/jonax/opt/anaconda3/envs/learn-env/lib/python3.8/site-packages/statsmodels/tsa/base/tsa_model.py:473: ValueWarning: No frequency information was provided, so inferred frequency MS will be used.\n",
      "  self._init_dates(dates, freq)\n"
     ]
    },
    {
     "data": {
      "text/html": [
       "<table class=\"simpletable\">\n",
       "<caption>SARIMAX Results</caption>\n",
       "<tr>\n",
       "  <th>Dep. Variable:</th>         <td>6351</td>       <th>  No. Observations:  </th>    <td>124</td>   \n",
       "</tr>\n",
       "<tr>\n",
       "  <th>Model:</th>           <td>SARIMAX(0, 2, 0)</td> <th>  Log Likelihood     </th> <td>-1029.220</td>\n",
       "</tr>\n",
       "<tr>\n",
       "  <th>Date:</th>            <td>Thu, 06 Jul 2023</td> <th>  AIC                </th> <td>2060.440</td> \n",
       "</tr>\n",
       "<tr>\n",
       "  <th>Time:</th>                <td>14:38:46</td>     <th>  BIC                </th> <td>2063.244</td> \n",
       "</tr>\n",
       "<tr>\n",
       "  <th>Sample:</th>             <td>01-01-2008</td>    <th>  HQIC               </th> <td>2061.579</td> \n",
       "</tr>\n",
       "<tr>\n",
       "  <th></th>                   <td>- 04-01-2018</td>   <th>                     </th>     <td> </td>    \n",
       "</tr>\n",
       "<tr>\n",
       "  <th>Covariance Type:</th>        <td>opg</td>       <th>                     </th>     <td> </td>    \n",
       "</tr>\n",
       "</table>\n",
       "<table class=\"simpletable\">\n",
       "<tr>\n",
       "     <td></td>       <th>coef</th>     <th>std err</th>      <th>z</th>      <th>P>|z|</th>  <th>[0.025</th>    <th>0.975]</th>  \n",
       "</tr>\n",
       "<tr>\n",
       "  <th>sigma2</th> <td> 1.245e+06</td> <td> 1.63e+05</td> <td>    7.657</td> <td> 0.000</td> <td> 9.26e+05</td> <td> 1.56e+06</td>\n",
       "</tr>\n",
       "</table>\n",
       "<table class=\"simpletable\">\n",
       "<tr>\n",
       "  <th>Ljung-Box (L1) (Q):</th>     <td>22.25</td> <th>  Jarque-Bera (JB):  </th> <td>0.18</td> \n",
       "</tr>\n",
       "<tr>\n",
       "  <th>Prob(Q):</th>                <td>0.00</td>  <th>  Prob(JB):          </th> <td>0.91</td> \n",
       "</tr>\n",
       "<tr>\n",
       "  <th>Heteroskedasticity (H):</th> <td>1.45</td>  <th>  Skew:              </th> <td>-0.09</td>\n",
       "</tr>\n",
       "<tr>\n",
       "  <th>Prob(H) (two-sided):</th>    <td>0.24</td>  <th>  Kurtosis:          </th> <td>2.93</td> \n",
       "</tr>\n",
       "</table><br/><br/>Warnings:<br/>[1] Covariance matrix calculated using the outer product of gradients (complex-step)."
      ],
      "text/latex": [
       "\\begin{center}\n",
       "\\begin{tabular}{lclc}\n",
       "\\toprule\n",
       "\\textbf{Dep. Variable:}          &       6351       & \\textbf{  No. Observations:  } &    124      \\\\\n",
       "\\textbf{Model:}                  & SARIMAX(0, 2, 0) & \\textbf{  Log Likelihood     } & -1029.220   \\\\\n",
       "\\textbf{Date:}                   & Thu, 06 Jul 2023 & \\textbf{  AIC                } &  2060.440   \\\\\n",
       "\\textbf{Time:}                   &     14:38:46     & \\textbf{  BIC                } &  2063.244   \\\\\n",
       "\\textbf{Sample:}                 &    01-01-2008    & \\textbf{  HQIC               } &  2061.579   \\\\\n",
       "\\textbf{}                        &   - 04-01-2018   & \\textbf{                     } &             \\\\\n",
       "\\textbf{Covariance Type:}        &       opg        & \\textbf{                     } &             \\\\\n",
       "\\bottomrule\n",
       "\\end{tabular}\n",
       "\\begin{tabular}{lcccccc}\n",
       "                & \\textbf{coef} & \\textbf{std err} & \\textbf{z} & \\textbf{P$> |$z$|$} & \\textbf{[0.025} & \\textbf{0.975]}  \\\\\n",
       "\\midrule\n",
       "\\textbf{sigma2} &    1.245e+06  &     1.63e+05     &     7.657  &         0.000        &     9.26e+05    &     1.56e+06     \\\\\n",
       "\\bottomrule\n",
       "\\end{tabular}\n",
       "\\begin{tabular}{lclc}\n",
       "\\textbf{Ljung-Box (L1) (Q):}     & 22.25 & \\textbf{  Jarque-Bera (JB):  } &  0.18  \\\\\n",
       "\\textbf{Prob(Q):}                &  0.00 & \\textbf{  Prob(JB):          } &  0.91  \\\\\n",
       "\\textbf{Heteroskedasticity (H):} &  1.45 & \\textbf{  Skew:              } & -0.09  \\\\\n",
       "\\textbf{Prob(H) (two-sided):}    &  0.24 & \\textbf{  Kurtosis:          } &  2.93  \\\\\n",
       "\\bottomrule\n",
       "\\end{tabular}\n",
       "%\\caption{SARIMAX Results}\n",
       "\\end{center}\n",
       "\n",
       "Warnings: \\newline\n",
       " [1] Covariance matrix calculated using the outer product of gradients (complex-step)."
      ],
      "text/plain": [
       "<class 'statsmodels.iolib.summary.Summary'>\n",
       "\"\"\"\n",
       "                               SARIMAX Results                                \n",
       "==============================================================================\n",
       "Dep. Variable:                   6351   No. Observations:                  124\n",
       "Model:               SARIMAX(0, 2, 0)   Log Likelihood               -1029.220\n",
       "Date:                Thu, 06 Jul 2023   AIC                           2060.440\n",
       "Time:                        14:38:46   BIC                           2063.244\n",
       "Sample:                    01-01-2008   HQIC                          2061.579\n",
       "                         - 04-01-2018                                         \n",
       "Covariance Type:                  opg                                         \n",
       "==============================================================================\n",
       "                 coef    std err          z      P>|z|      [0.025      0.975]\n",
       "------------------------------------------------------------------------------\n",
       "sigma2      1.245e+06   1.63e+05      7.657      0.000    9.26e+05    1.56e+06\n",
       "===================================================================================\n",
       "Ljung-Box (L1) (Q):                  22.25   Jarque-Bera (JB):                 0.18\n",
       "Prob(Q):                              0.00   Prob(JB):                         0.91\n",
       "Heteroskedasticity (H):               1.45   Skew:                            -0.09\n",
       "Prob(H) (two-sided):                  0.24   Kurtosis:                         2.93\n",
       "===================================================================================\n",
       "\n",
       "Warnings:\n",
       "[1] Covariance matrix calculated using the outer product of gradients (complex-step).\n",
       "\"\"\""
      ]
     },
     "metadata": {},
     "output_type": "display_data"
    },
    {
     "data": {
      "image/png": "[encoded data removed]",
      "text/plain": [
       "<Figure size 576x396 with 1 Axes>"
      ]
     },
     "metadata": {
      "needs_background": "light"
     },
     "output_type": "display_data"
    },
    {
     "name": "stdout",
     "output_type": "stream",
     "text": [
      "------------------------------------------------------------\n",
      "\n",
      "6706\n",
      "RMSE for this ZIP Code is 0.16234803328172337\n"
     ]
    },
    {
     "name": "stderr",
     "output_type": "stream",
     "text": [
      "/Users/jonax/opt/anaconda3/envs/learn-env/lib/python3.8/site-packages/statsmodels/tsa/base/tsa_model.py:473: ValueWarning: No frequency information was provided, so inferred frequency MS will be used.\n",
      "  self._init_dates(dates, freq)\n",
      "/Users/jonax/opt/anaconda3/envs/learn-env/lib/python3.8/site-packages/statsmodels/tsa/base/tsa_model.py:473: ValueWarning: No frequency information was provided, so inferred frequency MS will be used.\n",
      "  self._init_dates(dates, freq)\n"
     ]
    },
    {
     "data": {
      "text/html": [
       "<table class=\"simpletable\">\n",
       "<caption>SARIMAX Results</caption>\n",
       "<tr>\n",
       "  <th>Dep. Variable:</th>         <td>6706</td>       <th>  No. Observations:  </th>    <td>124</td>  \n",
       "</tr>\n",
       "<tr>\n",
       "  <th>Model:</th>           <td>SARIMAX(0, 2, 0)</td> <th>  Log Likelihood     </th> <td>-973.334</td>\n",
       "</tr>\n",
       "<tr>\n",
       "  <th>Date:</th>            <td>Thu, 06 Jul 2023</td> <th>  AIC                </th> <td>1948.668</td>\n",
       "</tr>\n",
       "<tr>\n",
       "  <th>Time:</th>                <td>14:38:47</td>     <th>  BIC                </th> <td>1951.472</td>\n",
       "</tr>\n",
       "<tr>\n",
       "  <th>Sample:</th>             <td>01-01-2008</td>    <th>  HQIC               </th> <td>1949.807</td>\n",
       "</tr>\n",
       "<tr>\n",
       "  <th></th>                   <td>- 04-01-2018</td>   <th>                     </th>     <td> </td>   \n",
       "</tr>\n",
       "<tr>\n",
       "  <th>Covariance Type:</th>        <td>opg</td>       <th>                     </th>     <td> </td>   \n",
       "</tr>\n",
       "</table>\n",
       "<table class=\"simpletable\">\n",
       "<tr>\n",
       "     <td></td>       <th>coef</th>     <th>std err</th>      <th>z</th>      <th>P>|z|</th>  <th>[0.025</th>    <th>0.975]</th>  \n",
       "</tr>\n",
       "<tr>\n",
       "  <th>sigma2</th> <td> 4.979e+05</td> <td> 5.11e+04</td> <td>    9.744</td> <td> 0.000</td> <td> 3.98e+05</td> <td> 5.98e+05</td>\n",
       "</tr>\n",
       "</table>\n",
       "<table class=\"simpletable\">\n",
       "<tr>\n",
       "  <th>Ljung-Box (L1) (Q):</th>     <td>24.05</td> <th>  Jarque-Bera (JB):  </th> <td>7.46</td>\n",
       "</tr>\n",
       "<tr>\n",
       "  <th>Prob(Q):</th>                <td>0.00</td>  <th>  Prob(JB):          </th> <td>0.02</td>\n",
       "</tr>\n",
       "<tr>\n",
       "  <th>Heteroskedasticity (H):</th> <td>3.22</td>  <th>  Skew:              </th> <td>0.25</td>\n",
       "</tr>\n",
       "<tr>\n",
       "  <th>Prob(H) (two-sided):</th>    <td>0.00</td>  <th>  Kurtosis:          </th> <td>4.10</td>\n",
       "</tr>\n",
       "</table><br/><br/>Warnings:<br/>[1] Covariance matrix calculated using the outer product of gradients (complex-step)."
      ],
      "text/latex": [
       "\\begin{center}\n",
       "\\begin{tabular}{lclc}\n",
       "\\toprule\n",
       "\\textbf{Dep. Variable:}          &       6706       & \\textbf{  No. Observations:  } &    124      \\\\\n",
       "\\textbf{Model:}                  & SARIMAX(0, 2, 0) & \\textbf{  Log Likelihood     } &  -973.334   \\\\\n",
       "\\textbf{Date:}                   & Thu, 06 Jul 2023 & \\textbf{  AIC                } &  1948.668   \\\\\n",
       "\\textbf{Time:}                   &     14:38:47     & \\textbf{  BIC                } &  1951.472   \\\\\n",
       "\\textbf{Sample:}                 &    01-01-2008    & \\textbf{  HQIC               } &  1949.807   \\\\\n",
       "\\textbf{}                        &   - 04-01-2018   & \\textbf{                     } &             \\\\\n",
       "\\textbf{Covariance Type:}        &       opg        & \\textbf{                     } &             \\\\\n",
       "\\bottomrule\n",
       "\\end{tabular}\n",
       "\\begin{tabular}{lcccccc}\n",
       "                & \\textbf{coef} & \\textbf{std err} & \\textbf{z} & \\textbf{P$> |$z$|$} & \\textbf{[0.025} & \\textbf{0.975]}  \\\\\n",
       "\\midrule\n",
       "\\textbf{sigma2} &    4.979e+05  &     5.11e+04     &     9.744  &         0.000        &     3.98e+05    &     5.98e+05     \\\\\n",
       "\\bottomrule\n",
       "\\end{tabular}\n",
       "\\begin{tabular}{lclc}\n",
       "\\textbf{Ljung-Box (L1) (Q):}     & 24.05 & \\textbf{  Jarque-Bera (JB):  } & 7.46  \\\\\n",
       "\\textbf{Prob(Q):}                &  0.00 & \\textbf{  Prob(JB):          } & 0.02  \\\\\n",
       "\\textbf{Heteroskedasticity (H):} &  3.22 & \\textbf{  Skew:              } & 0.25  \\\\\n",
       "\\textbf{Prob(H) (two-sided):}    &  0.00 & \\textbf{  Kurtosis:          } & 4.10  \\\\\n",
       "\\bottomrule\n",
       "\\end{tabular}\n",
       "%\\caption{SARIMAX Results}\n",
       "\\end{center}\n",
       "\n",
       "Warnings: \\newline\n",
       " [1] Covariance matrix calculated using the outer product of gradients (complex-step)."
      ],
      "text/plain": [
       "<class 'statsmodels.iolib.summary.Summary'>\n",
       "\"\"\"\n",
       "                               SARIMAX Results                                \n",
       "==============================================================================\n",
       "Dep. Variable:                   6706   No. Observations:                  124\n",
       "Model:               SARIMAX(0, 2, 0)   Log Likelihood                -973.334\n",
       "Date:                Thu, 06 Jul 2023   AIC                           1948.668\n",
       "Time:                        14:38:47   BIC                           1951.472\n",
       "Sample:                    01-01-2008   HQIC                          1949.807\n",
       "                         - 04-01-2018                                         \n",
       "Covariance Type:                  opg                                         \n",
       "==============================================================================\n",
       "                 coef    std err          z      P>|z|      [0.025      0.975]\n",
       "------------------------------------------------------------------------------\n",
       "sigma2      4.979e+05   5.11e+04      9.744      0.000    3.98e+05    5.98e+05\n",
       "===================================================================================\n",
       "Ljung-Box (L1) (Q):                  24.05   Jarque-Bera (JB):                 7.46\n",
       "Prob(Q):                              0.00   Prob(JB):                         0.02\n",
       "Heteroskedasticity (H):               3.22   Skew:                             0.25\n",
       "Prob(H) (two-sided):                  0.00   Kurtosis:                         4.10\n",
       "===================================================================================\n",
       "\n",
       "Warnings:\n",
       "[1] Covariance matrix calculated using the outer product of gradients (complex-step).\n",
       "\"\"\""
      ]
     },
     "metadata": {},
     "output_type": "display_data"
    },
    {
     "data": {
      "image/png": "[encoded data removed]",
      "text/plain": [
       "<Figure size 576x396 with 1 Axes>"
      ]
     },
     "metadata": {
      "needs_background": "light"
     },
     "output_type": "display_data"
    },
    {
     "name": "stdout",
     "output_type": "stream",
     "text": [
      "------------------------------------------------------------\n",
      "\n",
      "6359\n",
      "RMSE for this ZIP Code is 0.3195441881410846\n"
     ]
    },
    {
     "name": "stderr",
     "output_type": "stream",
     "text": [
      "/Users/jonax/opt/anaconda3/envs/learn-env/lib/python3.8/site-packages/statsmodels/tsa/base/tsa_model.py:473: ValueWarning: No frequency information was provided, so inferred frequency MS will be used.\n",
      "  self._init_dates(dates, freq)\n",
      "/Users/jonax/opt/anaconda3/envs/learn-env/lib/python3.8/site-packages/statsmodels/tsa/base/tsa_model.py:473: ValueWarning: No frequency information was provided, so inferred frequency MS will be used.\n",
      "  self._init_dates(dates, freq)\n"
     ]
    },
    {
     "data": {
      "text/html": [
       "<table class=\"simpletable\">\n",
       "<caption>SARIMAX Results</caption>\n",
       "<tr>\n",
       "  <th>Dep. Variable:</th>         <td>6359</td>       <th>  No. Observations:  </th>    <td>124</td>   \n",
       "</tr>\n",
       "<tr>\n",
       "  <th>Model:</th>           <td>SARIMAX(0, 2, 0)</td> <th>  Log Likelihood     </th> <td>-1026.891</td>\n",
       "</tr>\n",
       "<tr>\n",
       "  <th>Date:</th>            <td>Thu, 06 Jul 2023</td> <th>  AIC                </th> <td>2055.781</td> \n",
       "</tr>\n",
       "<tr>\n",
       "  <th>Time:</th>                <td>14:38:47</td>     <th>  BIC                </th> <td>2058.585</td> \n",
       "</tr>\n",
       "<tr>\n",
       "  <th>Sample:</th>             <td>01-01-2008</td>    <th>  HQIC               </th> <td>2056.920</td> \n",
       "</tr>\n",
       "<tr>\n",
       "  <th></th>                   <td>- 04-01-2018</td>   <th>                     </th>     <td> </td>    \n",
       "</tr>\n",
       "<tr>\n",
       "  <th>Covariance Type:</th>        <td>opg</td>       <th>                     </th>     <td> </td>    \n",
       "</tr>\n",
       "</table>\n",
       "<table class=\"simpletable\">\n",
       "<tr>\n",
       "     <td></td>       <th>coef</th>     <th>std err</th>      <th>z</th>      <th>P>|z|</th>  <th>[0.025</th>    <th>0.975]</th>  \n",
       "</tr>\n",
       "<tr>\n",
       "  <th>sigma2</th> <td> 1.198e+06</td> <td> 1.44e+05</td> <td>    8.343</td> <td> 0.000</td> <td> 9.17e+05</td> <td> 1.48e+06</td>\n",
       "</tr>\n",
       "</table>\n",
       "<table class=\"simpletable\">\n",
       "<tr>\n",
       "  <th>Ljung-Box (L1) (Q):</th>     <td>17.11</td> <th>  Jarque-Bera (JB):  </th> <td>2.47</td>\n",
       "</tr>\n",
       "<tr>\n",
       "  <th>Prob(Q):</th>                <td>0.00</td>  <th>  Prob(JB):          </th> <td>0.29</td>\n",
       "</tr>\n",
       "<tr>\n",
       "  <th>Heteroskedasticity (H):</th> <td>1.50</td>  <th>  Skew:              </th> <td>0.32</td>\n",
       "</tr>\n",
       "<tr>\n",
       "  <th>Prob(H) (two-sided):</th>    <td>0.20</td>  <th>  Kurtosis:          </th> <td>3.29</td>\n",
       "</tr>\n",
       "</table><br/><br/>Warnings:<br/>[1] Covariance matrix calculated using the outer product of gradients (complex-step)."
      ],
      "text/latex": [
       "\\begin{center}\n",
       "\\begin{tabular}{lclc}\n",
       "\\toprule\n",
       "\\textbf{Dep. Variable:}          &       6359       & \\textbf{  No. Observations:  } &    124      \\\\\n",
       "\\textbf{Model:}                  & SARIMAX(0, 2, 0) & \\textbf{  Log Likelihood     } & -1026.891   \\\\\n",
       "\\textbf{Date:}                   & Thu, 06 Jul 2023 & \\textbf{  AIC                } &  2055.781   \\\\\n",
       "\\textbf{Time:}                   &     14:38:47     & \\textbf{  BIC                } &  2058.585   \\\\\n",
       "\\textbf{Sample:}                 &    01-01-2008    & \\textbf{  HQIC               } &  2056.920   \\\\\n",
       "\\textbf{}                        &   - 04-01-2018   & \\textbf{                     } &             \\\\\n",
       "\\textbf{Covariance Type:}        &       opg        & \\textbf{                     } &             \\\\\n",
       "\\bottomrule\n",
       "\\end{tabular}\n",
       "\\begin{tabular}{lcccccc}\n",
       "                & \\textbf{coef} & \\textbf{std err} & \\textbf{z} & \\textbf{P$> |$z$|$} & \\textbf{[0.025} & \\textbf{0.975]}  \\\\\n",
       "\\midrule\n",
       "\\textbf{sigma2} &    1.198e+06  &     1.44e+05     &     8.343  &         0.000        &     9.17e+05    &     1.48e+06     \\\\\n",
       "\\bottomrule\n",
       "\\end{tabular}\n",
       "\\begin{tabular}{lclc}\n",
       "\\textbf{Ljung-Box (L1) (Q):}     & 17.11 & \\textbf{  Jarque-Bera (JB):  } & 2.47  \\\\\n",
       "\\textbf{Prob(Q):}                &  0.00 & \\textbf{  Prob(JB):          } & 0.29  \\\\\n",
       "\\textbf{Heteroskedasticity (H):} &  1.50 & \\textbf{  Skew:              } & 0.32  \\\\\n",
       "\\textbf{Prob(H) (two-sided):}    &  0.20 & \\textbf{  Kurtosis:          } & 3.29  \\\\\n",
       "\\bottomrule\n",
       "\\end{tabular}\n",
       "%\\caption{SARIMAX Results}\n",
       "\\end{center}\n",
       "\n",
       "Warnings: \\newline\n",
       " [1] Covariance matrix calculated using the outer product of gradients (complex-step)."
      ],
      "text/plain": [
       "<class 'statsmodels.iolib.summary.Summary'>\n",
       "\"\"\"\n",
       "                               SARIMAX Results                                \n",
       "==============================================================================\n",
       "Dep. Variable:                   6359   No. Observations:                  124\n",
       "Model:               SARIMAX(0, 2, 0)   Log Likelihood               -1026.891\n",
       "Date:                Thu, 06 Jul 2023   AIC                           2055.781\n",
       "Time:                        14:38:47   BIC                           2058.585\n",
       "Sample:                    01-01-2008   HQIC                          2056.920\n",
       "                         - 04-01-2018                                         \n",
       "Covariance Type:                  opg                                         \n",
       "==============================================================================\n",
       "                 coef    std err          z      P>|z|      [0.025      0.975]\n",
       "------------------------------------------------------------------------------\n",
       "sigma2      1.198e+06   1.44e+05      8.343      0.000    9.17e+05    1.48e+06\n",
       "===================================================================================\n",
       "Ljung-Box (L1) (Q):                  17.11   Jarque-Bera (JB):                 2.47\n",
       "Prob(Q):                              0.00   Prob(JB):                         0.29\n",
       "Heteroskedasticity (H):               1.50   Skew:                             0.32\n",
       "Prob(H) (two-sided):                  0.20   Kurtosis:                         3.29\n",
       "===================================================================================\n",
       "\n",
       "Warnings:\n",
       "[1] Covariance matrix calculated using the outer product of gradients (complex-step).\n",
       "\"\"\""
      ]
     },
     "metadata": {},
     "output_type": "display_data"
    },
    {
     "data": {
      "image/png": "[encoded data removed]",
      "text/plain": [
       "<Figure size 576x396 with 1 Axes>"
      ]
     },
     "metadata": {
      "needs_background": "light"
     },
     "output_type": "display_data"
    },
    {
     "name": "stdout",
     "output_type": "stream",
     "text": [
      "------------------------------------------------------------\n",
      "\n",
      "6069\n",
      "RMSE for this ZIP Code is 1.9020968066122308\n"
     ]
    },
    {
     "name": "stderr",
     "output_type": "stream",
     "text": [
      "/Users/jonax/opt/anaconda3/envs/learn-env/lib/python3.8/site-packages/statsmodels/tsa/base/tsa_model.py:473: ValueWarning: No frequency information was provided, so inferred frequency MS will be used.\n",
      "  self._init_dates(dates, freq)\n",
      "/Users/jonax/opt/anaconda3/envs/learn-env/lib/python3.8/site-packages/statsmodels/tsa/base/tsa_model.py:473: ValueWarning: No frequency information was provided, so inferred frequency MS will be used.\n",
      "  self._init_dates(dates, freq)\n"
     ]
    },
    {
     "data": {
      "text/html": [
       "<table class=\"simpletable\">\n",
       "<caption>SARIMAX Results</caption>\n",
       "<tr>\n",
       "  <th>Dep. Variable:</th>         <td>6069</td>       <th>  No. Observations:  </th>    <td>124</td>   \n",
       "</tr>\n",
       "<tr>\n",
       "  <th>Model:</th>           <td>SARIMAX(0, 2, 0)</td> <th>  Log Likelihood     </th> <td>-1137.265</td>\n",
       "</tr>\n",
       "<tr>\n",
       "  <th>Date:</th>            <td>Thu, 06 Jul 2023</td> <th>  AIC                </th> <td>2276.529</td> \n",
       "</tr>\n",
       "<tr>\n",
       "  <th>Time:</th>                <td>14:38:48</td>     <th>  BIC                </th> <td>2279.333</td> \n",
       "</tr>\n",
       "<tr>\n",
       "  <th>Sample:</th>             <td>01-01-2008</td>    <th>  HQIC               </th> <td>2277.668</td> \n",
       "</tr>\n",
       "<tr>\n",
       "  <th></th>                   <td>- 04-01-2018</td>   <th>                     </th>     <td> </td>    \n",
       "</tr>\n",
       "<tr>\n",
       "  <th>Covariance Type:</th>        <td>opg</td>       <th>                     </th>     <td> </td>    \n",
       "</tr>\n",
       "</table>\n",
       "<table class=\"simpletable\">\n",
       "<tr>\n",
       "     <td></td>       <th>coef</th>     <th>std err</th>      <th>z</th>      <th>P>|z|</th>  <th>[0.025</th>    <th>0.975]</th>  \n",
       "</tr>\n",
       "<tr>\n",
       "  <th>sigma2</th> <td> 7.199e+06</td> <td> 8.17e+05</td> <td>    8.815</td> <td> 0.000</td> <td>  5.6e+06</td> <td>  8.8e+06</td>\n",
       "</tr>\n",
       "</table>\n",
       "<table class=\"simpletable\">\n",
       "<tr>\n",
       "  <th>Ljung-Box (L1) (Q):</th>     <td>5.11</td> <th>  Jarque-Bera (JB):  </th> <td>1.11</td>\n",
       "</tr>\n",
       "<tr>\n",
       "  <th>Prob(Q):</th>                <td>0.02</td> <th>  Prob(JB):          </th> <td>0.58</td>\n",
       "</tr>\n",
       "<tr>\n",
       "  <th>Heteroskedasticity (H):</th> <td>2.26</td> <th>  Skew:              </th> <td>0.03</td>\n",
       "</tr>\n",
       "<tr>\n",
       "  <th>Prob(H) (two-sided):</th>    <td>0.01</td> <th>  Kurtosis:          </th> <td>3.46</td>\n",
       "</tr>\n",
       "</table><br/><br/>Warnings:<br/>[1] Covariance matrix calculated using the outer product of gradients (complex-step)."
      ],
      "text/latex": [
       "\\begin{center}\n",
       "\\begin{tabular}{lclc}\n",
       "\\toprule\n",
       "\\textbf{Dep. Variable:}          &       6069       & \\textbf{  No. Observations:  } &    124      \\\\\n",
       "\\textbf{Model:}                  & SARIMAX(0, 2, 0) & \\textbf{  Log Likelihood     } & -1137.265   \\\\\n",
       "\\textbf{Date:}                   & Thu, 06 Jul 2023 & \\textbf{  AIC                } &  2276.529   \\\\\n",
       "\\textbf{Time:}                   &     14:38:48     & \\textbf{  BIC                } &  2279.333   \\\\\n",
       "\\textbf{Sample:}                 &    01-01-2008    & \\textbf{  HQIC               } &  2277.668   \\\\\n",
       "\\textbf{}                        &   - 04-01-2018   & \\textbf{                     } &             \\\\\n",
       "\\textbf{Covariance Type:}        &       opg        & \\textbf{                     } &             \\\\\n",
       "\\bottomrule\n",
       "\\end{tabular}\n",
       "\\begin{tabular}{lcccccc}\n",
       "                & \\textbf{coef} & \\textbf{std err} & \\textbf{z} & \\textbf{P$> |$z$|$} & \\textbf{[0.025} & \\textbf{0.975]}  \\\\\n",
       "\\midrule\n",
       "\\textbf{sigma2} &    7.199e+06  &     8.17e+05     &     8.815  &         0.000        &      5.6e+06    &      8.8e+06     \\\\\n",
       "\\bottomrule\n",
       "\\end{tabular}\n",
       "\\begin{tabular}{lclc}\n",
       "\\textbf{Ljung-Box (L1) (Q):}     & 5.11 & \\textbf{  Jarque-Bera (JB):  } & 1.11  \\\\\n",
       "\\textbf{Prob(Q):}                & 0.02 & \\textbf{  Prob(JB):          } & 0.58  \\\\\n",
       "\\textbf{Heteroskedasticity (H):} & 2.26 & \\textbf{  Skew:              } & 0.03  \\\\\n",
       "\\textbf{Prob(H) (two-sided):}    & 0.01 & \\textbf{  Kurtosis:          } & 3.46  \\\\\n",
       "\\bottomrule\n",
       "\\end{tabular}\n",
       "%\\caption{SARIMAX Results}\n",
       "\\end{center}\n",
       "\n",
       "Warnings: \\newline\n",
       " [1] Covariance matrix calculated using the outer product of gradients (complex-step)."
      ],
      "text/plain": [
       "<class 'statsmodels.iolib.summary.Summary'>\n",
       "\"\"\"\n",
       "                               SARIMAX Results                                \n",
       "==============================================================================\n",
       "Dep. Variable:                   6069   No. Observations:                  124\n",
       "Model:               SARIMAX(0, 2, 0)   Log Likelihood               -1137.265\n",
       "Date:                Thu, 06 Jul 2023   AIC                           2276.529\n",
       "Time:                        14:38:48   BIC                           2279.333\n",
       "Sample:                    01-01-2008   HQIC                          2277.668\n",
       "                         - 04-01-2018                                         \n",
       "Covariance Type:                  opg                                         \n",
       "==============================================================================\n",
       "                 coef    std err          z      P>|z|      [0.025      0.975]\n",
       "------------------------------------------------------------------------------\n",
       "sigma2      7.199e+06   8.17e+05      8.815      0.000     5.6e+06     8.8e+06\n",
       "===================================================================================\n",
       "Ljung-Box (L1) (Q):                   5.11   Jarque-Bera (JB):                 1.11\n",
       "Prob(Q):                              0.02   Prob(JB):                         0.58\n",
       "Heteroskedasticity (H):               2.26   Skew:                             0.03\n",
       "Prob(H) (two-sided):                  0.01   Kurtosis:                         3.46\n",
       "===================================================================================\n",
       "\n",
       "Warnings:\n",
       "[1] Covariance matrix calculated using the outer product of gradients (complex-step).\n",
       "\"\"\""
      ]
     },
     "metadata": {},
     "output_type": "display_data"
    },
    {
     "data": {
      "image/png": "[encoded data removed]",
      "text/plain": [
       "<Figure size 576x396 with 1 Axes>"
      ]
     },
     "metadata": {
      "needs_background": "light"
     },
     "output_type": "display_data"
    },
    {
     "name": "stdout",
     "output_type": "stream",
     "text": [
      "------------------------------------------------------------\n",
      "\n",
      "6330\n",
      "RMSE for this ZIP Code is 0.43320550764014154\n"
     ]
    },
    {
     "name": "stderr",
     "output_type": "stream",
     "text": [
      "/Users/jonax/opt/anaconda3/envs/learn-env/lib/python3.8/site-packages/statsmodels/tsa/base/tsa_model.py:473: ValueWarning: No frequency information was provided, so inferred frequency MS will be used.\n",
      "  self._init_dates(dates, freq)\n",
      "/Users/jonax/opt/anaconda3/envs/learn-env/lib/python3.8/site-packages/statsmodels/tsa/base/tsa_model.py:473: ValueWarning: No frequency information was provided, so inferred frequency MS will be used.\n",
      "  self._init_dates(dates, freq)\n"
     ]
    },
    {
     "data": {
      "text/html": [
       "<table class=\"simpletable\">\n",
       "<caption>SARIMAX Results</caption>\n",
       "<tr>\n",
       "  <th>Dep. Variable:</th>         <td>6330</td>       <th>  No. Observations:  </th>    <td>124</td>   \n",
       "</tr>\n",
       "<tr>\n",
       "  <th>Model:</th>           <td>SARIMAX(0, 2, 0)</td> <th>  Log Likelihood     </th> <td>-1016.221</td>\n",
       "</tr>\n",
       "<tr>\n",
       "  <th>Date:</th>            <td>Thu, 06 Jul 2023</td> <th>  AIC                </th> <td>2034.441</td> \n",
       "</tr>\n",
       "<tr>\n",
       "  <th>Time:</th>                <td>14:38:48</td>     <th>  BIC                </th> <td>2037.245</td> \n",
       "</tr>\n",
       "<tr>\n",
       "  <th>Sample:</th>             <td>01-01-2008</td>    <th>  HQIC               </th> <td>2035.580</td> \n",
       "</tr>\n",
       "<tr>\n",
       "  <th></th>                   <td>- 04-01-2018</td>   <th>                     </th>     <td> </td>    \n",
       "</tr>\n",
       "<tr>\n",
       "  <th>Covariance Type:</th>        <td>opg</td>       <th>                     </th>     <td> </td>    \n",
       "</tr>\n",
       "</table>\n",
       "<table class=\"simpletable\">\n",
       "<tr>\n",
       "     <td></td>       <th>coef</th>     <th>std err</th>      <th>z</th>      <th>P>|z|</th>  <th>[0.025</th>    <th>0.975]</th>  \n",
       "</tr>\n",
       "<tr>\n",
       "  <th>sigma2</th> <td> 1.006e+06</td> <td> 1.32e+05</td> <td>    7.612</td> <td> 0.000</td> <td> 7.47e+05</td> <td> 1.26e+06</td>\n",
       "</tr>\n",
       "</table>\n",
       "<table class=\"simpletable\">\n",
       "<tr>\n",
       "  <th>Ljung-Box (L1) (Q):</th>     <td>7.25</td> <th>  Jarque-Bera (JB):  </th> <td>0.50</td> \n",
       "</tr>\n",
       "<tr>\n",
       "  <th>Prob(Q):</th>                <td>0.01</td> <th>  Prob(JB):          </th> <td>0.78</td> \n",
       "</tr>\n",
       "<tr>\n",
       "  <th>Heteroskedasticity (H):</th> <td>1.92</td> <th>  Skew:              </th> <td>-0.15</td>\n",
       "</tr>\n",
       "<tr>\n",
       "  <th>Prob(H) (two-sided):</th>    <td>0.04</td> <th>  Kurtosis:          </th> <td>2.91</td> \n",
       "</tr>\n",
       "</table><br/><br/>Warnings:<br/>[1] Covariance matrix calculated using the outer product of gradients (complex-step)."
      ],
      "text/latex": [
       "\\begin{center}\n",
       "\\begin{tabular}{lclc}\n",
       "\\toprule\n",
       "\\textbf{Dep. Variable:}          &       6330       & \\textbf{  No. Observations:  } &    124      \\\\\n",
       "\\textbf{Model:}                  & SARIMAX(0, 2, 0) & \\textbf{  Log Likelihood     } & -1016.221   \\\\\n",
       "\\textbf{Date:}                   & Thu, 06 Jul 2023 & \\textbf{  AIC                } &  2034.441   \\\\\n",
       "\\textbf{Time:}                   &     14:38:48     & \\textbf{  BIC                } &  2037.245   \\\\\n",
       "\\textbf{Sample:}                 &    01-01-2008    & \\textbf{  HQIC               } &  2035.580   \\\\\n",
       "\\textbf{}                        &   - 04-01-2018   & \\textbf{                     } &             \\\\\n",
       "\\textbf{Covariance Type:}        &       opg        & \\textbf{                     } &             \\\\\n",
       "\\bottomrule\n",
       "\\end{tabular}\n",
       "\\begin{tabular}{lcccccc}\n",
       "                & \\textbf{coef} & \\textbf{std err} & \\textbf{z} & \\textbf{P$> |$z$|$} & \\textbf{[0.025} & \\textbf{0.975]}  \\\\\n",
       "\\midrule\n",
       "\\textbf{sigma2} &    1.006e+06  &     1.32e+05     &     7.612  &         0.000        &     7.47e+05    &     1.26e+06     \\\\\n",
       "\\bottomrule\n",
       "\\end{tabular}\n",
       "\\begin{tabular}{lclc}\n",
       "\\textbf{Ljung-Box (L1) (Q):}     & 7.25 & \\textbf{  Jarque-Bera (JB):  } &  0.50  \\\\\n",
       "\\textbf{Prob(Q):}                & 0.01 & \\textbf{  Prob(JB):          } &  0.78  \\\\\n",
       "\\textbf{Heteroskedasticity (H):} & 1.92 & \\textbf{  Skew:              } & -0.15  \\\\\n",
       "\\textbf{Prob(H) (two-sided):}    & 0.04 & \\textbf{  Kurtosis:          } &  2.91  \\\\\n",
       "\\bottomrule\n",
       "\\end{tabular}\n",
       "%\\caption{SARIMAX Results}\n",
       "\\end{center}\n",
       "\n",
       "Warnings: \\newline\n",
       " [1] Covariance matrix calculated using the outer product of gradients (complex-step)."
      ],
      "text/plain": [
       "<class 'statsmodels.iolib.summary.Summary'>\n",
       "\"\"\"\n",
       "                               SARIMAX Results                                \n",
       "==============================================================================\n",
       "Dep. Variable:                   6330   No. Observations:                  124\n",
       "Model:               SARIMAX(0, 2, 0)   Log Likelihood               -1016.221\n",
       "Date:                Thu, 06 Jul 2023   AIC                           2034.441\n",
       "Time:                        14:38:48   BIC                           2037.245\n",
       "Sample:                    01-01-2008   HQIC                          2035.580\n",
       "                         - 04-01-2018                                         \n",
       "Covariance Type:                  opg                                         \n",
       "==============================================================================\n",
       "                 coef    std err          z      P>|z|      [0.025      0.975]\n",
       "------------------------------------------------------------------------------\n",
       "sigma2      1.006e+06   1.32e+05      7.612      0.000    7.47e+05    1.26e+06\n",
       "===================================================================================\n",
       "Ljung-Box (L1) (Q):                   7.25   Jarque-Bera (JB):                 0.50\n",
       "Prob(Q):                              0.01   Prob(JB):                         0.78\n",
       "Heteroskedasticity (H):               1.92   Skew:                            -0.15\n",
       "Prob(H) (two-sided):                  0.04   Kurtosis:                         2.91\n",
       "===================================================================================\n",
       "\n",
       "Warnings:\n",
       "[1] Covariance matrix calculated using the outer product of gradients (complex-step).\n",
       "\"\"\""
      ]
     },
     "metadata": {},
     "output_type": "display_data"
    },
    {
     "data": {
      "image/png": "[encoded data removed]",
      "text/plain": [
       "<Figure size 576x396 with 1 Axes>"
      ]
     },
     "metadata": {
      "needs_background": "light"
     },
     "output_type": "display_data"
    },
    {
     "name": "stdout",
     "output_type": "stream",
     "text": [
      "------------------------------------------------------------\n",
      "\n",
      "6039\n",
      "RMSE for this ZIP Code is 0.6428389700020414\n"
     ]
    },
    {
     "name": "stderr",
     "output_type": "stream",
     "text": [
      "/Users/jonax/opt/anaconda3/envs/learn-env/lib/python3.8/site-packages/statsmodels/tsa/base/tsa_model.py:473: ValueWarning: No frequency information was provided, so inferred frequency MS will be used.\n",
      "  self._init_dates(dates, freq)\n",
      "/Users/jonax/opt/anaconda3/envs/learn-env/lib/python3.8/site-packages/statsmodels/tsa/base/tsa_model.py:473: ValueWarning: No frequency information was provided, so inferred frequency MS will be used.\n",
      "  self._init_dates(dates, freq)\n"
     ]
    },
    {
     "data": {
      "text/html": [
       "<table class=\"simpletable\">\n",
       "<caption>SARIMAX Results</caption>\n",
       "<tr>\n",
       "  <th>Dep. Variable:</th>         <td>6039</td>       <th>  No. Observations:  </th>    <td>124</td>   \n",
       "</tr>\n",
       "<tr>\n",
       "  <th>Model:</th>           <td>SARIMAX(0, 2, 0)</td> <th>  Log Likelihood     </th> <td>-1177.615</td>\n",
       "</tr>\n",
       "<tr>\n",
       "  <th>Date:</th>            <td>Thu, 06 Jul 2023</td> <th>  AIC                </th> <td>2357.229</td> \n",
       "</tr>\n",
       "<tr>\n",
       "  <th>Time:</th>                <td>14:38:48</td>     <th>  BIC                </th> <td>2360.033</td> \n",
       "</tr>\n",
       "<tr>\n",
       "  <th>Sample:</th>             <td>01-01-2008</td>    <th>  HQIC               </th> <td>2358.368</td> \n",
       "</tr>\n",
       "<tr>\n",
       "  <th></th>                   <td>- 04-01-2018</td>   <th>                     </th>     <td> </td>    \n",
       "</tr>\n",
       "<tr>\n",
       "  <th>Covariance Type:</th>        <td>opg</td>       <th>                     </th>     <td> </td>    \n",
       "</tr>\n",
       "</table>\n",
       "<table class=\"simpletable\">\n",
       "<tr>\n",
       "     <td></td>       <th>coef</th>     <th>std err</th>      <th>z</th>      <th>P>|z|</th>  <th>[0.025</th>    <th>0.975]</th>  \n",
       "</tr>\n",
       "<tr>\n",
       "  <th>sigma2</th> <td> 1.395e+07</td> <td> 1.54e+06</td> <td>    9.052</td> <td> 0.000</td> <td> 1.09e+07</td> <td>  1.7e+07</td>\n",
       "</tr>\n",
       "</table>\n",
       "<table class=\"simpletable\">\n",
       "<tr>\n",
       "  <th>Ljung-Box (L1) (Q):</th>     <td>13.80</td> <th>  Jarque-Bera (JB):  </th> <td>8.07</td> \n",
       "</tr>\n",
       "<tr>\n",
       "  <th>Prob(Q):</th>                <td>0.00</td>  <th>  Prob(JB):          </th> <td>0.02</td> \n",
       "</tr>\n",
       "<tr>\n",
       "  <th>Heteroskedasticity (H):</th> <td>1.62</td>  <th>  Skew:              </th> <td>-0.55</td>\n",
       "</tr>\n",
       "<tr>\n",
       "  <th>Prob(H) (two-sided):</th>    <td>0.13</td>  <th>  Kurtosis:          </th> <td>3.61</td> \n",
       "</tr>\n",
       "</table><br/><br/>Warnings:<br/>[1] Covariance matrix calculated using the outer product of gradients (complex-step)."
      ],
      "text/latex": [
       "\\begin{center}\n",
       "\\begin{tabular}{lclc}\n",
       "\\toprule\n",
       "\\textbf{Dep. Variable:}          &       6039       & \\textbf{  No. Observations:  } &    124      \\\\\n",
       "\\textbf{Model:}                  & SARIMAX(0, 2, 0) & \\textbf{  Log Likelihood     } & -1177.615   \\\\\n",
       "\\textbf{Date:}                   & Thu, 06 Jul 2023 & \\textbf{  AIC                } &  2357.229   \\\\\n",
       "\\textbf{Time:}                   &     14:38:48     & \\textbf{  BIC                } &  2360.033   \\\\\n",
       "\\textbf{Sample:}                 &    01-01-2008    & \\textbf{  HQIC               } &  2358.368   \\\\\n",
       "\\textbf{}                        &   - 04-01-2018   & \\textbf{                     } &             \\\\\n",
       "\\textbf{Covariance Type:}        &       opg        & \\textbf{                     } &             \\\\\n",
       "\\bottomrule\n",
       "\\end{tabular}\n",
       "\\begin{tabular}{lcccccc}\n",
       "                & \\textbf{coef} & \\textbf{std err} & \\textbf{z} & \\textbf{P$> |$z$|$} & \\textbf{[0.025} & \\textbf{0.975]}  \\\\\n",
       "\\midrule\n",
       "\\textbf{sigma2} &    1.395e+07  &     1.54e+06     &     9.052  &         0.000        &     1.09e+07    &      1.7e+07     \\\\\n",
       "\\bottomrule\n",
       "\\end{tabular}\n",
       "\\begin{tabular}{lclc}\n",
       "\\textbf{Ljung-Box (L1) (Q):}     & 13.80 & \\textbf{  Jarque-Bera (JB):  } &  8.07  \\\\\n",
       "\\textbf{Prob(Q):}                &  0.00 & \\textbf{  Prob(JB):          } &  0.02  \\\\\n",
       "\\textbf{Heteroskedasticity (H):} &  1.62 & \\textbf{  Skew:              } & -0.55  \\\\\n",
       "\\textbf{Prob(H) (two-sided):}    &  0.13 & \\textbf{  Kurtosis:          } &  3.61  \\\\\n",
       "\\bottomrule\n",
       "\\end{tabular}\n",
       "%\\caption{SARIMAX Results}\n",
       "\\end{center}\n",
       "\n",
       "Warnings: \\newline\n",
       " [1] Covariance matrix calculated using the outer product of gradients (complex-step)."
      ],
      "text/plain": [
       "<class 'statsmodels.iolib.summary.Summary'>\n",
       "\"\"\"\n",
       "                               SARIMAX Results                                \n",
       "==============================================================================\n",
       "Dep. Variable:                   6039   No. Observations:                  124\n",
       "Model:               SARIMAX(0, 2, 0)   Log Likelihood               -1177.615\n",
       "Date:                Thu, 06 Jul 2023   AIC                           2357.229\n",
       "Time:                        14:38:48   BIC                           2360.033\n",
       "Sample:                    01-01-2008   HQIC                          2358.368\n",
       "                         - 04-01-2018                                         \n",
       "Covariance Type:                  opg                                         \n",
       "==============================================================================\n",
       "                 coef    std err          z      P>|z|      [0.025      0.975]\n",
       "------------------------------------------------------------------------------\n",
       "sigma2      1.395e+07   1.54e+06      9.052      0.000    1.09e+07     1.7e+07\n",
       "===================================================================================\n",
       "Ljung-Box (L1) (Q):                  13.80   Jarque-Bera (JB):                 8.07\n",
       "Prob(Q):                              0.00   Prob(JB):                         0.02\n",
       "Heteroskedasticity (H):               1.62   Skew:                            -0.55\n",
       "Prob(H) (two-sided):                  0.13   Kurtosis:                         3.61\n",
       "===================================================================================\n",
       "\n",
       "Warnings:\n",
       "[1] Covariance matrix calculated using the outer product of gradients (complex-step).\n",
       "\"\"\""
      ]
     },
     "metadata": {},
     "output_type": "display_data"
    },
    {
     "data": {
      "image/png": "[encoded data removed]",
      "text/plain": [
       "<Figure size 576x396 with 1 Axes>"
      ]
     },
     "metadata": {
      "needs_background": "light"
     },
     "output_type": "display_data"
    },
    {
     "name": "stdout",
     "output_type": "stream",
     "text": [
      "------------------------------------------------------------\n",
      "\n",
      "6235\n",
      "RMSE for this ZIP Code is 0.4230978182757336\n"
     ]
    },
    {
     "name": "stderr",
     "output_type": "stream",
     "text": [
      "/Users/jonax/opt/anaconda3/envs/learn-env/lib/python3.8/site-packages/statsmodels/tsa/base/tsa_model.py:473: ValueWarning: No frequency information was provided, so inferred frequency MS will be used.\n",
      "  self._init_dates(dates, freq)\n",
      "/Users/jonax/opt/anaconda3/envs/learn-env/lib/python3.8/site-packages/statsmodels/tsa/base/tsa_model.py:473: ValueWarning: No frequency information was provided, so inferred frequency MS will be used.\n",
      "  self._init_dates(dates, freq)\n"
     ]
    },
    {
     "data": {
      "text/html": [
       "<table class=\"simpletable\">\n",
       "<caption>SARIMAX Results</caption>\n",
       "<tr>\n",
       "  <th>Dep. Variable:</th>         <td>6235</td>       <th>  No. Observations:  </th>    <td>124</td>   \n",
       "</tr>\n",
       "<tr>\n",
       "  <th>Model:</th>           <td>SARIMAX(0, 2, 0)</td> <th>  Log Likelihood     </th> <td>-1027.650</td>\n",
       "</tr>\n",
       "<tr>\n",
       "  <th>Date:</th>            <td>Thu, 06 Jul 2023</td> <th>  AIC                </th> <td>2057.299</td> \n",
       "</tr>\n",
       "<tr>\n",
       "  <th>Time:</th>                <td>14:38:49</td>     <th>  BIC                </th> <td>2060.103</td> \n",
       "</tr>\n",
       "<tr>\n",
       "  <th>Sample:</th>             <td>01-01-2008</td>    <th>  HQIC               </th> <td>2058.438</td> \n",
       "</tr>\n",
       "<tr>\n",
       "  <th></th>                   <td>- 04-01-2018</td>   <th>                     </th>     <td> </td>    \n",
       "</tr>\n",
       "<tr>\n",
       "  <th>Covariance Type:</th>        <td>opg</td>       <th>                     </th>     <td> </td>    \n",
       "</tr>\n",
       "</table>\n",
       "<table class=\"simpletable\">\n",
       "<tr>\n",
       "     <td></td>       <th>coef</th>     <th>std err</th>      <th>z</th>      <th>P>|z|</th>  <th>[0.025</th>    <th>0.975]</th>  \n",
       "</tr>\n",
       "<tr>\n",
       "  <th>sigma2</th> <td> 1.213e+06</td> <td> 1.23e+05</td> <td>    9.891</td> <td> 0.000</td> <td> 9.73e+05</td> <td> 1.45e+06</td>\n",
       "</tr>\n",
       "</table>\n",
       "<table class=\"simpletable\">\n",
       "<tr>\n",
       "  <th>Ljung-Box (L1) (Q):</th>     <td>5.93</td> <th>  Jarque-Bera (JB):  </th> <td>7.58</td>\n",
       "</tr>\n",
       "<tr>\n",
       "  <th>Prob(Q):</th>                <td>0.01</td> <th>  Prob(JB):          </th> <td>0.02</td>\n",
       "</tr>\n",
       "<tr>\n",
       "  <th>Heteroskedasticity (H):</th> <td>0.95</td> <th>  Skew:              </th> <td>0.12</td>\n",
       "</tr>\n",
       "<tr>\n",
       "  <th>Prob(H) (two-sided):</th>    <td>0.88</td> <th>  Kurtosis:          </th> <td>4.20</td>\n",
       "</tr>\n",
       "</table><br/><br/>Warnings:<br/>[1] Covariance matrix calculated using the outer product of gradients (complex-step)."
      ],
      "text/latex": [
       "\\begin{center}\n",
       "\\begin{tabular}{lclc}\n",
       "\\toprule\n",
       "\\textbf{Dep. Variable:}          &       6235       & \\textbf{  No. Observations:  } &    124      \\\\\n",
       "\\textbf{Model:}                  & SARIMAX(0, 2, 0) & \\textbf{  Log Likelihood     } & -1027.650   \\\\\n",
       "\\textbf{Date:}                   & Thu, 06 Jul 2023 & \\textbf{  AIC                } &  2057.299   \\\\\n",
       "\\textbf{Time:}                   &     14:38:49     & \\textbf{  BIC                } &  2060.103   \\\\\n",
       "\\textbf{Sample:}                 &    01-01-2008    & \\textbf{  HQIC               } &  2058.438   \\\\\n",
       "\\textbf{}                        &   - 04-01-2018   & \\textbf{                     } &             \\\\\n",
       "\\textbf{Covariance Type:}        &       opg        & \\textbf{                     } &             \\\\\n",
       "\\bottomrule\n",
       "\\end{tabular}\n",
       "\\begin{tabular}{lcccccc}\n",
       "                & \\textbf{coef} & \\textbf{std err} & \\textbf{z} & \\textbf{P$> |$z$|$} & \\textbf{[0.025} & \\textbf{0.975]}  \\\\\n",
       "\\midrule\n",
       "\\textbf{sigma2} &    1.213e+06  &     1.23e+05     &     9.891  &         0.000        &     9.73e+05    &     1.45e+06     \\\\\n",
       "\\bottomrule\n",
       "\\end{tabular}\n",
       "\\begin{tabular}{lclc}\n",
       "\\textbf{Ljung-Box (L1) (Q):}     & 5.93 & \\textbf{  Jarque-Bera (JB):  } & 7.58  \\\\\n",
       "\\textbf{Prob(Q):}                & 0.01 & \\textbf{  Prob(JB):          } & 0.02  \\\\\n",
       "\\textbf{Heteroskedasticity (H):} & 0.95 & \\textbf{  Skew:              } & 0.12  \\\\\n",
       "\\textbf{Prob(H) (two-sided):}    & 0.88 & \\textbf{  Kurtosis:          } & 4.20  \\\\\n",
       "\\bottomrule\n",
       "\\end{tabular}\n",
       "%\\caption{SARIMAX Results}\n",
       "\\end{center}\n",
       "\n",
       "Warnings: \\newline\n",
       " [1] Covariance matrix calculated using the outer product of gradients (complex-step)."
      ],
      "text/plain": [
       "<class 'statsmodels.iolib.summary.Summary'>\n",
       "\"\"\"\n",
       "                               SARIMAX Results                                \n",
       "==============================================================================\n",
       "Dep. Variable:                   6235   No. Observations:                  124\n",
       "Model:               SARIMAX(0, 2, 0)   Log Likelihood               -1027.650\n",
       "Date:                Thu, 06 Jul 2023   AIC                           2057.299\n",
       "Time:                        14:38:49   BIC                           2060.103\n",
       "Sample:                    01-01-2008   HQIC                          2058.438\n",
       "                         - 04-01-2018                                         \n",
       "Covariance Type:                  opg                                         \n",
       "==============================================================================\n",
       "                 coef    std err          z      P>|z|      [0.025      0.975]\n",
       "------------------------------------------------------------------------------\n",
       "sigma2      1.213e+06   1.23e+05      9.891      0.000    9.73e+05    1.45e+06\n",
       "===================================================================================\n",
       "Ljung-Box (L1) (Q):                   5.93   Jarque-Bera (JB):                 7.58\n",
       "Prob(Q):                              0.01   Prob(JB):                         0.02\n",
       "Heteroskedasticity (H):               0.95   Skew:                             0.12\n",
       "Prob(H) (two-sided):                  0.88   Kurtosis:                         4.20\n",
       "===================================================================================\n",
       "\n",
       "Warnings:\n",
       "[1] Covariance matrix calculated using the outer product of gradients (complex-step).\n",
       "\"\"\""
      ]
     },
     "metadata": {},
     "output_type": "display_data"
    },
    {
     "data": {
      "image/png": "[encoded data removed]",
      "text/plain": [
       "<Figure size 576x396 with 1 Axes>"
      ]
     },
     "metadata": {
      "needs_background": "light"
     },
     "output_type": "display_data"
    },
    {
     "name": "stdout",
     "output_type": "stream",
     "text": [
      "------------------------------------------------------------\n",
      "\n",
      "6068\n",
      "RMSE for this ZIP Code is 0.2197566441907544\n"
     ]
    },
    {
     "name": "stderr",
     "output_type": "stream",
     "text": [
      "/Users/jonax/opt/anaconda3/envs/learn-env/lib/python3.8/site-packages/statsmodels/tsa/base/tsa_model.py:473: ValueWarning: No frequency information was provided, so inferred frequency MS will be used.\n",
      "  self._init_dates(dates, freq)\n",
      "/Users/jonax/opt/anaconda3/envs/learn-env/lib/python3.8/site-packages/statsmodels/tsa/base/tsa_model.py:473: ValueWarning: No frequency information was provided, so inferred frequency MS will be used.\n",
      "  self._init_dates(dates, freq)\n"
     ]
    },
    {
     "data": {
      "text/html": [
       "<table class=\"simpletable\">\n",
       "<caption>SARIMAX Results</caption>\n",
       "<tr>\n",
       "  <th>Dep. Variable:</th>         <td>6068</td>       <th>  No. Observations:  </th>    <td>124</td>   \n",
       "</tr>\n",
       "<tr>\n",
       "  <th>Model:</th>           <td>SARIMAX(0, 1, 0)</td> <th>  Log Likelihood     </th> <td>-1255.669</td>\n",
       "</tr>\n",
       "<tr>\n",
       "  <th>Date:</th>            <td>Thu, 06 Jul 2023</td> <th>  AIC                </th> <td>2513.339</td> \n",
       "</tr>\n",
       "<tr>\n",
       "  <th>Time:</th>                <td>14:38:49</td>     <th>  BIC                </th> <td>2516.151</td> \n",
       "</tr>\n",
       "<tr>\n",
       "  <th>Sample:</th>             <td>01-01-2008</td>    <th>  HQIC               </th> <td>2514.481</td> \n",
       "</tr>\n",
       "<tr>\n",
       "  <th></th>                   <td>- 04-01-2018</td>   <th>                     </th>     <td> </td>    \n",
       "</tr>\n",
       "<tr>\n",
       "  <th>Covariance Type:</th>        <td>opg</td>       <th>                     </th>     <td> </td>    \n",
       "</tr>\n",
       "</table>\n",
       "<table class=\"simpletable\">\n",
       "<tr>\n",
       "     <td></td>       <th>coef</th>     <th>std err</th>      <th>z</th>      <th>P>|z|</th>  <th>[0.025</th>    <th>0.975]</th>  \n",
       "</tr>\n",
       "<tr>\n",
       "  <th>sigma2</th> <td> 4.277e+07</td> <td> 4.65e+06</td> <td>    9.192</td> <td> 0.000</td> <td> 3.37e+07</td> <td> 5.19e+07</td>\n",
       "</tr>\n",
       "</table>\n",
       "<table class=\"simpletable\">\n",
       "<tr>\n",
       "  <th>Ljung-Box (L1) (Q):</th>     <td>79.29</td> <th>  Jarque-Bera (JB):  </th> <td>3.47</td> \n",
       "</tr>\n",
       "<tr>\n",
       "  <th>Prob(Q):</th>                <td>0.00</td>  <th>  Prob(JB):          </th> <td>0.18</td> \n",
       "</tr>\n",
       "<tr>\n",
       "  <th>Heteroskedasticity (H):</th> <td>1.13</td>  <th>  Skew:              </th> <td>-0.24</td>\n",
       "</tr>\n",
       "<tr>\n",
       "  <th>Prob(H) (two-sided):</th>    <td>0.69</td>  <th>  Kurtosis:          </th> <td>3.66</td> \n",
       "</tr>\n",
       "</table><br/><br/>Warnings:<br/>[1] Covariance matrix calculated using the outer product of gradients (complex-step)."
      ],
      "text/latex": [
       "\\begin{center}\n",
       "\\begin{tabular}{lclc}\n",
       "\\toprule\n",
       "\\textbf{Dep. Variable:}          &       6068       & \\textbf{  No. Observations:  } &    124      \\\\\n",
       "\\textbf{Model:}                  & SARIMAX(0, 1, 0) & \\textbf{  Log Likelihood     } & -1255.669   \\\\\n",
       "\\textbf{Date:}                   & Thu, 06 Jul 2023 & \\textbf{  AIC                } &  2513.339   \\\\\n",
       "\\textbf{Time:}                   &     14:38:49     & \\textbf{  BIC                } &  2516.151   \\\\\n",
       "\\textbf{Sample:}                 &    01-01-2008    & \\textbf{  HQIC               } &  2514.481   \\\\\n",
       "\\textbf{}                        &   - 04-01-2018   & \\textbf{                     } &             \\\\\n",
       "\\textbf{Covariance Type:}        &       opg        & \\textbf{                     } &             \\\\\n",
       "\\bottomrule\n",
       "\\end{tabular}\n",
       "\\begin{tabular}{lcccccc}\n",
       "                & \\textbf{coef} & \\textbf{std err} & \\textbf{z} & \\textbf{P$> |$z$|$} & \\textbf{[0.025} & \\textbf{0.975]}  \\\\\n",
       "\\midrule\n",
       "\\textbf{sigma2} &    4.277e+07  &     4.65e+06     &     9.192  &         0.000        &     3.37e+07    &     5.19e+07     \\\\\n",
       "\\bottomrule\n",
       "\\end{tabular}\n",
       "\\begin{tabular}{lclc}\n",
       "\\textbf{Ljung-Box (L1) (Q):}     & 79.29 & \\textbf{  Jarque-Bera (JB):  } &  3.47  \\\\\n",
       "\\textbf{Prob(Q):}                &  0.00 & \\textbf{  Prob(JB):          } &  0.18  \\\\\n",
       "\\textbf{Heteroskedasticity (H):} &  1.13 & \\textbf{  Skew:              } & -0.24  \\\\\n",
       "\\textbf{Prob(H) (two-sided):}    &  0.69 & \\textbf{  Kurtosis:          } &  3.66  \\\\\n",
       "\\bottomrule\n",
       "\\end{tabular}\n",
       "%\\caption{SARIMAX Results}\n",
       "\\end{center}\n",
       "\n",
       "Warnings: \\newline\n",
       " [1] Covariance matrix calculated using the outer product of gradients (complex-step)."
      ],
      "text/plain": [
       "<class 'statsmodels.iolib.summary.Summary'>\n",
       "\"\"\"\n",
       "                               SARIMAX Results                                \n",
       "==============================================================================\n",
       "Dep. Variable:                   6068   No. Observations:                  124\n",
       "Model:               SARIMAX(0, 1, 0)   Log Likelihood               -1255.669\n",
       "Date:                Thu, 06 Jul 2023   AIC                           2513.339\n",
       "Time:                        14:38:49   BIC                           2516.151\n",
       "Sample:                    01-01-2008   HQIC                          2514.481\n",
       "                         - 04-01-2018                                         \n",
       "Covariance Type:                  opg                                         \n",
       "==============================================================================\n",
       "                 coef    std err          z      P>|z|      [0.025      0.975]\n",
       "------------------------------------------------------------------------------\n",
       "sigma2      4.277e+07   4.65e+06      9.192      0.000    3.37e+07    5.19e+07\n",
       "===================================================================================\n",
       "Ljung-Box (L1) (Q):                  79.29   Jarque-Bera (JB):                 3.47\n",
       "Prob(Q):                              0.00   Prob(JB):                         0.18\n",
       "Heteroskedasticity (H):               1.13   Skew:                            -0.24\n",
       "Prob(H) (two-sided):                  0.69   Kurtosis:                         3.66\n",
       "===================================================================================\n",
       "\n",
       "Warnings:\n",
       "[1] Covariance matrix calculated using the outer product of gradients (complex-step).\n",
       "\"\"\""
      ]
     },
     "metadata": {},
     "output_type": "display_data"
    },
    {
     "data": {
      "image/png": "[encoded data removed]",
      "text/plain": [
       "<Figure size 576x396 with 1 Axes>"
      ]
     },
     "metadata": {
      "needs_background": "light"
     },
     "output_type": "display_data"
    },
    {
     "name": "stdout",
     "output_type": "stream",
     "text": [
      "------------------------------------------------------------\n",
      "\n",
      "6796\n",
      "RMSE for this ZIP Code is 0.17276426242244192\n"
     ]
    },
    {
     "name": "stderr",
     "output_type": "stream",
     "text": [
      "/Users/jonax/opt/anaconda3/envs/learn-env/lib/python3.8/site-packages/statsmodels/tsa/base/tsa_model.py:473: ValueWarning: No frequency information was provided, so inferred frequency MS will be used.\n",
      "  self._init_dates(dates, freq)\n",
      "/Users/jonax/opt/anaconda3/envs/learn-env/lib/python3.8/site-packages/statsmodels/tsa/base/tsa_model.py:473: ValueWarning: No frequency information was provided, so inferred frequency MS will be used.\n",
      "  self._init_dates(dates, freq)\n"
     ]
    },
    {
     "data": {
      "text/html": [
       "<table class=\"simpletable\">\n",
       "<caption>SARIMAX Results</caption>\n",
       "<tr>\n",
       "  <th>Dep. Variable:</th>         <td>6796</td>       <th>  No. Observations:  </th>    <td>124</td>   \n",
       "</tr>\n",
       "<tr>\n",
       "  <th>Model:</th>           <td>SARIMAX(0, 1, 0)</td> <th>  Log Likelihood     </th> <td>-1242.396</td>\n",
       "</tr>\n",
       "<tr>\n",
       "  <th>Date:</th>            <td>Thu, 06 Jul 2023</td> <th>  AIC                </th> <td>2486.793</td> \n",
       "</tr>\n",
       "<tr>\n",
       "  <th>Time:</th>                <td>14:38:50</td>     <th>  BIC                </th> <td>2489.605</td> \n",
       "</tr>\n",
       "<tr>\n",
       "  <th>Sample:</th>             <td>01-01-2008</td>    <th>  HQIC               </th> <td>2487.935</td> \n",
       "</tr>\n",
       "<tr>\n",
       "  <th></th>                   <td>- 04-01-2018</td>   <th>                     </th>     <td> </td>    \n",
       "</tr>\n",
       "<tr>\n",
       "  <th>Covariance Type:</th>        <td>opg</td>       <th>                     </th>     <td> </td>    \n",
       "</tr>\n",
       "</table>\n",
       "<table class=\"simpletable\">\n",
       "<tr>\n",
       "     <td></td>       <th>coef</th>     <th>std err</th>      <th>z</th>      <th>P>|z|</th>  <th>[0.025</th>    <th>0.975]</th>  \n",
       "</tr>\n",
       "<tr>\n",
       "  <th>sigma2</th> <td> 3.447e+07</td> <td> 4.32e+06</td> <td>    7.972</td> <td> 0.000</td> <td>  2.6e+07</td> <td> 4.29e+07</td>\n",
       "</tr>\n",
       "</table>\n",
       "<table class=\"simpletable\">\n",
       "<tr>\n",
       "  <th>Ljung-Box (L1) (Q):</th>     <td>73.39</td> <th>  Jarque-Bera (JB):  </th> <td>0.22</td>\n",
       "</tr>\n",
       "<tr>\n",
       "  <th>Prob(Q):</th>                <td>0.00</td>  <th>  Prob(JB):          </th> <td>0.90</td>\n",
       "</tr>\n",
       "<tr>\n",
       "  <th>Heteroskedasticity (H):</th> <td>0.70</td>  <th>  Skew:              </th> <td>0.09</td>\n",
       "</tr>\n",
       "<tr>\n",
       "  <th>Prob(H) (two-sided):</th>    <td>0.26</td>  <th>  Kurtosis:          </th> <td>3.09</td>\n",
       "</tr>\n",
       "</table><br/><br/>Warnings:<br/>[1] Covariance matrix calculated using the outer product of gradients (complex-step)."
      ],
      "text/latex": [
       "\\begin{center}\n",
       "\\begin{tabular}{lclc}\n",
       "\\toprule\n",
       "\\textbf{Dep. Variable:}          &       6796       & \\textbf{  No. Observations:  } &    124      \\\\\n",
       "\\textbf{Model:}                  & SARIMAX(0, 1, 0) & \\textbf{  Log Likelihood     } & -1242.396   \\\\\n",
       "\\textbf{Date:}                   & Thu, 06 Jul 2023 & \\textbf{  AIC                } &  2486.793   \\\\\n",
       "\\textbf{Time:}                   &     14:38:50     & \\textbf{  BIC                } &  2489.605   \\\\\n",
       "\\textbf{Sample:}                 &    01-01-2008    & \\textbf{  HQIC               } &  2487.935   \\\\\n",
       "\\textbf{}                        &   - 04-01-2018   & \\textbf{                     } &             \\\\\n",
       "\\textbf{Covariance Type:}        &       opg        & \\textbf{                     } &             \\\\\n",
       "\\bottomrule\n",
       "\\end{tabular}\n",
       "\\begin{tabular}{lcccccc}\n",
       "                & \\textbf{coef} & \\textbf{std err} & \\textbf{z} & \\textbf{P$> |$z$|$} & \\textbf{[0.025} & \\textbf{0.975]}  \\\\\n",
       "\\midrule\n",
       "\\textbf{sigma2} &    3.447e+07  &     4.32e+06     &     7.972  &         0.000        &      2.6e+07    &     4.29e+07     \\\\\n",
       "\\bottomrule\n",
       "\\end{tabular}\n",
       "\\begin{tabular}{lclc}\n",
       "\\textbf{Ljung-Box (L1) (Q):}     & 73.39 & \\textbf{  Jarque-Bera (JB):  } & 0.22  \\\\\n",
       "\\textbf{Prob(Q):}                &  0.00 & \\textbf{  Prob(JB):          } & 0.90  \\\\\n",
       "\\textbf{Heteroskedasticity (H):} &  0.70 & \\textbf{  Skew:              } & 0.09  \\\\\n",
       "\\textbf{Prob(H) (two-sided):}    &  0.26 & \\textbf{  Kurtosis:          } & 3.09  \\\\\n",
       "\\bottomrule\n",
       "\\end{tabular}\n",
       "%\\caption{SARIMAX Results}\n",
       "\\end{center}\n",
       "\n",
       "Warnings: \\newline\n",
       " [1] Covariance matrix calculated using the outer product of gradients (complex-step)."
      ],
      "text/plain": [
       "<class 'statsmodels.iolib.summary.Summary'>\n",
       "\"\"\"\n",
       "                               SARIMAX Results                                \n",
       "==============================================================================\n",
       "Dep. Variable:                   6796   No. Observations:                  124\n",
       "Model:               SARIMAX(0, 1, 0)   Log Likelihood               -1242.396\n",
       "Date:                Thu, 06 Jul 2023   AIC                           2486.793\n",
       "Time:                        14:38:50   BIC                           2489.605\n",
       "Sample:                    01-01-2008   HQIC                          2487.935\n",
       "                         - 04-01-2018                                         \n",
       "Covariance Type:                  opg                                         \n",
       "==============================================================================\n",
       "                 coef    std err          z      P>|z|      [0.025      0.975]\n",
       "------------------------------------------------------------------------------\n",
       "sigma2      3.447e+07   4.32e+06      7.972      0.000     2.6e+07    4.29e+07\n",
       "===================================================================================\n",
       "Ljung-Box (L1) (Q):                  73.39   Jarque-Bera (JB):                 0.22\n",
       "Prob(Q):                              0.00   Prob(JB):                         0.90\n",
       "Heteroskedasticity (H):               0.70   Skew:                             0.09\n",
       "Prob(H) (two-sided):                  0.26   Kurtosis:                         3.09\n",
       "===================================================================================\n",
       "\n",
       "Warnings:\n",
       "[1] Covariance matrix calculated using the outer product of gradients (complex-step).\n",
       "\"\"\""
      ]
     },
     "metadata": {},
     "output_type": "display_data"
    },
    {
     "data": {
      "image/png": "[encoded data removed]",
      "text/plain": [
       "<Figure size 576x396 with 1 Axes>"
      ]
     },
     "metadata": {
      "needs_background": "light"
     },
     "output_type": "display_data"
    },
    {
     "name": "stdout",
     "output_type": "stream",
     "text": [
      "------------------------------------------------------------\n",
      "\n"
     ]
    }
   ],
   "source": [
    "RESULTS = {}\n",
    "\n",
    "for zipcode in zipcode_list:\n",
    "    print(zipcode)\n",
    "    \n",
    "    ## Make empty dict for ZIP data\n",
    "    zipcode_d = {}\n",
    "    \n",
    "    ## Copy Time Series\n",
    "    ts = ts_df[zipcode].copy()\n",
    "    \n",
    "    \n",
    "    ## Train Test Split Index\n",
    "    train_size = 0.8\n",
    "    split_idx = round(len(ts)* train_size)\n",
    "\n",
    "    ## Split\n",
    "    train = ts.iloc[:split_idx]\n",
    "    test = ts.iloc[split_idx:]\n",
    "    \n",
    "    \n",
    "    ## Get best params using auto_arima\n",
    "    gridsearch_model = auto_arima(ts,start_p=0,start_q=0)\n",
    "    best_model = SARIMAX(ts,order=gridsearch_model.order,\n",
    "                     seasonal_order=gridsearch_model.seasonal_order).fit()\n",
    "    \n",
    "    \n",
    "    \n",
    "    ## Get predictions\n",
    "    pred  = best_model.get_forecast(steps=36)#start=test.index[0],end=test.index[-1])\n",
    "    pred_df = forecast_to_df(pred,zipcode)\n",
    "    \n",
    "    # RMSE Fitting into all ZIP Codes\n",
    "    RMSE = mean_squared_error(ts.tail(36), pred_df['prediction'], squared= False)\n",
    "    y_min = ts.min()\n",
    "    y_max = ts.max()\n",
    "    Norm_divide = y_max-y_min\n",
    "    Norm = RMSE/Norm_divide\n",
    "    print (f'RMSE for this ZIP Code is {Norm}')\n",
    "    \n",
    "    \n",
    "    ## Save info to dict\n",
    "    zipcode_d['pred_df'] = pred_df\n",
    "    zipcode_d['model'] = best_model\n",
    "    zipcode_d['train'] = train\n",
    "    zipcode_d['test'] = test\n",
    "    \n",
    "    ## Display Results\n",
    "    display(best_model.summary())\n",
    "    plot_train_test_pred(train,test,pred_df)\n",
    "    plt.xlabel('Year')\n",
    "    plt.ylabel('Value in US Dollars ($)')\n",
    "    plt.show()\n",
    "    \n",
    "    \n",
    "    ## Save district dict in RESULTS\n",
    "    RESULTS[zipcode] = zipcode_d\n",
    "    print('---'*20,end='\\n\\n')"
   ]
  },
  {
   "cell_type": "markdown",
   "metadata": {},
   "source": [
    "## Top 5 Zip Codes Recommendations"
   ]
  },
  {
   "cell_type": "code",
   "execution_count": 58,
   "metadata": {},
   "outputs": [],
   "source": [
    "%store -r melted_df"
   ]
  },
  {
   "cell_type": "markdown",
   "metadata": {},
   "source": [
    "##### Zip Code 6069"
   ]
  },
  {
   "cell_type": "code",
   "execution_count": 59,
   "metadata": {},
   "outputs": [
    {
     "data": {
      "text/html": [
       "<div>\n",
       "<style scoped>\n",
       "    .dataframe tbody tr th:only-of-type {\n",
       "        vertical-align: middle;\n",
       "    }\n",
       "\n",
       "    .dataframe tbody tr th {\n",
       "        vertical-align: top;\n",
       "    }\n",
       "\n",
       "    .dataframe thead th {\n",
       "        text-align: right;\n",
       "    }\n",
       "</style>\n",
       "<table border=\"1\" class=\"dataframe\">\n",
       "  <thead>\n",
       "    <tr style=\"text-align: right;\">\n",
       "      <th></th>\n",
       "      <th>Zipcode</th>\n",
       "      <th>Metro</th>\n",
       "      <th>SizeRank</th>\n",
       "      <th>ROI_5yr</th>\n",
       "      <th>ROI_3yr</th>\n",
       "      <th>value</th>\n",
       "    </tr>\n",
       "    <tr>\n",
       "      <th>Date</th>\n",
       "      <th></th>\n",
       "      <th></th>\n",
       "      <th></th>\n",
       "      <th></th>\n",
       "      <th></th>\n",
       "      <th></th>\n",
       "    </tr>\n",
       "  </thead>\n",
       "  <tbody>\n",
       "    <tr>\n",
       "      <th>2008-01-01</th>\n",
       "      <td>6069</td>\n",
       "      <td>Torrington</td>\n",
       "      <td>12310</td>\n",
       "      <td>0.2366</td>\n",
       "      <td>0.2412</td>\n",
       "      <td>436300.0</td>\n",
       "    </tr>\n",
       "    <tr>\n",
       "      <th>2008-02-01</th>\n",
       "      <td>6069</td>\n",
       "      <td>Torrington</td>\n",
       "      <td>12310</td>\n",
       "      <td>0.2366</td>\n",
       "      <td>0.2412</td>\n",
       "      <td>437000.0</td>\n",
       "    </tr>\n",
       "    <tr>\n",
       "      <th>2008-03-01</th>\n",
       "      <td>6069</td>\n",
       "      <td>Torrington</td>\n",
       "      <td>12310</td>\n",
       "      <td>0.2366</td>\n",
       "      <td>0.2412</td>\n",
       "      <td>436300.0</td>\n",
       "    </tr>\n",
       "    <tr>\n",
       "      <th>2008-04-01</th>\n",
       "      <td>6069</td>\n",
       "      <td>Torrington</td>\n",
       "      <td>12310</td>\n",
       "      <td>0.2366</td>\n",
       "      <td>0.2412</td>\n",
       "      <td>434900.0</td>\n",
       "    </tr>\n",
       "    <tr>\n",
       "      <th>2008-05-01</th>\n",
       "      <td>6069</td>\n",
       "      <td>Torrington</td>\n",
       "      <td>12310</td>\n",
       "      <td>0.2366</td>\n",
       "      <td>0.2412</td>\n",
       "      <td>433700.0</td>\n",
       "    </tr>\n",
       "    <tr>\n",
       "      <th>...</th>\n",
       "      <td>...</td>\n",
       "      <td>...</td>\n",
       "      <td>...</td>\n",
       "      <td>...</td>\n",
       "      <td>...</td>\n",
       "      <td>...</td>\n",
       "    </tr>\n",
       "    <tr>\n",
       "      <th>2017-12-01</th>\n",
       "      <td>6069</td>\n",
       "      <td>Torrington</td>\n",
       "      <td>12310</td>\n",
       "      <td>0.2366</td>\n",
       "      <td>0.2412</td>\n",
       "      <td>365800.0</td>\n",
       "    </tr>\n",
       "    <tr>\n",
       "      <th>2018-01-01</th>\n",
       "      <td>6069</td>\n",
       "      <td>Torrington</td>\n",
       "      <td>12310</td>\n",
       "      <td>0.2366</td>\n",
       "      <td>0.2412</td>\n",
       "      <td>370900.0</td>\n",
       "    </tr>\n",
       "    <tr>\n",
       "      <th>2018-02-01</th>\n",
       "      <td>6069</td>\n",
       "      <td>Torrington</td>\n",
       "      <td>12310</td>\n",
       "      <td>0.2366</td>\n",
       "      <td>0.2412</td>\n",
       "      <td>375900.0</td>\n",
       "    </tr>\n",
       "    <tr>\n",
       "      <th>2018-03-01</th>\n",
       "      <td>6069</td>\n",
       "      <td>Torrington</td>\n",
       "      <td>12310</td>\n",
       "      <td>0.2366</td>\n",
       "      <td>0.2412</td>\n",
       "      <td>386500.0</td>\n",
       "    </tr>\n",
       "    <tr>\n",
       "      <th>2018-04-01</th>\n",
       "      <td>6069</td>\n",
       "      <td>Torrington</td>\n",
       "      <td>12310</td>\n",
       "      <td>0.2366</td>\n",
       "      <td>0.2412</td>\n",
       "      <td>397200.0</td>\n",
       "    </tr>\n",
       "  </tbody>\n",
       "</table>\n",
       "<p>124 rows × 6 columns</p>\n",
       "</div>"
      ],
      "text/plain": [
       "           Zipcode       Metro  SizeRank  ROI_5yr  ROI_3yr     value\n",
       "Date                                                                \n",
       "2008-01-01    6069  Torrington     12310   0.2366   0.2412  436300.0\n",
       "2008-02-01    6069  Torrington     12310   0.2366   0.2412  437000.0\n",
       "2008-03-01    6069  Torrington     12310   0.2366   0.2412  436300.0\n",
       "2008-04-01    6069  Torrington     12310   0.2366   0.2412  434900.0\n",
       "2008-05-01    6069  Torrington     12310   0.2366   0.2412  433700.0\n",
       "...            ...         ...       ...      ...      ...       ...\n",
       "2017-12-01    6069  Torrington     12310   0.2366   0.2412  365800.0\n",
       "2018-01-01    6069  Torrington     12310   0.2366   0.2412  370900.0\n",
       "2018-02-01    6069  Torrington     12310   0.2366   0.2412  375900.0\n",
       "2018-03-01    6069  Torrington     12310   0.2366   0.2412  386500.0\n",
       "2018-04-01    6069  Torrington     12310   0.2366   0.2412  397200.0\n",
       "\n",
       "[124 rows x 6 columns]"
      ]
     },
     "execution_count": 59,
     "metadata": {},
     "output_type": "execute_result"
    }
   ],
   "source": [
    "melted_df.loc[melted_df['Zipcode']=='6069']\n"
   ]
  },
  {
   "cell_type": "markdown",
   "metadata": {},
   "source": [
    "##### Zip Code 6610"
   ]
  },
  {
   "cell_type": "code",
   "execution_count": 60,
   "metadata": {},
   "outputs": [
    {
     "data": {
      "text/html": [
       "<div>\n",
       "<style scoped>\n",
       "    .dataframe tbody tr th:only-of-type {\n",
       "        vertical-align: middle;\n",
       "    }\n",
       "\n",
       "    .dataframe tbody tr th {\n",
       "        vertical-align: top;\n",
       "    }\n",
       "\n",
       "    .dataframe thead th {\n",
       "        text-align: right;\n",
       "    }\n",
       "</style>\n",
       "<table border=\"1\" class=\"dataframe\">\n",
       "  <thead>\n",
       "    <tr style=\"text-align: right;\">\n",
       "      <th></th>\n",
       "      <th>Zipcode</th>\n",
       "      <th>Metro</th>\n",
       "      <th>SizeRank</th>\n",
       "      <th>ROI_5yr</th>\n",
       "      <th>ROI_3yr</th>\n",
       "      <th>value</th>\n",
       "    </tr>\n",
       "    <tr>\n",
       "      <th>Date</th>\n",
       "      <th></th>\n",
       "      <th></th>\n",
       "      <th></th>\n",
       "      <th></th>\n",
       "      <th></th>\n",
       "      <th></th>\n",
       "    </tr>\n",
       "  </thead>\n",
       "  <tbody>\n",
       "    <tr>\n",
       "      <th>2008-01-01</th>\n",
       "      <td>6610</td>\n",
       "      <td>Stamford</td>\n",
       "      <td>4717</td>\n",
       "      <td>0.2999</td>\n",
       "      <td>0.3111</td>\n",
       "      <td>216600.0</td>\n",
       "    </tr>\n",
       "    <tr>\n",
       "      <th>2008-02-01</th>\n",
       "      <td>6610</td>\n",
       "      <td>Stamford</td>\n",
       "      <td>4717</td>\n",
       "      <td>0.2999</td>\n",
       "      <td>0.3111</td>\n",
       "      <td>213100.0</td>\n",
       "    </tr>\n",
       "    <tr>\n",
       "      <th>2008-03-01</th>\n",
       "      <td>6610</td>\n",
       "      <td>Stamford</td>\n",
       "      <td>4717</td>\n",
       "      <td>0.2999</td>\n",
       "      <td>0.3111</td>\n",
       "      <td>210100.0</td>\n",
       "    </tr>\n",
       "    <tr>\n",
       "      <th>2008-04-01</th>\n",
       "      <td>6610</td>\n",
       "      <td>Stamford</td>\n",
       "      <td>4717</td>\n",
       "      <td>0.2999</td>\n",
       "      <td>0.3111</td>\n",
       "      <td>207500.0</td>\n",
       "    </tr>\n",
       "    <tr>\n",
       "      <th>2008-05-01</th>\n",
       "      <td>6610</td>\n",
       "      <td>Stamford</td>\n",
       "      <td>4717</td>\n",
       "      <td>0.2999</td>\n",
       "      <td>0.3111</td>\n",
       "      <td>205100.0</td>\n",
       "    </tr>\n",
       "    <tr>\n",
       "      <th>...</th>\n",
       "      <td>...</td>\n",
       "      <td>...</td>\n",
       "      <td>...</td>\n",
       "      <td>...</td>\n",
       "      <td>...</td>\n",
       "      <td>...</td>\n",
       "    </tr>\n",
       "    <tr>\n",
       "      <th>2017-12-01</th>\n",
       "      <td>6610</td>\n",
       "      <td>Stamford</td>\n",
       "      <td>4717</td>\n",
       "      <td>0.2999</td>\n",
       "      <td>0.3111</td>\n",
       "      <td>160400.0</td>\n",
       "    </tr>\n",
       "    <tr>\n",
       "      <th>2018-01-01</th>\n",
       "      <td>6610</td>\n",
       "      <td>Stamford</td>\n",
       "      <td>4717</td>\n",
       "      <td>0.2999</td>\n",
       "      <td>0.3111</td>\n",
       "      <td>162200.0</td>\n",
       "    </tr>\n",
       "    <tr>\n",
       "      <th>2018-02-01</th>\n",
       "      <td>6610</td>\n",
       "      <td>Stamford</td>\n",
       "      <td>4717</td>\n",
       "      <td>0.2999</td>\n",
       "      <td>0.3111</td>\n",
       "      <td>163900.0</td>\n",
       "    </tr>\n",
       "    <tr>\n",
       "      <th>2018-03-01</th>\n",
       "      <td>6610</td>\n",
       "      <td>Stamford</td>\n",
       "      <td>4717</td>\n",
       "      <td>0.2999</td>\n",
       "      <td>0.3111</td>\n",
       "      <td>165900.0</td>\n",
       "    </tr>\n",
       "    <tr>\n",
       "      <th>2018-04-01</th>\n",
       "      <td>6610</td>\n",
       "      <td>Stamford</td>\n",
       "      <td>4717</td>\n",
       "      <td>0.2999</td>\n",
       "      <td>0.3111</td>\n",
       "      <td>167300.0</td>\n",
       "    </tr>\n",
       "  </tbody>\n",
       "</table>\n",
       "<p>124 rows × 6 columns</p>\n",
       "</div>"
      ],
      "text/plain": [
       "           Zipcode     Metro  SizeRank  ROI_5yr  ROI_3yr     value\n",
       "Date                                                              \n",
       "2008-01-01    6610  Stamford      4717   0.2999   0.3111  216600.0\n",
       "2008-02-01    6610  Stamford      4717   0.2999   0.3111  213100.0\n",
       "2008-03-01    6610  Stamford      4717   0.2999   0.3111  210100.0\n",
       "2008-04-01    6610  Stamford      4717   0.2999   0.3111  207500.0\n",
       "2008-05-01    6610  Stamford      4717   0.2999   0.3111  205100.0\n",
       "...            ...       ...       ...      ...      ...       ...\n",
       "2017-12-01    6610  Stamford      4717   0.2999   0.3111  160400.0\n",
       "2018-01-01    6610  Stamford      4717   0.2999   0.3111  162200.0\n",
       "2018-02-01    6610  Stamford      4717   0.2999   0.3111  163900.0\n",
       "2018-03-01    6610  Stamford      4717   0.2999   0.3111  165900.0\n",
       "2018-04-01    6610  Stamford      4717   0.2999   0.3111  167300.0\n",
       "\n",
       "[124 rows x 6 columns]"
      ]
     },
     "execution_count": 60,
     "metadata": {},
     "output_type": "execute_result"
    }
   ],
   "source": [
    "melted_df.loc[melted_df['Zipcode']=='6610']"
   ]
  },
  {
   "cell_type": "markdown",
   "metadata": {},
   "source": [
    "##### Zip Code 6330"
   ]
  },
  {
   "cell_type": "code",
   "execution_count": 61,
   "metadata": {},
   "outputs": [
    {
     "data": {
      "text/html": [
       "<div>\n",
       "<style scoped>\n",
       "    .dataframe tbody tr th:only-of-type {\n",
       "        vertical-align: middle;\n",
       "    }\n",
       "\n",
       "    .dataframe tbody tr th {\n",
       "        vertical-align: top;\n",
       "    }\n",
       "\n",
       "    .dataframe thead th {\n",
       "        text-align: right;\n",
       "    }\n",
       "</style>\n",
       "<table border=\"1\" class=\"dataframe\">\n",
       "  <thead>\n",
       "    <tr style=\"text-align: right;\">\n",
       "      <th></th>\n",
       "      <th>Zipcode</th>\n",
       "      <th>Metro</th>\n",
       "      <th>SizeRank</th>\n",
       "      <th>ROI_5yr</th>\n",
       "      <th>ROI_3yr</th>\n",
       "      <th>value</th>\n",
       "    </tr>\n",
       "    <tr>\n",
       "      <th>Date</th>\n",
       "      <th></th>\n",
       "      <th></th>\n",
       "      <th></th>\n",
       "      <th></th>\n",
       "      <th></th>\n",
       "      <th></th>\n",
       "    </tr>\n",
       "  </thead>\n",
       "  <tbody>\n",
       "    <tr>\n",
       "      <th>2008-01-01</th>\n",
       "      <td>6330</td>\n",
       "      <td>New London</td>\n",
       "      <td>12817</td>\n",
       "      <td>0.1107</td>\n",
       "      <td>0.2078</td>\n",
       "      <td>232100.0</td>\n",
       "    </tr>\n",
       "    <tr>\n",
       "      <th>2008-02-01</th>\n",
       "      <td>6330</td>\n",
       "      <td>New London</td>\n",
       "      <td>12817</td>\n",
       "      <td>0.1107</td>\n",
       "      <td>0.2078</td>\n",
       "      <td>230400.0</td>\n",
       "    </tr>\n",
       "    <tr>\n",
       "      <th>2008-03-01</th>\n",
       "      <td>6330</td>\n",
       "      <td>New London</td>\n",
       "      <td>12817</td>\n",
       "      <td>0.1107</td>\n",
       "      <td>0.2078</td>\n",
       "      <td>228900.0</td>\n",
       "    </tr>\n",
       "    <tr>\n",
       "      <th>2008-04-01</th>\n",
       "      <td>6330</td>\n",
       "      <td>New London</td>\n",
       "      <td>12817</td>\n",
       "      <td>0.1107</td>\n",
       "      <td>0.2078</td>\n",
       "      <td>227800.0</td>\n",
       "    </tr>\n",
       "    <tr>\n",
       "      <th>2008-05-01</th>\n",
       "      <td>6330</td>\n",
       "      <td>New London</td>\n",
       "      <td>12817</td>\n",
       "      <td>0.1107</td>\n",
       "      <td>0.2078</td>\n",
       "      <td>226700.0</td>\n",
       "    </tr>\n",
       "    <tr>\n",
       "      <th>...</th>\n",
       "      <td>...</td>\n",
       "      <td>...</td>\n",
       "      <td>...</td>\n",
       "      <td>...</td>\n",
       "      <td>...</td>\n",
       "      <td>...</td>\n",
       "    </tr>\n",
       "    <tr>\n",
       "      <th>2017-12-01</th>\n",
       "      <td>6330</td>\n",
       "      <td>New London</td>\n",
       "      <td>12817</td>\n",
       "      <td>0.1107</td>\n",
       "      <td>0.2078</td>\n",
       "      <td>194700.0</td>\n",
       "    </tr>\n",
       "    <tr>\n",
       "      <th>2018-01-01</th>\n",
       "      <td>6330</td>\n",
       "      <td>New London</td>\n",
       "      <td>12817</td>\n",
       "      <td>0.1107</td>\n",
       "      <td>0.2078</td>\n",
       "      <td>195200.0</td>\n",
       "    </tr>\n",
       "    <tr>\n",
       "      <th>2018-02-01</th>\n",
       "      <td>6330</td>\n",
       "      <td>New London</td>\n",
       "      <td>12817</td>\n",
       "      <td>0.1107</td>\n",
       "      <td>0.2078</td>\n",
       "      <td>195800.0</td>\n",
       "    </tr>\n",
       "    <tr>\n",
       "      <th>2018-03-01</th>\n",
       "      <td>6330</td>\n",
       "      <td>New London</td>\n",
       "      <td>12817</td>\n",
       "      <td>0.1107</td>\n",
       "      <td>0.2078</td>\n",
       "      <td>197000.0</td>\n",
       "    </tr>\n",
       "    <tr>\n",
       "      <th>2018-04-01</th>\n",
       "      <td>6330</td>\n",
       "      <td>New London</td>\n",
       "      <td>12817</td>\n",
       "      <td>0.1107</td>\n",
       "      <td>0.2078</td>\n",
       "      <td>197600.0</td>\n",
       "    </tr>\n",
       "  </tbody>\n",
       "</table>\n",
       "<p>124 rows × 6 columns</p>\n",
       "</div>"
      ],
      "text/plain": [
       "           Zipcode       Metro  SizeRank  ROI_5yr  ROI_3yr     value\n",
       "Date                                                                \n",
       "2008-01-01    6330  New London     12817   0.1107   0.2078  232100.0\n",
       "2008-02-01    6330  New London     12817   0.1107   0.2078  230400.0\n",
       "2008-03-01    6330  New London     12817   0.1107   0.2078  228900.0\n",
       "2008-04-01    6330  New London     12817   0.1107   0.2078  227800.0\n",
       "2008-05-01    6330  New London     12817   0.1107   0.2078  226700.0\n",
       "...            ...         ...       ...      ...      ...       ...\n",
       "2017-12-01    6330  New London     12817   0.1107   0.2078  194700.0\n",
       "2018-01-01    6330  New London     12817   0.1107   0.2078  195200.0\n",
       "2018-02-01    6330  New London     12817   0.1107   0.2078  195800.0\n",
       "2018-03-01    6330  New London     12817   0.1107   0.2078  197000.0\n",
       "2018-04-01    6330  New London     12817   0.1107   0.2078  197600.0\n",
       "\n",
       "[124 rows x 6 columns]"
      ]
     },
     "execution_count": 61,
     "metadata": {},
     "output_type": "execute_result"
    }
   ],
   "source": [
    "melted_df.loc[melted_df['Zipcode']=='6330']"
   ]
  },
  {
   "cell_type": "markdown",
   "metadata": {},
   "source": [
    "##### Zip Code 6039"
   ]
  },
  {
   "cell_type": "code",
   "execution_count": 62,
   "metadata": {},
   "outputs": [
    {
     "data": {
      "text/html": [
       "<div>\n",
       "<style scoped>\n",
       "    .dataframe tbody tr th:only-of-type {\n",
       "        vertical-align: middle;\n",
       "    }\n",
       "\n",
       "    .dataframe tbody tr th {\n",
       "        vertical-align: top;\n",
       "    }\n",
       "\n",
       "    .dataframe thead th {\n",
       "        text-align: right;\n",
       "    }\n",
       "</style>\n",
       "<table border=\"1\" class=\"dataframe\">\n",
       "  <thead>\n",
       "    <tr style=\"text-align: right;\">\n",
       "      <th></th>\n",
       "      <th>Zipcode</th>\n",
       "      <th>Metro</th>\n",
       "      <th>SizeRank</th>\n",
       "      <th>ROI_5yr</th>\n",
       "      <th>ROI_3yr</th>\n",
       "      <th>value</th>\n",
       "    </tr>\n",
       "    <tr>\n",
       "      <th>Date</th>\n",
       "      <th></th>\n",
       "      <th></th>\n",
       "      <th></th>\n",
       "      <th></th>\n",
       "      <th></th>\n",
       "      <th></th>\n",
       "    </tr>\n",
       "  </thead>\n",
       "  <tbody>\n",
       "    <tr>\n",
       "      <th>2008-01-01</th>\n",
       "      <td>6039</td>\n",
       "      <td>Torrington</td>\n",
       "      <td>13065</td>\n",
       "      <td>0.3212</td>\n",
       "      <td>0.1861</td>\n",
       "      <td>535900.0</td>\n",
       "    </tr>\n",
       "    <tr>\n",
       "      <th>2008-02-01</th>\n",
       "      <td>6039</td>\n",
       "      <td>Torrington</td>\n",
       "      <td>13065</td>\n",
       "      <td>0.3212</td>\n",
       "      <td>0.1861</td>\n",
       "      <td>537700.0</td>\n",
       "    </tr>\n",
       "    <tr>\n",
       "      <th>2008-03-01</th>\n",
       "      <td>6039</td>\n",
       "      <td>Torrington</td>\n",
       "      <td>13065</td>\n",
       "      <td>0.3212</td>\n",
       "      <td>0.1861</td>\n",
       "      <td>538100.0</td>\n",
       "    </tr>\n",
       "    <tr>\n",
       "      <th>2008-04-01</th>\n",
       "      <td>6039</td>\n",
       "      <td>Torrington</td>\n",
       "      <td>13065</td>\n",
       "      <td>0.3212</td>\n",
       "      <td>0.1861</td>\n",
       "      <td>538300.0</td>\n",
       "    </tr>\n",
       "    <tr>\n",
       "      <th>2008-05-01</th>\n",
       "      <td>6039</td>\n",
       "      <td>Torrington</td>\n",
       "      <td>13065</td>\n",
       "      <td>0.3212</td>\n",
       "      <td>0.1861</td>\n",
       "      <td>536700.0</td>\n",
       "    </tr>\n",
       "    <tr>\n",
       "      <th>...</th>\n",
       "      <td>...</td>\n",
       "      <td>...</td>\n",
       "      <td>...</td>\n",
       "      <td>...</td>\n",
       "      <td>...</td>\n",
       "      <td>...</td>\n",
       "    </tr>\n",
       "    <tr>\n",
       "      <th>2017-12-01</th>\n",
       "      <td>6039</td>\n",
       "      <td>Torrington</td>\n",
       "      <td>13065</td>\n",
       "      <td>0.3212</td>\n",
       "      <td>0.1861</td>\n",
       "      <td>468200.0</td>\n",
       "    </tr>\n",
       "    <tr>\n",
       "      <th>2018-01-01</th>\n",
       "      <td>6039</td>\n",
       "      <td>Torrington</td>\n",
       "      <td>13065</td>\n",
       "      <td>0.3212</td>\n",
       "      <td>0.1861</td>\n",
       "      <td>471500.0</td>\n",
       "    </tr>\n",
       "    <tr>\n",
       "      <th>2018-02-01</th>\n",
       "      <td>6039</td>\n",
       "      <td>Torrington</td>\n",
       "      <td>13065</td>\n",
       "      <td>0.3212</td>\n",
       "      <td>0.1861</td>\n",
       "      <td>473700.0</td>\n",
       "    </tr>\n",
       "    <tr>\n",
       "      <th>2018-03-01</th>\n",
       "      <td>6039</td>\n",
       "      <td>Torrington</td>\n",
       "      <td>13065</td>\n",
       "      <td>0.3212</td>\n",
       "      <td>0.1861</td>\n",
       "      <td>476000.0</td>\n",
       "    </tr>\n",
       "    <tr>\n",
       "      <th>2018-04-01</th>\n",
       "      <td>6039</td>\n",
       "      <td>Torrington</td>\n",
       "      <td>13065</td>\n",
       "      <td>0.3212</td>\n",
       "      <td>0.1861</td>\n",
       "      <td>480000.0</td>\n",
       "    </tr>\n",
       "  </tbody>\n",
       "</table>\n",
       "<p>124 rows × 6 columns</p>\n",
       "</div>"
      ],
      "text/plain": [
       "           Zipcode       Metro  SizeRank  ROI_5yr  ROI_3yr     value\n",
       "Date                                                                \n",
       "2008-01-01    6039  Torrington     13065   0.3212   0.1861  535900.0\n",
       "2008-02-01    6039  Torrington     13065   0.3212   0.1861  537700.0\n",
       "2008-03-01    6039  Torrington     13065   0.3212   0.1861  538100.0\n",
       "2008-04-01    6039  Torrington     13065   0.3212   0.1861  538300.0\n",
       "2008-05-01    6039  Torrington     13065   0.3212   0.1861  536700.0\n",
       "...            ...         ...       ...      ...      ...       ...\n",
       "2017-12-01    6039  Torrington     13065   0.3212   0.1861  468200.0\n",
       "2018-01-01    6039  Torrington     13065   0.3212   0.1861  471500.0\n",
       "2018-02-01    6039  Torrington     13065   0.3212   0.1861  473700.0\n",
       "2018-03-01    6039  Torrington     13065   0.3212   0.1861  476000.0\n",
       "2018-04-01    6039  Torrington     13065   0.3212   0.1861  480000.0\n",
       "\n",
       "[124 rows x 6 columns]"
      ]
     },
     "execution_count": 62,
     "metadata": {},
     "output_type": "execute_result"
    }
   ],
   "source": [
    "melted_df.loc[melted_df['Zipcode']=='6039']"
   ]
  },
  {
   "cell_type": "markdown",
   "metadata": {},
   "source": [
    "##### Zip Code 6058"
   ]
  },
  {
   "cell_type": "code",
   "execution_count": 63,
   "metadata": {},
   "outputs": [
    {
     "data": {
      "text/html": [
       "<div>\n",
       "<style scoped>\n",
       "    .dataframe tbody tr th:only-of-type {\n",
       "        vertical-align: middle;\n",
       "    }\n",
       "\n",
       "    .dataframe tbody tr th {\n",
       "        vertical-align: top;\n",
       "    }\n",
       "\n",
       "    .dataframe thead th {\n",
       "        text-align: right;\n",
       "    }\n",
       "</style>\n",
       "<table border=\"1\" class=\"dataframe\">\n",
       "  <thead>\n",
       "    <tr style=\"text-align: right;\">\n",
       "      <th></th>\n",
       "      <th>Zipcode</th>\n",
       "      <th>Metro</th>\n",
       "      <th>SizeRank</th>\n",
       "      <th>ROI_5yr</th>\n",
       "      <th>ROI_3yr</th>\n",
       "      <th>value</th>\n",
       "    </tr>\n",
       "    <tr>\n",
       "      <th>Date</th>\n",
       "      <th></th>\n",
       "      <th></th>\n",
       "      <th></th>\n",
       "      <th></th>\n",
       "      <th></th>\n",
       "      <th></th>\n",
       "    </tr>\n",
       "  </thead>\n",
       "  <tbody>\n",
       "    <tr>\n",
       "      <th>2008-01-01</th>\n",
       "      <td>6058</td>\n",
       "      <td>Torrington</td>\n",
       "      <td>13564</td>\n",
       "      <td>0.4158</td>\n",
       "      <td>0.1849</td>\n",
       "      <td>350900.0</td>\n",
       "    </tr>\n",
       "    <tr>\n",
       "      <th>2008-02-01</th>\n",
       "      <td>6058</td>\n",
       "      <td>Torrington</td>\n",
       "      <td>13564</td>\n",
       "      <td>0.4158</td>\n",
       "      <td>0.1849</td>\n",
       "      <td>345200.0</td>\n",
       "    </tr>\n",
       "    <tr>\n",
       "      <th>2008-03-01</th>\n",
       "      <td>6058</td>\n",
       "      <td>Torrington</td>\n",
       "      <td>13564</td>\n",
       "      <td>0.4158</td>\n",
       "      <td>0.1849</td>\n",
       "      <td>340000.0</td>\n",
       "    </tr>\n",
       "    <tr>\n",
       "      <th>2008-04-01</th>\n",
       "      <td>6058</td>\n",
       "      <td>Torrington</td>\n",
       "      <td>13564</td>\n",
       "      <td>0.4158</td>\n",
       "      <td>0.1849</td>\n",
       "      <td>336800.0</td>\n",
       "    </tr>\n",
       "    <tr>\n",
       "      <th>2008-05-01</th>\n",
       "      <td>6058</td>\n",
       "      <td>Torrington</td>\n",
       "      <td>13564</td>\n",
       "      <td>0.4158</td>\n",
       "      <td>0.1849</td>\n",
       "      <td>336500.0</td>\n",
       "    </tr>\n",
       "    <tr>\n",
       "      <th>...</th>\n",
       "      <td>...</td>\n",
       "      <td>...</td>\n",
       "      <td>...</td>\n",
       "      <td>...</td>\n",
       "      <td>...</td>\n",
       "      <td>...</td>\n",
       "    </tr>\n",
       "    <tr>\n",
       "      <th>2017-12-01</th>\n",
       "      <td>6058</td>\n",
       "      <td>Torrington</td>\n",
       "      <td>13564</td>\n",
       "      <td>0.4158</td>\n",
       "      <td>0.1849</td>\n",
       "      <td>286500.0</td>\n",
       "    </tr>\n",
       "    <tr>\n",
       "      <th>2018-01-01</th>\n",
       "      <td>6058</td>\n",
       "      <td>Torrington</td>\n",
       "      <td>13564</td>\n",
       "      <td>0.4158</td>\n",
       "      <td>0.1849</td>\n",
       "      <td>292100.0</td>\n",
       "    </tr>\n",
       "    <tr>\n",
       "      <th>2018-02-01</th>\n",
       "      <td>6058</td>\n",
       "      <td>Torrington</td>\n",
       "      <td>13564</td>\n",
       "      <td>0.4158</td>\n",
       "      <td>0.1849</td>\n",
       "      <td>298900.0</td>\n",
       "    </tr>\n",
       "    <tr>\n",
       "      <th>2018-03-01</th>\n",
       "      <td>6058</td>\n",
       "      <td>Torrington</td>\n",
       "      <td>13564</td>\n",
       "      <td>0.4158</td>\n",
       "      <td>0.1849</td>\n",
       "      <td>307700.0</td>\n",
       "    </tr>\n",
       "    <tr>\n",
       "      <th>2018-04-01</th>\n",
       "      <td>6058</td>\n",
       "      <td>Torrington</td>\n",
       "      <td>13564</td>\n",
       "      <td>0.4158</td>\n",
       "      <td>0.1849</td>\n",
       "      <td>314600.0</td>\n",
       "    </tr>\n",
       "  </tbody>\n",
       "</table>\n",
       "<p>124 rows × 6 columns</p>\n",
       "</div>"
      ],
      "text/plain": [
       "           Zipcode       Metro  SizeRank  ROI_5yr  ROI_3yr     value\n",
       "Date                                                                \n",
       "2008-01-01    6058  Torrington     13564   0.4158   0.1849  350900.0\n",
       "2008-02-01    6058  Torrington     13564   0.4158   0.1849  345200.0\n",
       "2008-03-01    6058  Torrington     13564   0.4158   0.1849  340000.0\n",
       "2008-04-01    6058  Torrington     13564   0.4158   0.1849  336800.0\n",
       "2008-05-01    6058  Torrington     13564   0.4158   0.1849  336500.0\n",
       "...            ...         ...       ...      ...      ...       ...\n",
       "2017-12-01    6058  Torrington     13564   0.4158   0.1849  286500.0\n",
       "2018-01-01    6058  Torrington     13564   0.4158   0.1849  292100.0\n",
       "2018-02-01    6058  Torrington     13564   0.4158   0.1849  298900.0\n",
       "2018-03-01    6058  Torrington     13564   0.4158   0.1849  307700.0\n",
       "2018-04-01    6058  Torrington     13564   0.4158   0.1849  314600.0\n",
       "\n",
       "[124 rows x 6 columns]"
      ]
     },
     "execution_count": 63,
     "metadata": {},
     "output_type": "execute_result"
    }
   ],
   "source": [
    "melted_df.loc[melted_df['Zipcode']=='6058']"
   ]
  },
  {
   "cell_type": "markdown",
   "metadata": {},
   "source": [
    "# Conclusion - Top 5 ZIP Codes"
   ]
  },
  {
   "cell_type": "markdown",
   "metadata": {},
   "source": [
    "to Invest in these ZIP Codes due to Higher ROI"
   ]
  },
  {
   "cell_type": "markdown",
   "metadata": {},
   "source": [
    "Highest projected ROI: \n",
    "- 6069 = 24.12%,\n",
    "- 6610 = 31%,\n",
    "- 6330 = 21%,\n",
    "- 6039 = 19%,\n",
    "- 6058 = 19%."
   ]
  },
  {
   "cell_type": "code",
   "execution_count": null,
   "metadata": {},
   "outputs": [],
   "source": []
  }
 ],
 "metadata": {
  "kernelspec": {
   "display_name": "Python (learn-env)",
   "language": "python",
   "name": "learn-env"
  },
  "language_info": {
   "codemirror_mode": {
    "name": "ipython",
    "version": 3
   },
   "file_extension": ".py",
   "mimetype": "text/x-python",
   "name": "python",
   "nbconvert_exporter": "python",
   "pygments_lexer": "ipython3",
   "version": "3.8.5"
  },
  "toc": {
   "base_numbering": 1,
   "nav_menu": {},
   "number_sections": true,
   "sideBar": true,
   "skip_h1_title": false,
   "title_cell": "Table of Contents",
   "title_sidebar": "Contents",
   "toc_cell": false,
   "toc_position": {},
   "toc_section_display": true,
   "toc_window_display": false
  }
 },
 "nbformat": 4,
 "nbformat_minor": 4
}
